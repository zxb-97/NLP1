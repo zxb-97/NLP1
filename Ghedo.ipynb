{
  "nbformat": 4,
  "nbformat_minor": 0,
  "metadata": {
    "colab": {
      "provenance": [],
      "machine_shape": "hm",
      "gpuType": "L4",
      "authorship_tag": "ABX9TyMAojLctO3lSeik4B+uxLwj",
      "include_colab_link": true
    },
    "kernelspec": {
      "name": "python3",
      "display_name": "Python 3"
    },
    "language_info": {
      "name": "python"
    },
    "accelerator": "GPU"
  },
  "cells": [
    {
      "cell_type": "markdown",
      "metadata": {
        "id": "view-in-github",
        "colab_type": "text"
      },
      "source": [
        "<a href=\"https://colab.research.google.com/github/zxb-97/NLP1/blob/main/Ghedo.ipynb\" target=\"_parent\"><img src=\"https://colab.research.google.com/assets/colab-badge.svg\" alt=\"Open In Colab\"/></a>"
      ]
    },
    {
      "cell_type": "code",
      "source": [
        "import pandas as pd\n",
        "\n",
        "# 1. Importare le librerie necessarie\n",
        "import pandas as pd\n",
        "\n",
        "# 2. Caricare i dataset\n",
        "# Sostituisci 'path_to_movies_metadata.csv' e 'path_to_credits.csv' con i percorsi effettivi dei tuoi file\n",
        "movies_metadata = pd.read_csv('movies_metadata.csv', low_memory=False)\n",
        "credits = pd.read_csv('credits.csv')\n",
        "\n",
        "# 3. Visualizzare le prime 5 righe del dataset movies_metadata\n",
        "print(\"Prime 5 righe di movies_metadata:\")\n",
        "print(movies_metadata.head())\n",
        "\n",
        "# 4. Visualizzare le informazioni sulle colonne e i tipi di dati di movies_metadata\n",
        "print(\"\\nInformazioni su movies_metadata:\")\n",
        "print(movies_metadata.info())\n",
        "\n",
        "# 5. Visualizzare le prime 5 righe del dataset credits\n",
        "print(\"\\nPrime 5 righe di credits:\")\n",
        "print(credits.head())\n",
        "\n",
        "# 6. Visualizzare le informazioni sulle colonne e i tipi di dati di credits\n",
        "print(\"\\nInformazioni su credits:\")\n",
        "print(credits.info())\n",
        "\n",
        "# 7. Verificare se ci sono valori mancanti nelle colonne chiave di movies_metadata\n",
        "print(\"\\nValori mancanti in movies_metadata:\")\n",
        "print(movies_metadata.isnull().sum())\n",
        "\n",
        "# 8. Verificare se ci sono valori mancanti nelle colonne chiave di credits\n",
        "print(\"\\nValori mancanti in credits:\")\n",
        "print(credits.isnull().sum())\n",
        "\n",
        "# 9. Visualizzare esempi di righe specifiche se necessario\n",
        "# Ad esempio, visualizzare la riga con indice 100 del dataset movies_metadata\n",
        "print(\"\\nEsempio di una riga specifica in movies_metadata (indice 100):\")\n",
        "print(movies_metadata.iloc[100])\n",
        "\n",
        "# Visualizzare la riga con indice 100 del dataset credits\n",
        "print(\"\\nEsempio di una riga specifica in credits (indice 100):\")\n",
        "print(credits.iloc[100])\n"
      ],
      "metadata": {
        "colab": {
          "base_uri": "https://localhost:8080/"
        },
        "id": "J6SmXTCGRPAM",
        "outputId": "8f5d6633-0aaa-473b-a9dc-fb9085ef30ec"
      },
      "execution_count": 3,
      "outputs": [
        {
          "output_type": "stream",
          "name": "stdout",
          "text": [
            "Prime 5 righe di movies_metadata:\n",
            "   adult                              belongs_to_collection    budget  \\\n",
            "0  False  {'id': 10194, 'name': 'Toy Story Collection', ...  30000000   \n",
            "1  False                                                NaN  65000000   \n",
            "2  False  {'id': 119050, 'name': 'Grumpy Old Men Collect...         0   \n",
            "3  False                                                NaN  16000000   \n",
            "4  False  {'id': 96871, 'name': 'Father of the Bride Col...         0   \n",
            "\n",
            "                                              genres  \\\n",
            "0  [{'id': 16, 'name': 'Animation'}, {'id': 35, '...   \n",
            "1  [{'id': 12, 'name': 'Adventure'}, {'id': 14, '...   \n",
            "2  [{'id': 10749, 'name': 'Romance'}, {'id': 35, ...   \n",
            "3  [{'id': 35, 'name': 'Comedy'}, {'id': 18, 'nam...   \n",
            "4                     [{'id': 35, 'name': 'Comedy'}]   \n",
            "\n",
            "                               homepage     id    imdb_id original_language  \\\n",
            "0  http://toystory.disney.com/toy-story    862  tt0114709                en   \n",
            "1                                   NaN   8844  tt0113497                en   \n",
            "2                                   NaN  15602  tt0113228                en   \n",
            "3                                   NaN  31357  tt0114885                en   \n",
            "4                                   NaN  11862  tt0113041                en   \n",
            "\n",
            "                original_title  \\\n",
            "0                    Toy Story   \n",
            "1                      Jumanji   \n",
            "2             Grumpier Old Men   \n",
            "3            Waiting to Exhale   \n",
            "4  Father of the Bride Part II   \n",
            "\n",
            "                                            overview  ... release_date  \\\n",
            "0  Led by Woody, Andy's toys live happily in his ...  ...   1995-10-30   \n",
            "1  When siblings Judy and Peter discover an encha...  ...   1995-12-15   \n",
            "2  A family wedding reignites the ancient feud be...  ...   1995-12-22   \n",
            "3  Cheated on, mistreated and stepped on, the wom...  ...   1995-12-22   \n",
            "4  Just when George Banks has recovered from his ...  ...   1995-02-10   \n",
            "\n",
            "       revenue runtime                                   spoken_languages  \\\n",
            "0  373554033.0    81.0           [{'iso_639_1': 'en', 'name': 'English'}]   \n",
            "1  262797249.0   104.0  [{'iso_639_1': 'en', 'name': 'English'}, {'iso...   \n",
            "2          0.0   101.0           [{'iso_639_1': 'en', 'name': 'English'}]   \n",
            "3   81452156.0   127.0           [{'iso_639_1': 'en', 'name': 'English'}]   \n",
            "4   76578911.0   106.0           [{'iso_639_1': 'en', 'name': 'English'}]   \n",
            "\n",
            "     status                                            tagline  \\\n",
            "0  Released                                                NaN   \n",
            "1  Released          Roll the dice and unleash the excitement!   \n",
            "2  Released  Still Yelling. Still Fighting. Still Ready for...   \n",
            "3  Released  Friends are the people who let you be yourself...   \n",
            "4  Released  Just When His World Is Back To Normal... He's ...   \n",
            "\n",
            "                         title  video vote_average vote_count  \n",
            "0                    Toy Story  False          7.7     5415.0  \n",
            "1                      Jumanji  False          6.9     2413.0  \n",
            "2             Grumpier Old Men  False          6.5       92.0  \n",
            "3            Waiting to Exhale  False          6.1       34.0  \n",
            "4  Father of the Bride Part II  False          5.7      173.0  \n",
            "\n",
            "[5 rows x 24 columns]\n",
            "\n",
            "Informazioni su movies_metadata:\n",
            "<class 'pandas.core.frame.DataFrame'>\n",
            "RangeIndex: 45466 entries, 0 to 45465\n",
            "Data columns (total 24 columns):\n",
            " #   Column                 Non-Null Count  Dtype  \n",
            "---  ------                 --------------  -----  \n",
            " 0   adult                  45466 non-null  object \n",
            " 1   belongs_to_collection  4494 non-null   object \n",
            " 2   budget                 45466 non-null  object \n",
            " 3   genres                 45466 non-null  object \n",
            " 4   homepage               7782 non-null   object \n",
            " 5   id                     45466 non-null  object \n",
            " 6   imdb_id                45449 non-null  object \n",
            " 7   original_language      45455 non-null  object \n",
            " 8   original_title         45466 non-null  object \n",
            " 9   overview               44512 non-null  object \n",
            " 10  popularity             45461 non-null  object \n",
            " 11  poster_path            45080 non-null  object \n",
            " 12  production_companies   45463 non-null  object \n",
            " 13  production_countries   45463 non-null  object \n",
            " 14  release_date           45379 non-null  object \n",
            " 15  revenue                45460 non-null  float64\n",
            " 16  runtime                45203 non-null  float64\n",
            " 17  spoken_languages       45460 non-null  object \n",
            " 18  status                 45379 non-null  object \n",
            " 19  tagline                20412 non-null  object \n",
            " 20  title                  45460 non-null  object \n",
            " 21  video                  45460 non-null  object \n",
            " 22  vote_average           45460 non-null  float64\n",
            " 23  vote_count             45460 non-null  float64\n",
            "dtypes: float64(4), object(20)\n",
            "memory usage: 8.3+ MB\n",
            "None\n",
            "\n",
            "Prime 5 righe di credits:\n",
            "                                                cast  \\\n",
            "0  [{'cast_id': 14, 'character': 'Woody (voice)',...   \n",
            "1  [{'cast_id': 1, 'character': 'Alan Parrish', '...   \n",
            "2  [{'cast_id': 2, 'character': 'Max Goldman', 'c...   \n",
            "3  [{'cast_id': 1, 'character': \"Savannah 'Vannah...   \n",
            "4  [{'cast_id': 1, 'character': 'George Banks', '...   \n",
            "\n",
            "                                                crew     id  \n",
            "0  [{'credit_id': '52fe4284c3a36847f8024f49', 'de...    862  \n",
            "1  [{'credit_id': '52fe44bfc3a36847f80a7cd1', 'de...   8844  \n",
            "2  [{'credit_id': '52fe466a9251416c75077a89', 'de...  15602  \n",
            "3  [{'credit_id': '52fe44779251416c91011acb', 'de...  31357  \n",
            "4  [{'credit_id': '52fe44959251416c75039ed7', 'de...  11862  \n",
            "\n",
            "Informazioni su credits:\n",
            "<class 'pandas.core.frame.DataFrame'>\n",
            "RangeIndex: 45476 entries, 0 to 45475\n",
            "Data columns (total 3 columns):\n",
            " #   Column  Non-Null Count  Dtype \n",
            "---  ------  --------------  ----- \n",
            " 0   cast    45476 non-null  object\n",
            " 1   crew    45476 non-null  object\n",
            " 2   id      45476 non-null  int64 \n",
            "dtypes: int64(1), object(2)\n",
            "memory usage: 1.0+ MB\n",
            "None\n",
            "\n",
            "Valori mancanti in movies_metadata:\n",
            "adult                        0\n",
            "belongs_to_collection    40972\n",
            "budget                       0\n",
            "genres                       0\n",
            "homepage                 37684\n",
            "id                           0\n",
            "imdb_id                     17\n",
            "original_language           11\n",
            "original_title               0\n",
            "overview                   954\n",
            "popularity                   5\n",
            "poster_path                386\n",
            "production_companies         3\n",
            "production_countries         3\n",
            "release_date                87\n",
            "revenue                      6\n",
            "runtime                    263\n",
            "spoken_languages             6\n",
            "status                      87\n",
            "tagline                  25054\n",
            "title                        6\n",
            "video                        6\n",
            "vote_average                 6\n",
            "vote_count                   6\n",
            "dtype: int64\n",
            "\n",
            "Valori mancanti in credits:\n",
            "cast    0\n",
            "crew    0\n",
            "id      0\n",
            "dtype: int64\n",
            "\n",
            "Esempio di una riga specifica in movies_metadata (indice 100):\n",
            "adult                                                                False\n",
            "belongs_to_collection                                                  NaN\n",
            "budget                                                                   0\n",
            "genres                   [{'id': 35, 'name': 'Comedy'}, {'id': 10749, '...\n",
            "homepage                                                               NaN\n",
            "id                                                                   47475\n",
            "imdb_id                                                          tt0117102\n",
            "original_language                                                       en\n",
            "original_title                                                   Mr. Wrong\n",
            "overview                 A single and lonely woman finds the seemingly ...\n",
            "popularity                                                        3.329264\n",
            "poster_path                               /8oZW1loLEczN1BU60YobsJJFdSR.jpg\n",
            "production_companies         [{'name': 'Touchstone Pictures', 'id': 9195}]\n",
            "production_countries     [{'iso_3166_1': 'US', 'name': 'United States o...\n",
            "release_date                                                    1996-02-16\n",
            "revenue                                                                0.0\n",
            "runtime                                                               96.0\n",
            "spoken_languages                  [{'iso_639_1': 'en', 'name': 'English'}]\n",
            "status                                                            Released\n",
            "tagline                                                                NaN\n",
            "title                                                            Mr. Wrong\n",
            "video                                                                False\n",
            "vote_average                                                           3.3\n",
            "vote_count                                                            16.0\n",
            "Name: 100, dtype: object\n",
            "\n",
            "Esempio di una riga specifica in credits (indice 100):\n",
            "cast    [{'cast_id': 1, 'character': 'Martha Alston', ...\n",
            "crew    [{'credit_id': '52fe4735c3a36847f81291bf', 'de...\n",
            "id                                                  47475\n",
            "Name: 100, dtype: object\n"
          ]
        }
      ]
    },
    {
      "cell_type": "code",
      "source": [
        "import pandas as pd\n",
        "import ast\n",
        "\n",
        "# Carica i dataset (sostituisci con i percorsi corretti)\n",
        "metadata = pd.read_csv('movies_metadata.csv')  # metadata\n",
        "credits = pd.read_csv('credits.csv')   # credits\n",
        "\n",
        "# Converte entrambe le colonne 'id' in stringhe per evitare conflitti di tipo\n",
        "metadata['id'] = metadata['id'].astype(str)\n",
        "credits['id'] = credits['id'].astype(str)\n",
        "\n",
        "# Funzione per estrarre il regista dalla colonna 'crew' nel file credits\n",
        "def get_director(crew_data):\n",
        "    try:\n",
        "        crew = ast.literal_eval(crew_data)\n",
        "        for person in crew:\n",
        "            if person['job'] == 'Director':\n",
        "                return person['name']\n",
        "    except (ValueError, SyntaxError):\n",
        "        return None\n",
        "    return None\n",
        "\n",
        "# Funzione per estrarre i primi 3 attori dalla colonna 'cast' nel file credits\n",
        "def get_top_actors(cast_data, top_n=3):\n",
        "    try:\n",
        "        cast = ast.literal_eval(cast_data)\n",
        "        return ', '.join([actor['name'] for actor in cast[:top_n]])\n",
        "    except (ValueError, SyntaxError):\n",
        "        return None\n",
        "\n",
        "# Funzione per estrarre i generi dalla colonna 'genres' nel file metadata\n",
        "def get_genres(genres_data):\n",
        "    try:\n",
        "        genres = ast.literal_eval(genres_data)\n",
        "        return ', '.join([genre['name'] for genre in genres])\n",
        "    except (ValueError, SyntaxError):\n",
        "        return None\n",
        "\n",
        "# Pre-processamento del dataset metadata\n",
        "metadata['release_date'] = pd.to_datetime(metadata['release_date'], errors='coerce')\n",
        "metadata['year'] = metadata['release_date'].dt.year\n",
        "\n",
        "# Estrarre i generi dal JSON\n",
        "metadata['genres'] = metadata['genres'].apply(get_genres)\n",
        "\n",
        "# Pre-processamento del dataset credits per estrarre attori e regista\n",
        "credits['top_3_actors'] = credits['cast'].apply(get_top_actors)\n",
        "credits['director'] = credits['crew'].apply(get_director)\n",
        "\n",
        "# Unisci i due dataset sul campo 'id' nel metadata e 'id' nel credits\n",
        "merged_data = pd.merge(metadata, credits, left_on='id', right_on='id', how='inner')\n",
        "\n",
        "# Seleziona le colonne rilevanti per il nuovo dataset\n",
        "final_data = merged_data[['id','title', 'genres', 'top_3_actors', 'director', 'year',\n",
        "                          'belongs_to_collection', 'vote_average', 'vote_count']]\n",
        "\n",
        "# Esportare il nuovo dataset in un file CSV\n",
        "final_data.to_csv('merged_movies_metadata.csv', index=False)\n",
        "\n",
        "# Mostra le prime righe del nuovo dataset\n",
        "print(final_data.head())\n"
      ],
      "metadata": {
        "colab": {
          "base_uri": "https://localhost:8080/"
        },
        "id": "9O83sj9GSUuS",
        "outputId": "4127cf2e-c32d-4286-dcdc-6d8815d2c872"
      },
      "execution_count": 2,
      "outputs": [
        {
          "output_type": "stream",
          "name": "stderr",
          "text": [
            "<ipython-input-2-0217fc8414da>:5: DtypeWarning: Columns (10) have mixed types. Specify dtype option on import or set low_memory=False.\n",
            "  metadata = pd.read_csv('movies_metadata.csv')  # metadata\n"
          ]
        },
        {
          "output_type": "stream",
          "name": "stdout",
          "text": [
            "      id                        title                      genres  \\\n",
            "0    862                    Toy Story   Animation, Comedy, Family   \n",
            "1   8844                      Jumanji  Adventure, Fantasy, Family   \n",
            "2  15602             Grumpier Old Men             Romance, Comedy   \n",
            "3  31357            Waiting to Exhale      Comedy, Drama, Romance   \n",
            "4  11862  Father of the Bride Part II                      Comedy   \n",
            "\n",
            "                                      top_3_actors         director    year  \\\n",
            "0                Tom Hanks, Tim Allen, Don Rickles    John Lasseter  1995.0   \n",
            "1     Robin Williams, Jonathan Hyde, Kirsten Dunst     Joe Johnston  1995.0   \n",
            "2         Walter Matthau, Jack Lemmon, Ann-Margret    Howard Deutch  1995.0   \n",
            "3  Whitney Houston, Angela Bassett, Loretta Devine  Forest Whitaker  1995.0   \n",
            "4         Steve Martin, Diane Keaton, Martin Short    Charles Shyer  1995.0   \n",
            "\n",
            "                               belongs_to_collection  vote_average  vote_count  \n",
            "0  {'id': 10194, 'name': 'Toy Story Collection', ...           7.7      5415.0  \n",
            "1                                                NaN           6.9      2413.0  \n",
            "2  {'id': 119050, 'name': 'Grumpy Old Men Collect...           6.5        92.0  \n",
            "3                                                NaN           6.1        34.0  \n",
            "4  {'id': 96871, 'name': 'Father of the Bride Col...           5.7       173.0  \n"
          ]
        }
      ]
    },
    {
      "cell_type": "code",
      "source": [
        "import pandas as pd\n",
        "\n",
        "# Carica il dataset\n",
        "metadata = pd.read_csv('movies_metadata.csv')  # sostituisci con il percorso corretto\n",
        "\n",
        "# Verifica quanti valori NaN ci sono in 'vote_average' e 'vote_count'\n",
        "nan_vote_average = metadata['vote_average'].isna().sum()\n",
        "nan_vote_count = metadata['vote_count'].isna().sum()\n",
        "\n",
        "# Visualizza i risultati\n",
        "print(f\"Valori NaN in 'vote_average': {nan_vote_average}\")\n",
        "print(f\"Valori NaN in 'vote_count': {nan_vote_count}\")\n"
      ],
      "metadata": {
        "colab": {
          "base_uri": "https://localhost:8080/"
        },
        "id": "nuo3BlFlUpRP",
        "outputId": "33af317f-c5b3-49a8-82f7-d54518dc10aa"
      },
      "execution_count": 4,
      "outputs": [
        {
          "output_type": "stream",
          "name": "stdout",
          "text": [
            "Valori NaN in 'vote_average': 6\n",
            "Valori NaN in 'vote_count': 6\n"
          ]
        },
        {
          "output_type": "stream",
          "name": "stderr",
          "text": [
            "<ipython-input-4-56468c4ae041>:4: DtypeWarning: Columns (10) have mixed types. Specify dtype option on import or set low_memory=False.\n",
            "  metadata = pd.read_csv('movies_metadata.csv')  # sostituisci con il percorso corretto\n"
          ]
        }
      ]
    },
    {
      "cell_type": "code",
      "source": [
        "import pandas as pd\n",
        "import ast\n",
        "\n",
        "# Carica il file CSV precedentemente creato (aggiorna il percorso con il tuo se necessario)\n",
        "merged_data = pd.read_csv('merged_movies_metadata.csv')\n",
        "\n",
        "# 1. Funzione per estrarre il nome della collezione dal campo JSON 'belongs_to_collection'\n",
        "def get_collection(collection_data):\n",
        "    try:\n",
        "        collection = ast.literal_eval(collection_data)\n",
        "        if collection and 'name' in collection:\n",
        "            return collection['name']\n",
        "    except (ValueError, SyntaxError):\n",
        "        return \"0\"  # Assegna \"0\" se non appartiene a nessuna collezione o se c'è un errore\n",
        "    return \"0\"\n",
        "\n",
        "# Applica la funzione per gestire i valori di 'belongs_to_collection'\n",
        "merged_data['belongs_to_collection'] = merged_data['belongs_to_collection'].apply(lambda x: get_collection(x) if pd.notnull(x) else \"0\")\n",
        "\n",
        "# 2. Rimuovi i film con NaN in 'vote_average' o 'vote_count'\n",
        "merged_data_cleaned = merged_data.dropna(subset=['vote_average', 'vote_count'])\n",
        "\n",
        "# Esporta il nuovo dataset pulito\n",
        "merged_data_cleaned.to_csv('merged_movies_metadata_cleaned.csv', index=False)\n",
        "\n",
        "# Mostra le prime righe del nuovo dataset pulito\n",
        "print(merged_data_cleaned.head())\n"
      ],
      "metadata": {
        "colab": {
          "base_uri": "https://localhost:8080/"
        },
        "id": "XlUGxbezWJZ5",
        "outputId": "80466bbc-4130-418a-f81b-4a2ce295b1db"
      },
      "execution_count": 5,
      "outputs": [
        {
          "output_type": "stream",
          "name": "stdout",
          "text": [
            "      id                        title                      genres  \\\n",
            "0    862                    Toy Story   Animation, Comedy, Family   \n",
            "1   8844                      Jumanji  Adventure, Fantasy, Family   \n",
            "2  15602             Grumpier Old Men             Romance, Comedy   \n",
            "3  31357            Waiting to Exhale      Comedy, Drama, Romance   \n",
            "4  11862  Father of the Bride Part II                      Comedy   \n",
            "\n",
            "                                      top_3_actors         director    year  \\\n",
            "0                Tom Hanks, Tim Allen, Don Rickles    John Lasseter  1995.0   \n",
            "1     Robin Williams, Jonathan Hyde, Kirsten Dunst     Joe Johnston  1995.0   \n",
            "2         Walter Matthau, Jack Lemmon, Ann-Margret    Howard Deutch  1995.0   \n",
            "3  Whitney Houston, Angela Bassett, Loretta Devine  Forest Whitaker  1995.0   \n",
            "4         Steve Martin, Diane Keaton, Martin Short    Charles Shyer  1995.0   \n",
            "\n",
            "            belongs_to_collection  vote_average  vote_count  \n",
            "0            Toy Story Collection           7.7      5415.0  \n",
            "1                               0           6.9      2413.0  \n",
            "2       Grumpy Old Men Collection           6.5        92.0  \n",
            "3                               0           6.1        34.0  \n",
            "4  Father of the Bride Collection           5.7       173.0  \n"
          ]
        }
      ]
    },
    {
      "cell_type": "code",
      "source": [
        "import pandas as pd\n",
        "import ast\n",
        "\n",
        "# Carica i dataset: keywords e merged_movies_metadata_cleaned\n",
        "keywords = pd.read_csv('keywords.csv')  # aggiorna il percorso con il tuo file\n",
        "merged_data_cleaned = pd.read_csv('merged_movies_metadata_cleaned.csv')\n",
        "\n",
        "# Funzione per estrarre le parole chiave dal campo JSON 'keywords'\n",
        "def get_keywords(keyword_data):\n",
        "    try:\n",
        "        keywords_list = ast.literal_eval(keyword_data)\n",
        "        return ', '.join([kw['name'] for kw in keywords_list])\n",
        "    except (ValueError, SyntaxError):\n",
        "        return ''\n",
        "\n",
        "# Applica la funzione per estrarre le keywords e creare una nuova colonna 'keywords'\n",
        "keywords['keywords'] = keywords['keywords'].apply(get_keywords)\n",
        "\n",
        "# Unisci i due dataset utilizzando la chiave 'id' (che è 'Id' nel file keywords e 'id' nel file merged_data_cleaned)\n",
        "merged_data_with_keywords = pd.merge(merged_data_cleaned, keywords[['id', 'keywords']], left_on='id', right_on='id', how='left')\n",
        "\n",
        "# Esporta il nuovo dataset con le keywords aggiunte\n",
        "merged_data_with_keywords.to_csv('merged_movies_metadata_with_keywords.csv', index=False)\n",
        "\n",
        "# Mostra le prime righe del dataset finale\n",
        "print(merged_data_with_keywords.head())\n"
      ],
      "metadata": {
        "colab": {
          "base_uri": "https://localhost:8080/"
        },
        "id": "IH0OcNBzYv6Y",
        "outputId": "c88a7804-0153-43d7-e950-6cae20bb614a"
      },
      "execution_count": 6,
      "outputs": [
        {
          "output_type": "stream",
          "name": "stdout",
          "text": [
            "      id                        title                      genres  \\\n",
            "0    862                    Toy Story   Animation, Comedy, Family   \n",
            "1   8844                      Jumanji  Adventure, Fantasy, Family   \n",
            "2  15602             Grumpier Old Men             Romance, Comedy   \n",
            "3  31357            Waiting to Exhale      Comedy, Drama, Romance   \n",
            "4  11862  Father of the Bride Part II                      Comedy   \n",
            "\n",
            "                                      top_3_actors         director    year  \\\n",
            "0                Tom Hanks, Tim Allen, Don Rickles    John Lasseter  1995.0   \n",
            "1     Robin Williams, Jonathan Hyde, Kirsten Dunst     Joe Johnston  1995.0   \n",
            "2         Walter Matthau, Jack Lemmon, Ann-Margret    Howard Deutch  1995.0   \n",
            "3  Whitney Houston, Angela Bassett, Loretta Devine  Forest Whitaker  1995.0   \n",
            "4         Steve Martin, Diane Keaton, Martin Short    Charles Shyer  1995.0   \n",
            "\n",
            "            belongs_to_collection  vote_average  vote_count  \\\n",
            "0            Toy Story Collection           7.7      5415.0   \n",
            "1                               0           6.9      2413.0   \n",
            "2       Grumpy Old Men Collection           6.5        92.0   \n",
            "3                               0           6.1        34.0   \n",
            "4  Father of the Bride Collection           5.7       173.0   \n",
            "\n",
            "                                            keywords  \n",
            "0  jealousy, toy, boy, friendship, friends, rival...  \n",
            "1  board game, disappearance, based on children's...  \n",
            "2  fishing, best friend, duringcreditsstinger, ol...  \n",
            "3  based on novel, interracial relationship, sing...  \n",
            "4  baby, midlife crisis, confidence, aging, daugh...  \n"
          ]
        }
      ]
    },
    {
      "cell_type": "code",
      "source": [
        "import pandas as pd\n",
        "import matplotlib.pyplot as plt\n",
        "\n",
        "# Carica il file ratings.csv\n",
        "ratings = pd.read_csv('ratings.csv')\n",
        "\n",
        "# Conta il numero di valutazioni per ogni film (movieId)\n",
        "ratings_count = ratings.groupby('movieId').size()\n",
        "\n",
        "# Crea un grafico della distribuzione\n",
        "plt.figure(figsize=(10,6))\n",
        "plt.hist(ratings_count, bins=50, color='skyblue', edgecolor='black')\n",
        "plt.title('Distribuzione del numero di valutazioni per film')\n",
        "plt.xlabel('Numero di valutazioni per film')\n",
        "plt.ylabel('Numero di film')\n",
        "plt.yscale('log')  # Imposta la scala logaritmica per visualizzare meglio la distribuzione\n",
        "\n",
        "# Mostra il grafico\n",
        "plt.show()\n"
      ],
      "metadata": {
        "colab": {
          "base_uri": "https://localhost:8080/",
          "height": 523
        },
        "id": "cFrI8AxwZ9VF",
        "outputId": "7126cbf1-9805-4e7f-ef90-11c0a9b7db57"
      },
      "execution_count": 7,
      "outputs": [
        {
          "output_type": "display_data",
          "data": {
            "text/plain": [
              "<Figure size 1000x600 with 1 Axes>"
            ],
            "image/png": "[encoded data removed]"
          },
          "metadata": {}
        }
      ]
    },
    {
      "cell_type": "code",
      "source": [
        "# Controlla la distribuzione effettiva del numero di valutazioni per film\n",
        "print(ratings_count.describe())\n",
        "\n",
        "# Mostra i film con più valutazioni\n",
        "print(ratings_count.sort_values(ascending=False).head(10))\n"
      ],
      "metadata": {
        "colab": {
          "base_uri": "https://localhost:8080/"
        },
        "id": "J0gwJkwTbYp3",
        "outputId": "b2da6a88-d3a3-4a70-c569-4bfc04205bbe"
      },
      "execution_count": 8,
      "outputs": [
        {
          "output_type": "stream",
          "name": "stdout",
          "text": [
            "count    45115.000000\n",
            "mean       576.843378\n",
            "std       3037.380582\n",
            "min          1.000000\n",
            "25%          2.000000\n",
            "50%          8.000000\n",
            "75%         69.000000\n",
            "max      91921.000000\n",
            "dtype: float64\n",
            "movieId\n",
            "356     91921\n",
            "318     91082\n",
            "296     87901\n",
            "593     84078\n",
            "2571    77960\n",
            "260     77045\n",
            "480     74355\n",
            "527     67662\n",
            "110     66512\n",
            "1       66008\n",
            "dtype: int64\n"
          ]
        }
      ]
    },
    {
      "cell_type": "code",
      "source": [
        "import pandas as pd\n",
        "\n",
        "# Carica il file ratings.csv\n",
        "ratings = pd.read_csv('ratings.csv')\n",
        "\n",
        "# Conta il numero di valutazioni per ogni film (movieId)\n",
        "ratings_count = ratings.groupby('movieId').size()\n",
        "\n",
        "# Calcola la media e il 75° percentile\n",
        "media_valutazioni = ratings_count.mean()\n",
        "percentile_75_valutazioni = ratings_count.quantile(0.75)\n",
        "\n",
        "# Conta i film con numero di valutazioni sopra la media\n",
        "film_sopra_media = (ratings_count > media_valutazioni).sum()\n",
        "\n",
        "# Conta i film che rientrano nel 75° percentile\n",
        "film_75_percentile = (ratings_count > percentile_75_valutazioni).sum()\n",
        "\n",
        "# Mostra i risultati\n",
        "print(f\"Numero di film con valutazioni sopra la media: {film_sopra_media}\")\n",
        "print(f\"Numero di film che rientrano nel 75° percentile: {film_75_percentile}\")\n"
      ],
      "metadata": {
        "colab": {
          "base_uri": "https://localhost:8080/"
        },
        "id": "DJCGmhouci6u",
        "outputId": "b21b1a9c-e9f4-4a45-87b9-95638ec7e291"
      },
      "execution_count": 9,
      "outputs": [
        {
          "output_type": "stream",
          "name": "stdout",
          "text": [
            "Numero di film con valutazioni sopra la media: 4951\n",
            "Numero di film che rientrano nel 75° percentile: 11233\n"
          ]
        }
      ]
    },
    {
      "cell_type": "code",
      "source": [
        "import pandas as pd\n",
        "\n",
        "# Carica il file movies_metadata.csv\n",
        "movies_metadata = pd.read_csv('movies_metadata.csv')\n",
        "\n",
        "# Converte la colonna release_date in formato datetime, ignorando eventuali errori\n",
        "movies_metadata['release_date'] = pd.to_datetime(movies_metadata['release_date'], errors='coerce')\n",
        "\n",
        "# Conta i film con data di rilascio dopo il 2000\n",
        "film_dopo_2000 = movies_metadata[movies_metadata['release_date'].dt.year > 2000].shape[0]\n",
        "\n",
        "# Conta i film con data di rilascio prima o uguale al 2000\n",
        "film_prima_2000 = movies_metadata[movies_metadata['release_date'].dt.year <= 2000].shape[0]\n",
        "\n",
        "# Mostra i risultati\n",
        "print(f\"Numero di film rilasciati dopo il 2000: {film_dopo_2000}\")\n",
        "print(f\"Numero di film rilasciati prima o nel 2000: {film_prima_2000}\")\n"
      ],
      "metadata": {
        "colab": {
          "base_uri": "https://localhost:8080/"
        },
        "id": "xqNIHI_ZdFNQ",
        "outputId": "299ee945-5cd3-4350-9b9c-3b998413e3cc"
      },
      "execution_count": 10,
      "outputs": [
        {
          "output_type": "stream",
          "name": "stdout",
          "text": [
            "Numero di film rilasciati dopo il 2000: 23218\n",
            "Numero di film rilasciati prima o nel 2000: 22158\n"
          ]
        },
        {
          "output_type": "stream",
          "name": "stderr",
          "text": [
            "<ipython-input-10-f27f3e43b977>:4: DtypeWarning: Columns (10) have mixed types. Specify dtype option on import or set low_memory=False.\n",
            "  movies_metadata = pd.read_csv('movies_metadata.csv')\n"
          ]
        }
      ]
    },
    {
      "cell_type": "code",
      "source": [
        "import pandas as pd\n",
        "\n",
        "# Carica i file merged_movies_metadata_cleaned (1).csv e ratings.csv\n",
        "movies_metadata = pd.read_csv('merged_movies_metadata_cleaned.csv')\n",
        "ratings = pd.read_csv('ratings.csv')\n",
        "\n",
        "# Rinomina \"movieId\" in \"id\" nel file ratings per poter fare il merge con movies_metadata\n",
        "ratings.rename(columns={'movieId': 'id'}, inplace=True)\n",
        "\n",
        "# Assicurati che l'id in entrambi i DataFrame sia dello stesso tipo (stringa in questo caso)\n",
        "ratings['id'] = ratings['id'].astype(str)\n",
        "movies_metadata['id'] = movies_metadata['id'].astype(str)\n",
        "\n",
        "# Conta il numero di valutazioni per ogni film\n",
        "ratings_count = ratings.groupby('id').size()\n",
        "\n",
        "# Unisci il numero di valutazioni al file movies_metadata\n",
        "movies_metadata = pd.merge(movies_metadata, ratings_count.rename('rating_count'), on='id', how='left')\n",
        "\n",
        "# Imposta NaN in rating_count a 0 per i film senza valutazioni\n",
        "movies_metadata['rating_count'].fillna(0, inplace=True)\n",
        "\n",
        "# Calcola la media e il 75° percentile\n",
        "media_valutazioni = ratings_count.mean()\n",
        "percentile_75_valutazioni = 69  # Hai specificato che il 75° percentile è 69 valutazioni\n",
        "\n",
        "# Filtra i film usciti prima e dopo il 2000\n",
        "film_prima_2000 = movies_metadata[movies_metadata['year'] <= 2000]\n",
        "film_dopo_2000 = movies_metadata[movies_metadata['year'] > 2000]\n",
        "\n",
        "# Conta i film prima del 2000 che superano la media e il 75° percentile\n",
        "film_prima_2000_sopra_media = film_prima_2000[film_prima_2000['rating_count'] > media_valutazioni].shape[0]\n",
        "film_prima_2000_sopra_75_percentile = film_prima_2000[film_prima_2000['rating_count'] > percentile_75_valutazioni].shape[0]\n",
        "\n",
        "# Conta i film dopo il 2000 che superano la media e il 75° percentile\n",
        "film_dopo_2000_sopra_media = film_dopo_2000[film_dopo_2000['rating_count'] > media_valutazioni].shape[0]\n",
        "film_dopo_2000_sopra_75_percentile = film_dopo_2000[film_dopo_2000['rating_count'] > percentile_75_valutazioni].shape[0]\n",
        "\n",
        "# Mostra i risultati\n",
        "print(f\"Film usciti prima del 2000 che superano la media delle valutazioni: {film_prima_2000_sopra_media}\")\n",
        "print(f\"Film usciti prima del 2000 che superano il 75° percentile (69 valutazioni): {film_prima_2000_sopra_75_percentile}\")\n",
        "print(f\"Film usciti dopo il 2000 che superano la media delle valutazioni: {film_dopo_2000_sopra_media}\")\n",
        "print(f\"Film usciti dopo il 2000 che superano il 75° percentile (69 valutazioni): {film_dopo_2000_sopra_75_percentile}\")\n"
      ],
      "metadata": {
        "colab": {
          "base_uri": "https://localhost:8080/"
        },
        "id": "t2esaBP9fYoV",
        "outputId": "017a94d4-0cd4-44ec-d1e7-373f0591c865"
      },
      "execution_count": 11,
      "outputs": [
        {
          "output_type": "stream",
          "name": "stdout",
          "text": [
            "Film usciti prima del 2000 che superano la media delle valutazioni: 1118\n",
            "Film usciti prima del 2000 che superano il 75° percentile (69 valutazioni): 2139\n",
            "Film usciti dopo il 2000 che superano la media delle valutazioni: 645\n",
            "Film usciti dopo il 2000 che superano il 75° percentile (69 valutazioni): 1251\n"
          ]
        }
      ]
    },
    {
      "cell_type": "code",
      "source": [
        "import pandas as pd\n",
        "\n",
        "# Carica il file ratings.csv\n",
        "ratings = pd.read_csv('ratings.csv')\n",
        "\n",
        "# Filtra il dataset per il film con movieId 862\n",
        "ratings_film_862 = ratings[ratings['movieId'] == 862]\n",
        "\n",
        "# Calcola il voto medio del film con movieId 862\n",
        "voto_medio_film_862 = ratings_film_862['rating'].mean()\n",
        "\n",
        "# Mostra il voto medio\n",
        "print(f\"Il voto medio del film con movieId 862 è: {voto_medio_film_862}\")\n"
      ],
      "metadata": {
        "colab": {
          "base_uri": "https://localhost:8080/"
        },
        "id": "UD8wiVscgqKh",
        "outputId": "10166e6c-f46c-4d8d-e3c7-09e3f1d24595"
      },
      "execution_count": 12,
      "outputs": [
        {
          "output_type": "stream",
          "name": "stdout",
          "text": [
            "Il voto medio del film con movieId 862 è: 3.5989304812834226\n"
          ]
        }
      ]
    },
    {
      "cell_type": "code",
      "source": [
        "import pandas as pd\n",
        "\n",
        "# Carica il dataset 'movies_metadata.csv'\n",
        "movies_metadata = pd.read_csv('movies_metadata.csv')\n",
        "\n",
        "# Estrai solo le colonne 'id' e 'vote_average'\n",
        "movies_filtered = movies_metadata[['id', 'vote_average']].copy()\n",
        "\n",
        "# Normalizza la colonna 'vote_average' dalla scala 0-10 a 0-5\n",
        "movies_filtered['vote_average_normalized'] = movies_filtered['vote_average'] / 2\n",
        "\n",
        "# Esporta il nuovo file in un CSV\n",
        "movies_filtered.to_csv('movies_id_vote_average_normalized.csv', index=False)\n",
        "\n",
        "# Mostra un'anteprima dei dati\n",
        "print(movies_filtered.head())\n"
      ],
      "metadata": {
        "colab": {
          "base_uri": "https://localhost:8080/"
        },
        "id": "A8ZsjshbrRU8",
        "outputId": "b01b112c-4a06-40c5-85d9-19603c99b143"
      },
      "execution_count": 13,
      "outputs": [
        {
          "output_type": "stream",
          "name": "stdout",
          "text": [
            "      id  vote_average  vote_average_normalized\n",
            "0    862           7.7                     3.85\n",
            "1   8844           6.9                     3.45\n",
            "2  15602           6.5                     3.25\n",
            "3  31357           6.1                     3.05\n",
            "4  11862           5.7                     2.85\n"
          ]
        },
        {
          "output_type": "stream",
          "name": "stderr",
          "text": [
            "<ipython-input-13-b640cb8ca08f>:4: DtypeWarning: Columns (10) have mixed types. Specify dtype option on import or set low_memory=False.\n",
            "  movies_metadata = pd.read_csv('movies_metadata.csv')\n"
          ]
        }
      ]
    },
    {
      "cell_type": "code",
      "source": [
        "import pandas as pd\n",
        "\n",
        "# Carica i file\n",
        "metadata_with_keywords = pd.read_csv('merged_movies_metadata_with_keywords.csv')\n",
        "vote_average_normalized = pd.read_csv('movies_id_vote_average_normalized.csv')\n",
        "\n",
        "# Converti entrambe le colonne 'id' in stringhe per essere sicuri che coincidano\n",
        "metadata_with_keywords['id'] = metadata_with_keywords['id'].astype(str)\n",
        "vote_average_normalized['id'] = vote_average_normalized['id'].astype(str)\n",
        "\n",
        "# Unisci i due dataset sul campo 'id' per aggiungere il 'vote_average_normalized'\n",
        "metadata_with_keywords_updated = pd.merge(metadata_with_keywords, vote_average_normalized[['id', 'vote_average_normalized']], on='id', how='left')\n",
        "\n",
        "# Salva il nuovo dataset aggiornato\n",
        "metadata_with_keywords_updated.to_csv('merged_movies_metadata_with_keywords_updated.csv', index=False)\n",
        "\n",
        "# Visualizza le prime righe per verificare\n",
        "print(metadata_with_keywords_updated.head())\n"
      ],
      "metadata": {
        "colab": {
          "base_uri": "https://localhost:8080/"
        },
        "id": "jMUij2lDtE07",
        "outputId": "5ca6cace-2534-418e-bad3-0f3bd53083f6"
      },
      "execution_count": 14,
      "outputs": [
        {
          "output_type": "stream",
          "name": "stdout",
          "text": [
            "      id                        title                      genres  \\\n",
            "0    862                    Toy Story   Animation, Comedy, Family   \n",
            "1   8844                      Jumanji  Adventure, Fantasy, Family   \n",
            "2  15602             Grumpier Old Men             Romance, Comedy   \n",
            "3  31357            Waiting to Exhale      Comedy, Drama, Romance   \n",
            "4  11862  Father of the Bride Part II                      Comedy   \n",
            "\n",
            "                                      top_3_actors         director    year  \\\n",
            "0                Tom Hanks, Tim Allen, Don Rickles    John Lasseter  1995.0   \n",
            "1     Robin Williams, Jonathan Hyde, Kirsten Dunst     Joe Johnston  1995.0   \n",
            "2         Walter Matthau, Jack Lemmon, Ann-Margret    Howard Deutch  1995.0   \n",
            "3  Whitney Houston, Angela Bassett, Loretta Devine  Forest Whitaker  1995.0   \n",
            "4         Steve Martin, Diane Keaton, Martin Short    Charles Shyer  1995.0   \n",
            "\n",
            "            belongs_to_collection  vote_average  vote_count  \\\n",
            "0            Toy Story Collection           7.7      5415.0   \n",
            "1                               0           6.9      2413.0   \n",
            "2       Grumpy Old Men Collection           6.5        92.0   \n",
            "3                               0           6.1        34.0   \n",
            "4  Father of the Bride Collection           5.7       173.0   \n",
            "\n",
            "                                            keywords  vote_average_normalized  \n",
            "0  jealousy, toy, boy, friendship, friends, rival...                     3.85  \n",
            "1  board game, disappearance, based on children's...                     3.45  \n",
            "2  fishing, best friend, duringcreditsstinger, ol...                     3.25  \n",
            "3  based on novel, interracial relationship, sing...                     3.05  \n",
            "4  baby, midlife crisis, confidence, aging, daugh...                     2.85  \n"
          ]
        }
      ]
    },
    {
      "cell_type": "code",
      "source": [
        "import pandas as pd\n",
        "\n",
        "# Carica il file metadata aggiornato e il file delle valutazioni\n",
        "metadata = pd.read_csv('merged_movies_metadata_with_keywords_updated.csv')\n",
        "ratings = pd.read_csv('ratings.csv')\n",
        "\n",
        "# Step 1: Calcolare il numero medio di valutazioni per film in ratings.csv\n",
        "rating_count_per_movie = ratings.groupby('movieId').size().reset_index(name='rating_count')\n",
        "average_rating_count = rating_count_per_movie['rating_count'].mean()\n",
        "\n",
        "# Step 2: Selezionare i film che hanno un numero di valutazioni maggiore o uguale alla media\n",
        "movies_above_avg_ratings = rating_count_per_movie[rating_count_per_movie['rating_count'] >= average_rating_count]\n",
        "\n",
        "# Rinominare 'movieId' in 'id' per collegare con il file metadata\n",
        "movies_above_avg_ratings.rename(columns={'movieId': 'id'}, inplace=True)\n",
        "\n",
        "# Unire i dati delle valutazioni con il file metadata sul campo 'id'\n",
        "metadata_with_ratings = pd.merge(metadata, movies_above_avg_ratings, on='id', how='left')\n",
        "\n",
        "# Step 3: Selezionare i film usciti dal 2000 in poi\n",
        "movies_post_2000 = metadata_with_ratings[metadata_with_ratings['year'] >= 2000]\n",
        "\n",
        "# Step 4: Filtrare i film in base ai criteri descritti\n",
        "# a) Il voto medio in ratings.csv non deve discostarsi di +-0.5 dal vote_average_normalized\n",
        "mean_ratings_per_movie = ratings.groupby('movieId')['rating'].mean().reset_index(name='mean_rating')\n",
        "mean_ratings_per_movie.rename(columns={'movieId': 'id'}, inplace=True)\n",
        "\n",
        "# Unire la media dei voti al dataset principale\n",
        "movies_with_mean_rating = pd.merge(movies_post_2000, mean_ratings_per_movie, on='id', how='left')\n",
        "\n",
        "# Filtrare i film che soddisfano il criterio di +-0.5 sulla media voto rispetto al vote_average_normalized\n",
        "condition_media = (movies_with_mean_rating['mean_rating'] >= (movies_with_mean_rating['vote_average_normalized'] - 0.5)) & \\\n",
        "                  (movies_with_mean_rating['mean_rating'] <= (movies_with_mean_rating['vote_average_normalized'] + 0.5))\n",
        "\n",
        "filtered_movies = movies_with_mean_rating[condition_media]\n",
        "\n",
        "# b) Ponderare la media voto (peso 0,7) e il numero di valutazioni normalizzato (peso 0,3)\n",
        "# Normalizzazione del numero di valutazioni\n",
        "filtered_movies['rating_count_normalized'] = filtered_movies['rating_count'] / filtered_movies['rating_count'].max()\n",
        "\n",
        "# Calcolo del punteggio ponderato\n",
        "filtered_movies['punteggio'] = (0.7 * filtered_movies['mean_rating']) + (0.3 * filtered_movies['rating_count_normalized'])\n",
        "\n",
        "# Selezionare i 10 film con il miglior punteggio\n",
        "top_10_movies = filtered_movies.nlargest(10, 'punteggio')\n",
        "\n",
        "# Visualizza la lista dei 10 film\n",
        "print(top_10_movies[['id', 'title', 'mean_rating', 'rating_count', 'punteggio']])\n",
        "\n",
        "# Esportare il risultato in un file CSV se necessario\n",
        "top_10_movies.to_csv('top_10_movies_case1.csv', index=False)\n"
      ],
      "metadata": {
        "colab": {
          "base_uri": "https://localhost:8080/"
        },
        "id": "dbmeE8MpuQ6-",
        "outputId": "a260a50b-31fd-43c1-e8f0-b94f9ef2e8c9"
      },
      "execution_count": 15,
      "outputs": [
        {
          "output_type": "stream",
          "name": "stderr",
          "text": [
            "<ipython-input-15-90a049dd8f30>:15: SettingWithCopyWarning: \n",
            "A value is trying to be set on a copy of a slice from a DataFrame\n",
            "\n",
            "See the caveats in the documentation: https://pandas.pydata.org/pandas-docs/stable/user_guide/indexing.html#returning-a-view-versus-a-copy\n",
            "  movies_above_avg_ratings.rename(columns={'movieId': 'id'}, inplace=True)\n"
          ]
        },
        {
          "output_type": "stream",
          "name": "stdout",
          "text": [
            "          id                   title  mean_rating  rating_count  punteggio\n",
            "23709  48780                    Boat     4.078295       20276.0   2.936614\n",
            "12601   1260  Lotte from Gadgetville     4.163554        4873.0   2.934149\n",
            "7421    1254   Don't Worry, I'm Fine     4.128207        5768.0   2.913017\n",
            "2118    1280                  3-Iron     4.114931        3563.0   2.894827\n",
            "3305    1949                  Zodiac     4.110604        2301.0   2.886707\n",
            "1639    2502    The Bourne Supremacy     3.978199       24678.0   2.884308\n",
            "2021     670                  Oldboy     4.112805         820.0   2.882272\n",
            "24239  68954               Longitude     3.978629       22460.0   2.875659\n",
            "3236    1265    Bridge to Terabithia     3.879848       38672.0   2.871924\n",
            "11173   2692           The Red Elvis     3.979886       20409.0   2.868265\n"
          ]
        },
        {
          "output_type": "stream",
          "name": "stderr",
          "text": [
            "<ipython-input-15-90a049dd8f30>:39: SettingWithCopyWarning: \n",
            "A value is trying to be set on a copy of a slice from a DataFrame.\n",
            "Try using .loc[row_indexer,col_indexer] = value instead\n",
            "\n",
            "See the caveats in the documentation: https://pandas.pydata.org/pandas-docs/stable/user_guide/indexing.html#returning-a-view-versus-a-copy\n",
            "  filtered_movies['rating_count_normalized'] = filtered_movies['rating_count'] / filtered_movies['rating_count'].max()\n",
            "<ipython-input-15-90a049dd8f30>:42: SettingWithCopyWarning: \n",
            "A value is trying to be set on a copy of a slice from a DataFrame.\n",
            "Try using .loc[row_indexer,col_indexer] = value instead\n",
            "\n",
            "See the caveats in the documentation: https://pandas.pydata.org/pandas-docs/stable/user_guide/indexing.html#returning-a-view-versus-a-copy\n",
            "  filtered_movies['punteggio'] = (0.7 * filtered_movies['mean_rating']) + (0.3 * filtered_movies['rating_count_normalized'])\n"
          ]
        }
      ]
    },
    {
      "cell_type": "code",
      "source": [
        "import pandas as pd\n",
        "\n",
        "# Carica il file metadata aggiornato e il file delle valutazioni\n",
        "metadata = pd.read_csv('merged_movies_metadata_with_keywords_updated.csv')\n",
        "ratings = pd.read_csv('ratings.csv')\n",
        "\n",
        "# Step 1: Calcolare il numero medio di valutazioni per film in ratings.csv\n",
        "rating_count_per_movie = ratings.groupby('movieId').size().reset_index(name='rating_count')\n",
        "average_rating_count = rating_count_per_movie['rating_count'].mean()\n",
        "\n",
        "# Step 2: Selezionare i film che hanno un numero di valutazioni maggiore o uguale alla media\n",
        "movies_above_avg_ratings = rating_count_per_movie[rating_count_per_movie['rating_count'] >= average_rating_count]\n",
        "\n",
        "# Rinominare 'movieId' in 'id' per collegare con il file metadata\n",
        "movies_above_avg_ratings.rename(columns={'movieId': 'id'}, inplace=True)\n",
        "\n",
        "# Unire i dati delle valutazioni con il file metadata sul campo 'id'\n",
        "metadata_with_ratings = pd.merge(metadata, movies_above_avg_ratings, on='id', how='left')\n",
        "\n",
        "# Step 3: Selezionare i film usciti dal 2000 in poi\n",
        "movies_post_2000 = metadata_with_ratings[metadata_with_ratings['year'] >= 2000]\n",
        "\n",
        "# Step 4: Filtrare i film in base ai criteri descritti\n",
        "# a) Il voto medio in ratings.csv non deve discostarsi di +-0.5 dal vote_average_normalized\n",
        "mean_ratings_per_movie = ratings.groupby('movieId')['rating'].mean().reset_index(name='mean_rating')\n",
        "mean_ratings_per_movie.rename(columns={'movieId': 'id'}, inplace=True)\n",
        "\n",
        "# Unire la media dei voti al dataset principale\n",
        "movies_with_mean_rating = pd.merge(movies_post_2000, mean_ratings_per_movie, on='id', how='left')\n",
        "\n",
        "# Filtrare i film che soddisfano il criterio di +-0.5 sulla media voto rispetto al vote_average_normalized\n",
        "condition_media = (movies_with_mean_rating['mean_rating'] >= (movies_with_mean_rating['vote_average_normalized'] - 0.5)) & \\\n",
        "                  (movies_with_mean_rating['mean_rating'] <= (movies_with_mean_rating['vote_average_normalized'] + 0.5))\n",
        "\n",
        "filtered_movies = movies_with_mean_rating[condition_media]\n",
        "\n",
        "# Step 5: Ordinare i film in base alla media voto (senza ponderazione con il numero di valutazioni)\n",
        "# Selezionare i 10 film con la media voto più alta\n",
        "top_10_movies = filtered_movies.nlargest(10, 'mean_rating')\n",
        "\n",
        "# Visualizza la lista dei 10 film\n",
        "print(top_10_movies[['id', 'title', 'mean_rating', 'rating_count']])\n",
        "\n",
        "# Esportare il risultato in un file CSV se necessario\n",
        "top_10_movies.to_csv('top_10_movies_case1_no_ponderation.csv', index=False)\n"
      ],
      "metadata": {
        "colab": {
          "base_uri": "https://localhost:8080/"
        },
        "id": "GJvjyIIhvH4a",
        "outputId": "5ac091ec-5c31-45df-b52d-52a6d1a61717"
      },
      "execution_count": 16,
      "outputs": [
        {
          "output_type": "stream",
          "name": "stderr",
          "text": [
            "<ipython-input-16-064c0c8eca7d>:15: SettingWithCopyWarning: \n",
            "A value is trying to be set on a copy of a slice from a DataFrame\n",
            "\n",
            "See the caveats in the documentation: https://pandas.pydata.org/pandas-docs/stable/user_guide/indexing.html#returning-a-view-versus-a-copy\n",
            "  movies_above_avg_ratings.rename(columns={'movieId': 'id'}, inplace=True)\n"
          ]
        },
        {
          "output_type": "stream",
          "name": "stdout",
          "text": [
            "           id                        title  mean_rating  rating_count\n",
            "15621  137853          Journey to Planet X     5.000000           NaN\n",
            "19321  129518                Island Guests     4.333333           NaN\n",
            "9212   137182  The Broken Circle Breakdown     4.250000           NaN\n",
            "12982   80337        These Amazing Shadows     4.187500           NaN\n",
            "12601    1260       Lotte from Gadgetville     4.163554        4873.0\n",
            "7421     1254        Don't Worry, I'm Fine     4.128207        5768.0\n",
            "2118     1280                       3-Iron     4.114931        3563.0\n",
            "2021      670                       Oldboy     4.112805         820.0\n",
            "3305     1949                       Zodiac     4.110604        2301.0\n",
            "23709   48780                         Boat     4.078295       20276.0\n"
          ]
        }
      ]
    },
    {
      "cell_type": "code",
      "source": [
        "import pandas as pd\n",
        "\n",
        "# Carica il file metadata aggiornato e il file delle valutazioni\n",
        "metadata = pd.read_csv('merged_movies_metadata_with_keywords_updated.csv')\n",
        "ratings = pd.read_csv('ratings.csv')\n",
        "\n",
        "# Step 1: Calcolare il numero medio di valutazioni per film in ratings.csv\n",
        "rating_count_per_movie = ratings.groupby('movieId').size().reset_index(name='rating_count')\n",
        "average_rating_count = rating_count_per_movie['rating_count'].mean()\n",
        "\n",
        "# Step 2: Selezionare i film che hanno un numero di valutazioni maggiore o uguale alla media\n",
        "movies_above_avg_ratings = rating_count_per_movie[rating_count_per_movie['rating_count'] >= average_rating_count]\n",
        "\n",
        "# Rinominare 'movieId' in 'id' per collegare con il file metadata\n",
        "movies_above_avg_ratings.rename(columns={'movieId': 'id'}, inplace=True)\n",
        "\n",
        "# Unire i dati delle valutazioni con il file metadata sul campo 'id'\n",
        "metadata_with_ratings = pd.merge(metadata, movies_above_avg_ratings, on='id', how='left')\n",
        "\n",
        "# Rimuovere i film con NaN nel rating_count\n",
        "metadata_with_ratings.dropna(subset=['rating_count'], inplace=True)\n",
        "\n",
        "# Step 3: Selezionare i film usciti dal 2000 in poi\n",
        "movies_post_2000 = metadata_with_ratings[metadata_with_ratings['year'] >= 2000]\n",
        "\n",
        "# Step 4: Filtrare i film in base ai criteri descritti\n",
        "# a) Il voto medio in ratings.csv non deve discostarsi di +-0.5 dal vote_average_normalized\n",
        "mean_ratings_per_movie = ratings.groupby('movieId')['rating'].mean().reset_index(name='mean_rating')\n",
        "mean_ratings_per_movie.rename(columns={'movieId': 'id'}, inplace=True)\n",
        "\n",
        "# Unire la media dei voti al dataset principale\n",
        "movies_with_mean_rating = pd.merge(movies_post_2000, mean_ratings_per_movie, on='id', how='left')\n",
        "\n",
        "# Filtrare i film che soddisfano il criterio di +-0.5 sulla media voto rispetto al vote_average_normalized\n",
        "condition_media = (movies_with_mean_rating['mean_rating'] >= (movies_with_mean_rating['vote_average_normalized'] - 0.5)) & \\\n",
        "                  (movies_with_mean_rating['mean_rating'] <= (movies_with_mean_rating['vote_average_normalized'] + 0.5))\n",
        "\n",
        "filtered_movies = movies_with_mean_rating[condition_media]\n",
        "\n",
        "# Step 5: Ordinare i film in base alla media voto (senza ponderazione con il numero di valutazioni)\n",
        "# Selezionare i 10 film con la media voto più alta\n",
        "top_10_movies = filtered_movies.nlargest(10, 'mean_rating')\n",
        "\n",
        "# Visualizza la lista dei 10 film\n",
        "print(top_10_movies[['id', 'title', 'mean_rating', 'rating_count']])\n",
        "\n",
        "# Esportare il risultato in un file CSV se necessario\n",
        "top_10_movies.to_csv('top_10_movies_case1_no_ponderation.csv', index=False)\n"
      ],
      "metadata": {
        "colab": {
          "base_uri": "https://localhost:8080/"
        },
        "id": "8chvWQykv0bx",
        "outputId": "c4445574-39b5-4080-a6b8-2acf141d526d"
      },
      "execution_count": 17,
      "outputs": [
        {
          "output_type": "stream",
          "name": "stderr",
          "text": [
            "<ipython-input-17-d74d6cba5726>:15: SettingWithCopyWarning: \n",
            "A value is trying to be set on a copy of a slice from a DataFrame\n",
            "\n",
            "See the caveats in the documentation: https://pandas.pydata.org/pandas-docs/stable/user_guide/indexing.html#returning-a-view-versus-a-copy\n",
            "  movies_above_avg_ratings.rename(columns={'movieId': 'id'}, inplace=True)\n"
          ]
        },
        {
          "output_type": "stream",
          "name": "stdout",
          "text": [
            "        id                   title  mean_rating  rating_count\n",
            "635   1260  Lotte from Gadgetville     4.163554        4873.0\n",
            "576   1254   Don't Worry, I'm Fine     4.128207        5768.0\n",
            "278   1280                  3-Iron     4.114931        3563.0\n",
            "261    670                  Oldboy     4.112805         820.0\n",
            "429   1949                  Zodiac     4.110604        2301.0\n",
            "706  48780                    Boat     4.078295       20276.0\n",
            "414   1251   Letters from Iwo Jima     4.022186        3651.0\n",
            "214    246                Zatoichi     4.004338       11412.0\n",
            "640   8014       Valley of Flowers     3.997436        2145.0\n",
            "259    363                 Head-On     3.995441         658.0\n"
          ]
        }
      ]
    },
    {
      "cell_type": "code",
      "source": [
        "import pandas as pd\n",
        "\n",
        "# Carica il file metadata aggiornato e il file delle valutazioni\n",
        "metadata = pd.read_csv('merged_movies_metadata_with_keywords_updated.csv')\n",
        "ratings = pd.read_csv('ratings.csv')\n",
        "\n",
        "# Step 1: Calcolare il numero medio di valutazioni per film in ratings.csv\n",
        "rating_count_per_movie = ratings.groupby('movieId').size().reset_index(name='rating_count')\n",
        "average_rating_count = rating_count_per_movie['rating_count'].mean()\n",
        "\n",
        "# Step 2: Selezionare i film che hanno un numero di valutazioni maggiore o uguale alla media\n",
        "movies_above_avg_ratings = rating_count_per_movie[rating_count_per_movie['rating_count'] >= average_rating_count]\n",
        "\n",
        "# Rinominare 'movieId' in 'id' per collegare con il file metadata\n",
        "movies_above_avg_ratings.rename(columns={'movieId': 'id'}, inplace=True)\n",
        "\n",
        "# Unire i dati delle valutazioni con il file metadata sul campo 'id'\n",
        "metadata_with_ratings = pd.merge(metadata, movies_above_avg_ratings, on='id', how='left')\n",
        "\n",
        "# Rimuovere i film con NaN nel rating_count\n",
        "metadata_with_ratings.dropna(subset=['rating_count'], inplace=True)\n",
        "\n",
        "# Step 3: Selezionare i film usciti dal 2000 in poi\n",
        "movies_post_2000 = metadata_with_ratings[metadata_with_ratings['year'] >= 2005]\n",
        "\n",
        "# Step 4: Filtrare i film in base ai criteri descritti\n",
        "# a) Il voto medio in ratings.csv non deve discostarsi di +-0.5 dal vote_average_normalized\n",
        "mean_ratings_per_movie = ratings.groupby('movieId')['rating'].mean().reset_index(name='mean_rating')\n",
        "mean_ratings_per_movie.rename(columns={'movieId': 'id'}, inplace=True)\n",
        "\n",
        "# Unire la media dei voti al dataset principale\n",
        "movies_with_mean_rating = pd.merge(movies_post_2000, mean_ratings_per_movie, on='id', how='left')\n",
        "\n",
        "# Filtrare i film che soddisfano il criterio di +-0.5 sulla media voto rispetto al vote_average_normalized\n",
        "condition_media = (movies_with_mean_rating['mean_rating'] >= (movies_with_mean_rating['vote_average_normalized'] - 0.5)) & \\\n",
        "                  (movies_with_mean_rating['mean_rating'] <= (movies_with_mean_rating['vote_average_normalized'] + 0.5))\n",
        "\n",
        "filtered_movies = movies_with_mean_rating[condition_media]\n",
        "\n",
        "# Step 5: Ordinare i film in base alla media voto (senza ponderazione con il numero di valutazioni)\n",
        "# Selezionare i 10 film con la media voto più alta\n",
        "top_10_movies = filtered_movies.nlargest(10, 'mean_rating')\n",
        "\n",
        "# Visualizza la lista dei 10 film\n",
        "print(top_10_movies[['id', 'title', 'mean_rating', 'rating_count']])\n",
        "\n",
        "# Esportare il risultato in un file CSV se necessario\n",
        "top_10_movies.to_csv('top_10_movies_case1_no_ponderation.csv', index=False)\n"
      ],
      "metadata": {
        "colab": {
          "base_uri": "https://localhost:8080/"
        },
        "id": "A__xTuCowobY",
        "outputId": "f4450075-59e8-4d72-df8c-26134c78c8a6"
      },
      "execution_count": 18,
      "outputs": [
        {
          "output_type": "stream",
          "name": "stderr",
          "text": [
            "<ipython-input-18-3d06667789d8>:15: SettingWithCopyWarning: \n",
            "A value is trying to be set on a copy of a slice from a DataFrame\n",
            "\n",
            "See the caveats in the documentation: https://pandas.pydata.org/pandas-docs/stable/user_guide/indexing.html#returning-a-view-versus-a-copy\n",
            "  movies_above_avg_ratings.rename(columns={'movieId': 'id'}, inplace=True)\n"
          ]
        },
        {
          "output_type": "stream",
          "name": "stdout",
          "text": [
            "        id                                       title  mean_rating  \\\n",
            "310   1260                      Lotte from Gadgetville     4.163554   \n",
            "259   1254                       Don't Worry, I'm Fine     4.128207   \n",
            "123   1949                                      Zodiac     4.110604   \n",
            "360  48780                                        Boat     4.078295   \n",
            "109   1251                       Letters from Iwo Jima     4.022186   \n",
            "313   8014                           Valley of Flowers     3.997436   \n",
            "295   2692                               The Red Elvis     3.979886   \n",
            "64      58  Pirates of the Caribbean: Dead Man's Chest     3.965011   \n",
            "42     116                                 Match Point     3.920597   \n",
            "189   6023                             P.S. I Love You     3.896352   \n",
            "\n",
            "     rating_count  \n",
            "310        4873.0  \n",
            "259        5768.0  \n",
            "123        2301.0  \n",
            "360       20276.0  \n",
            "109        3651.0  \n",
            "313        2145.0  \n",
            "295       20409.0  \n",
            "64        13347.0  \n",
            "42         1039.0  \n",
            "189         603.0  \n"
          ]
        }
      ]
    },
    {
      "cell_type": "code",
      "source": [
        "import pandas as pd\n",
        "\n",
        "# Leggi i file necessari\n",
        "ratings = pd.read_csv('ratings.csv')\n",
        "movies_metadata = pd.read_csv('merged_movies_metadata_with_keywords_updated.csv')\n",
        "\n",
        "# Calcola il numero di valutazioni per ogni film nel file ratings.csv\n",
        "ratings_count = ratings.groupby('movieId').size().reset_index(name='rating_count')\n",
        "\n",
        "# Calcola la media delle valutazioni per ogni film nel file ratings.csv\n",
        "mean_ratings = ratings.groupby('movieId')['rating'].mean().reset_index(name='mean_rating')\n",
        "\n",
        "# Calcola la media del numero di valutazioni nel file ratings.csv\n",
        "media_ratings = ratings_count['rating_count'].mean()\n",
        "\n",
        "# Calcola la media delle valutazioni (vote_count) nel file merged_movies_metadata_with_keywords_updated.csv\n",
        "media_votes_count = movies_metadata['vote_count'].mean()\n",
        "\n",
        "# Unisci il numero di valutazioni e la media dei voti con il file dei film\n",
        "movies_above_avg_ratings = pd.merge(movies_metadata, ratings_count, left_on='id', right_on='movieId')\n",
        "movies_above_avg_ratings = pd.merge(movies_above_avg_ratings, mean_ratings, left_on='id', right_on='movieId')\n",
        "\n",
        "# Applica il filtro per il numero minimo di valutazioni in ratings.csv (>= alla media)\n",
        "movies_above_avg_ratings = movies_above_avg_ratings[movies_above_avg_ratings['rating_count'] >= media_ratings]\n",
        "\n",
        "# Applica il filtro per il numero minimo di valutazioni in vote_count (>= alla media)\n",
        "movies_above_avg_ratings = movies_above_avg_ratings[movies_above_avg_ratings['vote_count'] >= media_votes_count]\n",
        "\n",
        "# Filtra per i film usciti dopo il 2005\n",
        "movies_post_2005 = movies_above_avg_ratings[movies_above_avg_ratings['year'] >= 2005]\n",
        "\n",
        "# Filtro per il criterio della media del voto +- 0.5\n",
        "condition_media = (movies_post_2005['mean_rating'] >= (movies_post_2005['vote_average_normalized'] - 0.5)) & \\\n",
        "                  (movies_post_2005['mean_rating'] <= (movies_post_2005['vote_average_normalized'] + 0.5))\n",
        "\n",
        "# Applica il filtro\n",
        "filtered_movies = movies_post_2005[condition_media]\n",
        "\n",
        "# Ordina per la media del voto e seleziona i migliori 10\n",
        "top_10_movies = filtered_movies.nlargest(10, 'mean_rating')\n",
        "\n",
        "# Mostra la lista dei 10 film più popolari\n",
        "print(top_10_movies[['id', 'title', 'mean_rating', 'rating_count', 'vote_count']])\n"
      ],
      "metadata": {
        "colab": {
          "base_uri": "https://localhost:8080/"
        },
        "id": "VQkTLjhx3NxR",
        "outputId": "596ef559-41fe-4add-8296-c6da5042da93"
      },
      "execution_count": 19,
      "outputs": [
        {
          "output_type": "stream",
          "name": "stdout",
          "text": [
            "        id                                       title  mean_rating  \\\n",
            "4138  1254                       Don't Worry, I'm Fine     4.128207   \n",
            "2908  1949                                      Zodiac     4.110604   \n",
            "2864  1251                       Letters from Iwo Jima     4.022186   \n",
            "2733    58  Pirates of the Caribbean: Dead Man's Chest     3.965011   \n",
            "2634   116                                 Match Point     3.920597   \n",
            "3123  6023                             P.S. I Love You     3.896352   \n",
            "2879  1265                        Bridge to Terabithia     3.879848   \n",
            "2553   501                                 Grizzly Man     3.828960   \n",
            "3511  7445                                    Brothers     3.806181   \n",
            "2512   921                              Cinderella Man     3.786230   \n",
            "\n",
            "      rating_count  vote_count  \n",
            "4138          5768       168.0  \n",
            "2908          2301      2080.0  \n",
            "2864          3651       553.0  \n",
            "2733         13347      5380.0  \n",
            "2634          1039      1134.0  \n",
            "3123           603      1011.0  \n",
            "2879         38672      1146.0  \n",
            "2553          2096       213.0  \n",
            "3511          7280       650.0  \n",
            "2512          2491       630.0  \n"
          ]
        }
      ]
    },
    {
      "cell_type": "code",
      "source": [
        "# Esportare il risultato in un file CSV se necessario\n",
        "top_10_movies.to_csv('top_10_movies_2005_media both.csv', index=False)"
      ],
      "metadata": {
        "id": "FesX3DKU3wkn"
      },
      "execution_count": 20,
      "outputs": []
    },
    {
      "cell_type": "code",
      "source": [
        "import pandas as pd\n",
        "\n",
        "# Leggi i file necessari\n",
        "ratings = pd.read_csv('ratings.csv')\n",
        "movies_metadata = pd.read_csv('merged_movies_metadata_with_keywords_updated.csv')\n",
        "\n",
        "# Calcola il numero di valutazioni per ogni film nel file ratings.csv\n",
        "ratings_count = ratings.groupby('movieId').size().reset_index(name='rating_count')\n",
        "\n",
        "# Calcola la media delle valutazioni per ogni film nel file ratings.csv\n",
        "mean_ratings = ratings.groupby('movieId')['rating'].mean().reset_index(name='mean_rating')\n",
        "\n",
        "# Calcola la media del numero di valutazioni nel file ratings.csv\n",
        "media_ratings = ratings_count['rating_count'].mean()\n",
        "\n",
        "# Calcola la media delle valutazioni (vote_count) nel file merged_movies_metadata_with_keywords_updated.csv\n",
        "media_votes_count = movies_metadata['vote_count'].mean()\n",
        "\n",
        "# Unisci il numero di valutazioni e la media dei voti con il file dei film\n",
        "movies_above_avg_ratings = pd.merge(movies_metadata, ratings_count, left_on='id', right_on='movieId')\n",
        "movies_above_avg_ratings = pd.merge(movies_above_avg_ratings, mean_ratings, left_on='id', right_on='movieId')\n",
        "\n",
        "# Applica il filtro per il numero minimo di valutazioni in ratings.csv (>= alla media)\n",
        "movies_above_avg_ratings = movies_above_avg_ratings[movies_above_avg_ratings['rating_count'] >= media_ratings]\n",
        "\n",
        "# Applica il filtro per il numero minimo di valutazioni in vote_count (>= alla media)\n",
        "movies_above_avg_ratings = movies_above_avg_ratings[movies_above_avg_ratings['vote_count'] >= media_votes_count]\n",
        "\n",
        "# Filtra per i film usciti dopo il 1995\n",
        "movies_post_1995 = movies_above_avg_ratings[movies_above_avg_ratings['year'] >= 1995]\n",
        "\n",
        "# Filtro per il criterio della media del voto +- 0.5\n",
        "condition_media = (movies_post_1995['mean_rating'] >= (movies_post_1995['vote_average_normalized'] - 0.5)) & \\\n",
        "                  (movies_post_1995['mean_rating'] <= (movies_post_1995['vote_average_normalized'] + 0.5))\n",
        "\n",
        "# Applica il filtro\n",
        "filtered_movies = movies_post_1995[condition_media]\n",
        "\n",
        "# Ordina per la media del voto e seleziona i migliori 10\n",
        "top_10_movies = filtered_movies.nlargest(10, 'mean_rating')\n",
        "\n",
        "# Mostra la lista dei 10 film più popolari\n",
        "print(top_10_movies[['id', 'title', 'mean_rating', 'rating_count', 'vote_count']])\n",
        "\n",
        "# Esportare il risultato in un file CSV se necessario\n",
        "top_10_movies.to_csv('top_10_movies_1995_media both.csv', index=False)"
      ],
      "metadata": {
        "colab": {
          "base_uri": "https://localhost:8080/"
        },
        "id": "8g3G1ujb4RJN",
        "outputId": "d5066564-d33b-43d3-f4fd-65537d69a40c"
      },
      "execution_count": 21,
      "outputs": [
        {
          "output_type": "stream",
          "name": "stdout",
          "text": [
            "        id                  title  mean_rating  rating_count  vote_count\n",
            "4138  1254  Don't Worry, I'm Fine     4.128207          5768       168.0\n",
            "2395  1280                 3-Iron     4.114931          3563       225.0\n",
            "2365   670                 Oldboy     4.112805           820      2000.0\n",
            "798    745        The Sixth Sense     4.112609         13649      3223.0\n",
            "2908  1949                 Zodiac     4.110604          2301      2080.0\n",
            "2864  1251  Letters from Iwo Jima     4.022186          3651       553.0\n",
            "2047   246               Zatoichi     4.004338         11412       236.0\n",
            "2362   363                Head-On     3.995441           658       111.0\n",
            "2096  2502   The Bourne Supremacy     3.978199         24678      2873.0\n",
            "1880  1278           The Dreamers     3.968559         17334       680.0\n"
          ]
        }
      ]
    },
    {
      "cell_type": "code",
      "source": [
        "import pandas as pd\n",
        "\n",
        "# Leggi i file necessari\n",
        "ratings = pd.read_csv('ratings.csv')\n",
        "movies_metadata = pd.read_csv('merged_movies_metadata_with_keywords_updated.csv')\n",
        "\n",
        "# Calcola il numero di valutazioni per ogni film nel file ratings.csv\n",
        "ratings_count = ratings.groupby('movieId').size().reset_index(name='rating_count')\n",
        "\n",
        "# Calcola la media delle valutazioni per ogni film nel file ratings.csv\n",
        "mean_ratings = ratings.groupby('movieId')['rating'].mean().reset_index(name='mean_rating')\n",
        "\n",
        "# Calcola il 75° percentile del numero di valutazioni nel file ratings.csv\n",
        "percentile_75_ratings = ratings_count['rating_count'].quantile(0.75)\n",
        "\n",
        "# Calcola il 75° percentile delle valutazioni (vote_count) nel file merged_movies_metadata_with_keywords_updated.csv\n",
        "percentile_75_votes_count = movies_metadata['vote_count'].quantile(0.75)\n",
        "\n",
        "# Unisci il numero di valutazioni e la media dei voti con il file dei film\n",
        "movies_above_percentile = pd.merge(movies_metadata, ratings_count, left_on='id', right_on='movieId')\n",
        "movies_above_percentile = pd.merge(movies_above_percentile, mean_ratings, left_on='id', right_on='movieId')\n",
        "\n",
        "# Applica il filtro per il numero minimo di valutazioni in ratings.csv (>= al 75° percentile)\n",
        "movies_above_percentile = movies_above_percentile[movies_above_percentile['rating_count'] >= percentile_75_ratings]\n",
        "\n",
        "# Applica il filtro per il numero minimo di valutazioni in vote_count (>= al 75° percentile)\n",
        "movies_above_percentile = movies_above_percentile[movies_above_percentile['vote_count'] >= percentile_75_votes_count]\n",
        "\n",
        "# Filtra per i film usciti dopo il 1995\n",
        "movies_post_1995 = movies_above_percentile[movies_above_percentile['year'] >= 1995]\n",
        "\n",
        "# Filtro per il criterio della media del voto +- 0.5\n",
        "condition_media = (movies_post_1995['mean_rating'] >= (movies_post_1995['vote_average_normalized'] - 0.5)) & \\\n",
        "                  (movies_post_1995['mean_rating'] <= (movies_post_1995['vote_average_normalized'] + 0.5))\n",
        "\n",
        "# Applica il filtro\n",
        "filtered_movies = movies_post_1995[condition_media]\n",
        "\n",
        "# Ordina per la media del voto e seleziona i migliori 10\n",
        "top_10_movies = filtered_movies.nlargest(10, 'mean_rating')\n",
        "\n",
        "# Mostra la lista dei 10 film più popolari\n",
        "print(top_10_movies[['id', 'title', 'mean_rating', 'rating_count', 'vote_count']])\n",
        "\n",
        "# Esportare il risultato in un file CSV se necessario\n",
        "top_10_movies.to_csv('top_10_movies_1995_percentile_75.csv', index=False)\n"
      ],
      "metadata": {
        "colab": {
          "base_uri": "https://localhost:8080/"
        },
        "id": "FFjiCHT55jVq",
        "outputId": "86be60bb-7e60-4491-babe-b52184ca4f22"
      },
      "execution_count": 22,
      "outputs": [
        {
          "output_type": "stream",
          "name": "stdout",
          "text": [
            "        id                  title  mean_rating  rating_count  vote_count\n",
            "4138  1254  Don't Worry, I'm Fine     4.128207          5768       168.0\n",
            "2395  1280                 3-Iron     4.114931          3563       225.0\n",
            "2365   670                 Oldboy     4.112805           820      2000.0\n",
            "798    745        The Sixth Sense     4.112609         13649      3223.0\n",
            "2908  1949                 Zodiac     4.110604          2301      2080.0\n",
            "2864  1251  Letters from Iwo Jima     4.022186          3651       553.0\n",
            "2047   246               Zatoichi     4.004338         11412       236.0\n",
            "2362   363                Head-On     3.995441           658       111.0\n",
            "2096  2502   The Bourne Supremacy     3.978199         24678      2873.0\n",
            "1880  1278           The Dreamers     3.968559         17334       680.0\n"
          ]
        }
      ]
    },
    {
      "cell_type": "code",
      "source": [
        "import pandas as pd\n",
        "\n",
        "# Leggi i file necessari\n",
        "ratings = pd.read_csv('ratings.csv')\n",
        "movies_metadata = pd.read_csv('merged_movies_metadata_with_keywords_updated.csv')\n",
        "\n",
        "# Calcola il numero di valutazioni per ogni film nel file ratings.csv\n",
        "ratings_count = ratings.groupby('movieId').size().reset_index(name='rating_count')\n",
        "\n",
        "# Calcola la media delle valutazioni per ogni film nel file ratings.csv\n",
        "mean_ratings = ratings.groupby('movieId')['rating'].mean().reset_index(name='mean_rating')\n",
        "\n",
        "# Calcola il 75° percentile del numero di valutazioni nel file ratings.csv\n",
        "percentile_75_ratings = ratings_count['rating_count'].quantile(0.75)\n",
        "\n",
        "# Calcola il 75° percentile delle valutazioni (vote_count) nel file merged_movies_metadata_with_keywords_updated.csv\n",
        "percentile_75_votes_count = movies_metadata['vote_count'].quantile(0.75)\n",
        "\n",
        "# Unisci il numero di valutazioni e la media dei voti con il file dei film\n",
        "movies_above_percentile = pd.merge(movies_metadata, ratings_count, left_on='id', right_on='movieId')\n",
        "movies_above_percentile = pd.merge(movies_above_percentile, mean_ratings, left_on='id', right_on='movieId')\n",
        "\n",
        "# Applica il filtro per il numero minimo di valutazioni in ratings.csv (>= al 75° percentile)\n",
        "movies_above_percentile = movies_above_percentile[movies_above_percentile['rating_count'] >= percentile_75_ratings]\n",
        "\n",
        "# Applica il filtro per il numero minimo di valutazioni in vote_count (>= al 75° percentile)\n",
        "movies_above_percentile = movies_above_percentile[movies_above_percentile['vote_count'] >= percentile_75_votes_count]\n",
        "\n",
        "# Filtra per i film usciti dopo il 2005\n",
        "movies_post_1995 = movies_above_percentile[movies_above_percentile['year'] >= 2005]\n",
        "\n",
        "# Filtro per il criterio della media del voto +- 0.5\n",
        "condition_media = (movies_post_2005['mean_rating'] >= (movies_post_2005['vote_average_normalized'] - 0.5)) & \\\n",
        "                  (movies_post_2005['mean_rating'] <= (movies_post_2005['vote_average_normalized'] + 0.5))\n",
        "\n",
        "# Applica il filtro\n",
        "filtered_movies = movies_post_2005[condition_media]\n",
        "\n",
        "# Ordina per la media del voto e seleziona i migliori 10\n",
        "top_10_movies = filtered_movies.nlargest(10, 'mean_rating')\n",
        "\n",
        "# Mostra la lista dei 10 film più popolari\n",
        "print(top_10_movies[['id', 'title', 'mean_rating', 'rating_count', 'vote_count']])\n",
        "\n"
      ],
      "metadata": {
        "colab": {
          "base_uri": "https://localhost:8080/"
        },
        "id": "N5XU_MZB5-M4",
        "outputId": "12647a90-ede7-459a-8e68-c4041fcc679f"
      },
      "execution_count": 23,
      "outputs": [
        {
          "output_type": "stream",
          "name": "stdout",
          "text": [
            "        id                                       title  mean_rating  \\\n",
            "4138  1254                       Don't Worry, I'm Fine     4.128207   \n",
            "2908  1949                                      Zodiac     4.110604   \n",
            "2864  1251                       Letters from Iwo Jima     4.022186   \n",
            "2733    58  Pirates of the Caribbean: Dead Man's Chest     3.965011   \n",
            "2634   116                                 Match Point     3.920597   \n",
            "3123  6023                             P.S. I Love You     3.896352   \n",
            "2879  1265                        Bridge to Terabithia     3.879848   \n",
            "2553   501                                 Grizzly Man     3.828960   \n",
            "3511  7445                                    Brothers     3.806181   \n",
            "2512   921                              Cinderella Man     3.786230   \n",
            "\n",
            "      rating_count  vote_count  \n",
            "4138          5768       168.0  \n",
            "2908          2301      2080.0  \n",
            "2864          3651       553.0  \n",
            "2733         13347      5380.0  \n",
            "2634          1039      1134.0  \n",
            "3123           603      1011.0  \n",
            "2879         38672      1146.0  \n",
            "2553          2096       213.0  \n",
            "3511          7280       650.0  \n",
            "2512          2491       630.0  \n"
          ]
        }
      ]
    },
    {
      "cell_type": "code",
      "source": [
        "# Calcola la media del numero di valutazioni nel file ratings.csv\n",
        "media_ratings = ratings_count['rating_count'].mean()\n",
        "\n",
        "# Calcola il 75° percentile del numero di valutazioni nel file ratings.csv\n",
        "percentile_75_ratings = ratings_count['rating_count'].quantile(0.75)\n",
        "\n",
        "print(f\"Media delle valutazioni per film: {media_ratings}\")\n",
        "print(f\"75° percentile delle valutazioni per film: {percentile_75_ratings}\")\n"
      ],
      "metadata": {
        "colab": {
          "base_uri": "https://localhost:8080/"
        },
        "id": "GoOw67Af6qO4",
        "outputId": "e55ebd95-1c26-4cad-ef15-9739d2276f26"
      },
      "execution_count": 24,
      "outputs": [
        {
          "output_type": "stream",
          "name": "stdout",
          "text": [
            "Media delle valutazioni per film: 576.8433780339134\n",
            "75° percentile delle valutazioni per film: 69.0\n"
          ]
        }
      ]
    },
    {
      "cell_type": "code",
      "source": [
        "# Calcola la media e il 75° percentile per vote_count\n",
        "media_votes_count = movies_metadata['vote_count'].mean()\n",
        "percentile_75_votes_count = movies_metadata['vote_count'].quantile(0.75)\n",
        "\n",
        "print(f\"Media di vote_count: {media_votes_count}\")\n",
        "print(f\"75° percentile di vote_count: {percentile_75_votes_count}\")\n"
      ],
      "metadata": {
        "colab": {
          "base_uri": "https://localhost:8080/"
        },
        "id": "xXvov6Ru6ssq",
        "outputId": "f266e38f-bcd2-4e5b-f9cf-b42e76512963"
      },
      "execution_count": 25,
      "outputs": [
        {
          "output_type": "stream",
          "name": "stdout",
          "text": [
            "Media di vote_count: 107.78456913827655\n",
            "75° percentile di vote_count: 34.0\n"
          ]
        }
      ]
    },
    {
      "cell_type": "code",
      "source": [
        "import pandas as pd\n",
        "import matplotlib.pyplot as plt\n",
        "import seaborn as sns\n",
        "\n",
        "# Leggi il file 'merged_movies_metadata_with_keywords_updated.csv'\n",
        "movies_metadata = pd.read_csv('merged_movies_metadata_with_keywords_updated.csv')\n",
        "\n",
        "# Imposta lo stile per il grafico\n",
        "sns.set(style=\"whitegrid\")\n",
        "\n",
        "# Crea un istogramma per visualizzare la distribuzione di 'votes_count'\n",
        "plt.figure(figsize=(10, 6))\n",
        "sns.histplot(movies_metadata['vote_count'], bins=50, kde=False, color=\"blue\")\n",
        "\n",
        "# Imposta il titolo e le etichette del grafico\n",
        "plt.title('Distribuzione del numero di valutazioni (votes_count)', fontsize=16)\n",
        "plt.xlabel('Numero di valutazioni', fontsize=12)\n",
        "plt.ylabel('Numero di film', fontsize=12)\n",
        "\n",
        "# Mostra il grafico\n",
        "plt.yscale('log')  # Se necessario, imposta la scala logaritmica sull'asse Y per una migliore visibilità\n",
        "plt.show()\n"
      ],
      "metadata": {
        "colab": {
          "base_uri": "https://localhost:8080/",
          "height": 528
        },
        "id": "uU_z0Utz808x",
        "outputId": "9e63cb36-3289-4f36-e4bf-b74a49125ad6"
      },
      "execution_count": 26,
      "outputs": [
        {
          "output_type": "display_data",
          "data": {
            "text/plain": [
              "<Figure size 1000x600 with 1 Axes>"
            ],
            "image/png": "[encoded data removed]"
          },
          "metadata": {}
        }
      ]
    },
    {
      "cell_type": "code",
      "source": [
        "import pandas as pd\n",
        "\n",
        "# Leggi il file merged_movies_metadata_with_keywords_updated.csv\n",
        "movies_metadata = pd.read_csv('merged_movies_metadata_with_keywords_updated.csv')\n",
        "\n",
        "# Calcola il numero totale di film\n",
        "total_films = len(movies_metadata)\n",
        "\n",
        "# Film con più di 500 valutazioni\n",
        "films_over_500 = len(movies_metadata[movies_metadata['vote_count'] > 500])\n",
        "percent_over_500 = (films_over_500 / total_films) * 100\n",
        "\n",
        "# Film con più di 1000 valutazioni\n",
        "films_over_1000 = len(movies_metadata[movies_metadata['vote_count'] > 1000])\n",
        "percent_over_1000 = (films_over_1000 / total_films) * 100\n",
        "\n",
        "# Film con più di 5000 valutazioni\n",
        "films_over_5000 = len(movies_metadata[movies_metadata['vote_count'] > 5000])\n",
        "percent_over_5000 = (films_over_5000 / total_films) * 100\n",
        "\n",
        "# Stampa i risultati\n",
        "print(f\"Film con più di 500 valutazioni: {films_over_500} ({percent_over_500:.2f}%)\")\n",
        "print(f\"Film con più di 1000 valutazioni: {films_over_1000} ({percent_over_1000:.2f}%)\")\n",
        "print(f\"Film con più di 5000 valutazioni: {films_over_5000} ({percent_over_5000:.2f}%)\")\n"
      ],
      "metadata": {
        "colab": {
          "base_uri": "https://localhost:8080/"
        },
        "id": "Hl7qhLPS9ccn",
        "outputId": "31b8fc78-2e90-48b0-f499-85eebbe9faf2"
      },
      "execution_count": 27,
      "outputs": [
        {
          "output_type": "stream",
          "name": "stdout",
          "text": [
            "Film con più di 500 valutazioni: 2063 (4.40%)\n",
            "Film con più di 1000 valutazioni: 1128 (2.40%)\n",
            "Film con più di 5000 valutazioni: 101 (0.22%)\n"
          ]
        }
      ]
    },
    {
      "cell_type": "code",
      "source": [
        "import pandas as pd\n",
        "\n",
        "# Leggi i file necessari\n",
        "ratings = pd.read_csv('ratings.csv')\n",
        "movies_metadata = pd.read_csv('merged_movies_metadata_with_keywords_updated.csv')\n",
        "\n",
        "# Calcola il numero di valutazioni per ogni film nel file ratings.csv\n",
        "ratings_count = ratings.groupby('movieId').size().reset_index(name='rating_count')\n",
        "\n",
        "# Calcola la media delle valutazioni per ogni film nel file ratings.csv\n",
        "mean_ratings = ratings.groupby('movieId')['rating'].mean().reset_index(name='mean_rating')\n",
        "\n",
        "# Calcola la media del numero di valutazioni nel file ratings.csv\n",
        "media_ratings = ratings_count['rating_count'].mean()\n",
        "\n",
        "# Calcola il 90° percentile del numero di valutazioni nel file merged_movies_metadata_with_keywords_updated.csv\n",
        "percentile_90_votes_count = movies_metadata['vote_count'].quantile(0.90)\n",
        "\n",
        "# Unisci il numero di valutazioni e la media dei voti con il file dei film\n",
        "movies_above_avg_ratings = pd.merge(movies_metadata, ratings_count, left_on='id', right_on='movieId')\n",
        "movies_above_avg_ratings = pd.merge(movies_above_avg_ratings, mean_ratings, left_on='id', right_on='movieId')\n",
        "\n",
        "# Applica il filtro per il numero minimo di valutazioni in ratings.csv (>= alla media)\n",
        "movies_above_avg_ratings = movies_above_avg_ratings[movies_above_avg_ratings['rating_count'] >= media_ratings]\n",
        "\n",
        "# Applica il filtro per il numero di valutazioni in vote_count (>= al 90° percentile)\n",
        "movies_above_avg_ratings = movies_above_avg_ratings[movies_above_avg_ratings['vote_count'] >= percentile_90_votes_count]\n",
        "\n",
        "# Filtra per i film usciti dopo il 1995\n",
        "movies_post_1995 = movies_above_avg_ratings[movies_above_avg_ratings['year'] >= 1995]\n",
        "\n",
        "# Filtro per il criterio della media del voto +- 0.5\n",
        "condition_media = (movies_post_1995['mean_rating'] >= (movies_post_1995['vote_average_normalized'] - 0.5)) & \\\n",
        "                  (movies_post_1995['mean_rating'] <= (movies_post_1995['vote_average_normalized'] + 0.5))\n",
        "\n",
        "# Applica il filtro\n",
        "filtered_movies = movies_post_1995[condition_media]\n",
        "\n",
        "# Ordina per la media del voto e seleziona i migliori 10\n",
        "top_10_movies = filtered_movies.nlargest(10, 'mean_rating')\n",
        "\n",
        "# Mostra la lista dei 10 film più popolari\n",
        "print(top_10_movies[['id', 'title', 'mean_rating', 'rating_count', 'vote_count']])\n",
        "\n",
        "# Esportare il risultato in un file CSV se necessario\n",
        "top_10_movies.to_csv('top_10_movies_1995_media_percentile_90.csv', index=False)\n"
      ],
      "metadata": {
        "colab": {
          "base_uri": "https://localhost:8080/"
        },
        "id": "GPplKJhb_GW6",
        "outputId": "ee54b33e-69b5-40c5-f9af-872f6cc84d27"
      },
      "execution_count": 28,
      "outputs": [
        {
          "output_type": "stream",
          "name": "stdout",
          "text": [
            "        id                                       title  mean_rating  \\\n",
            "4138  1254                       Don't Worry, I'm Fine     4.128207   \n",
            "2395  1280                                      3-Iron     4.114931   \n",
            "2365   670                                      Oldboy     4.112805   \n",
            "798    745                             The Sixth Sense     4.112609   \n",
            "2908  1949                                      Zodiac     4.110604   \n",
            "2864  1251                       Letters from Iwo Jima     4.022186   \n",
            "2047   246                                    Zatoichi     4.004338   \n",
            "2096  2502                        The Bourne Supremacy     3.978199   \n",
            "1880  1278                                The Dreamers     3.968559   \n",
            "2733    58  Pirates of the Caribbean: Dead Man's Chest     3.965011   \n",
            "\n",
            "      rating_count  vote_count  \n",
            "4138          5768       168.0  \n",
            "2395          3563       225.0  \n",
            "2365           820      2000.0  \n",
            "798          13649      3223.0  \n",
            "2908          2301      2080.0  \n",
            "2864          3651       553.0  \n",
            "2047         11412       236.0  \n",
            "2096         24678      2873.0  \n",
            "1880         17334       680.0  \n",
            "2733         13347      5380.0  \n"
          ]
        }
      ]
    },
    {
      "cell_type": "code",
      "source": [
        "import pandas as pd\n",
        "\n",
        "# Leggi i file necessari\n",
        "ratings = pd.read_csv('ratings.csv')\n",
        "movies_metadata = pd.read_csv('merged_movies_metadata_with_keywords_updated.csv')\n",
        "\n",
        "# Calcola il numero di valutazioni per ogni film nel file ratings.csv\n",
        "ratings_count = ratings.groupby('movieId').size().reset_index(name='rating_count')\n",
        "\n",
        "# Calcola la media delle valutazioni per ogni film nel file ratings.csv\n",
        "mean_ratings = ratings.groupby('movieId')['rating'].mean().reset_index(name='mean_rating')\n",
        "\n",
        "# Calcola la media del numero di valutazioni nel file ratings.csv\n",
        "media_ratings = ratings_count['rating_count'].mean()\n",
        "\n",
        "# Calcola il 90° percentile del numero di valutazioni nel file merged_movies_metadata_with_keywords_updated.csv\n",
        "percentile_95_votes_count = movies_metadata['vote_count'].quantile(0.95)\n",
        "\n",
        "# Unisci il numero di valutazioni e la media dei voti con il file dei film\n",
        "movies_above_avg_ratings = pd.merge(movies_metadata, ratings_count, left_on='id', right_on='movieId')\n",
        "movies_above_avg_ratings = pd.merge(movies_above_avg_ratings, mean_ratings, left_on='id', right_on='movieId')\n",
        "\n",
        "# Applica il filtro per il numero minimo di valutazioni in ratings.csv (>= alla media)\n",
        "movies_above_avg_ratings = movies_above_avg_ratings[movies_above_avg_ratings['rating_count'] >= media_ratings]\n",
        "\n",
        "# Applica il filtro per il numero di valutazioni in vote_count (>= al 95° percentile)\n",
        "movies_above_avg_ratings = movies_above_avg_ratings[movies_above_avg_ratings['vote_count'] >= percentile_95_votes_count]\n",
        "\n",
        "# Filtra per i film usciti dopo il 2005\n",
        "movies_post_2005 = movies_above_avg_ratings[movies_above_avg_ratings['year'] >= 2005]\n",
        "\n",
        "# Filtro per il criterio della media del voto +- 0.5\n",
        "condition_media = (movies_post_2005['mean_rating'] >= (movies_post_2005['vote_average_normalized'] - 0.5)) & \\\n",
        "                  (movies_post_2005['mean_rating'] <= (movies_post_2005['vote_average_normalized'] + 0.5))\n",
        "\n",
        "# Applica il filtro\n",
        "filtered_movies = movies_post_2005[condition_media]\n",
        "\n",
        "# Ordina per la media del voto e seleziona i migliori 10\n",
        "top_10_movies = filtered_movies.nlargest(10, 'mean_rating')\n",
        "\n",
        "# Mostra la lista dei 10 film più popolari\n",
        "print(top_10_movies[['id', 'title', 'mean_rating', 'rating_count', 'vote_count']])\n",
        "\n",
        "# Esportare il risultato in un file CSV se necessario\n",
        "top_10_movies.to_csv('top_10_movies_2005_media_percentile_95.csv', index=False)\n"
      ],
      "metadata": {
        "colab": {
          "base_uri": "https://localhost:8080/"
        },
        "id": "GjfIzREy_8F2",
        "outputId": "222e467a-9112-4043-ed27-ecdbae256b7d"
      },
      "execution_count": 29,
      "outputs": [
        {
          "output_type": "stream",
          "name": "stdout",
          "text": [
            "        id                                       title  mean_rating  \\\n",
            "2908  1949                                      Zodiac     4.110604   \n",
            "2864  1251                       Letters from Iwo Jima     4.022186   \n",
            "2733    58  Pirates of the Caribbean: Dead Man's Chest     3.965011   \n",
            "2634   116                                 Match Point     3.920597   \n",
            "3123  6023                             P.S. I Love You     3.896352   \n",
            "2879  1265                        Bridge to Terabithia     3.879848   \n",
            "3511  7445                                    Brothers     3.806181   \n",
            "2512   921                              Cinderella Man     3.786230   \n",
            "2777  1948                                       Crank     3.769618   \n",
            "2515   272                               Batman Begins     3.737873   \n",
            "\n",
            "      rating_count  vote_count  \n",
            "2908          2301      2080.0  \n",
            "2864          3651       553.0  \n",
            "2733         13347      5380.0  \n",
            "2634          1039      1134.0  \n",
            "3123           603      1011.0  \n",
            "2879         38672      1146.0  \n",
            "3511          7280       650.0  \n",
            "2512          2491       630.0  \n",
            "2777          1389      1172.0  \n",
            "2515          8370      7511.0  \n"
          ]
        }
      ]
    },
    {
      "cell_type": "code",
      "source": [
        "import pandas as pd\n",
        "\n",
        "# Leggi il file ratings.csv\n",
        "ratings = pd.read_csv('ratings.csv')\n",
        "\n",
        "# Calcola il numero di valutazioni per ogni film\n",
        "ratings_count = ratings.groupby('movieId').size().reset_index(name='rating_count')\n",
        "\n",
        "# Totale dei film\n",
        "total_movies = len(ratings_count)\n",
        "\n",
        "# Film con più di 500 valutazioni\n",
        "over_500 = ratings_count[ratings_count['rating_count'] > 500].shape[0]\n",
        "percent_over_500 = (over_500 / total_movies) * 100\n",
        "\n",
        "# Film con più di 1000 valutazioni\n",
        "over_1000 = ratings_count[ratings_count['rating_count'] > 1000].shape[0]\n",
        "percent_over_1000 = (over_1000 / total_movies) * 100\n",
        "\n",
        "# Film con più di 5000 valutazioni\n",
        "over_5000 = ratings_count[ratings_count['rating_count'] > 5000].shape[0]\n",
        "percent_over_5000 = (over_5000 / total_movies) * 100\n",
        "\n",
        "# Stampa i risultati\n",
        "print(f\"Film con più di 500 valutazioni: {over_500} ({percent_over_500:.2f}% del totale)\")\n",
        "print(f\"Film con più di 1000 valutazioni: {over_1000} ({percent_over_1000:.2f}% del totale)\")\n",
        "print(f\"Film con più di 5000 valutazioni: {over_5000} ({percent_over_5000:.2f}% del totale)\")\n"
      ],
      "metadata": {
        "colab": {
          "base_uri": "https://localhost:8080/"
        },
        "id": "IUzMY6HbCtTR",
        "outputId": "f37b4c4c-93c7-4fcc-fd90-f63b963b1824"
      },
      "execution_count": 31,
      "outputs": [
        {
          "output_type": "stream",
          "name": "stdout",
          "text": [
            "Film con più di 500 valutazioni: 5291 (11.73% del totale)\n",
            "Film con più di 1000 valutazioni: 3744 (8.30% del totale)\n",
            "Film con più di 5000 valutazioni: 1270 (2.82% del totale)\n"
          ]
        }
      ]
    },
    {
      "cell_type": "code",
      "source": [
        "import pandas as pd\n",
        "\n",
        "# Leggi i file necessari\n",
        "ratings = pd.read_csv('ratings.csv')\n",
        "movies_metadata = pd.read_csv('merged_movies_metadata_with_keywords_updated.csv')\n",
        "\n",
        "# Calcola il numero di valutazioni per ogni film nel file ratings.csv\n",
        "ratings_count = ratings.groupby('movieId').size().reset_index(name='rating_count')\n",
        "\n",
        "# Calcola la media delle valutazioni per ogni film nel file ratings.csv\n",
        "mean_ratings = ratings.groupby('movieId')['rating'].mean().reset_index(name='mean_rating')\n",
        "\n",
        "# Calcola il 95° percentile del numero di valutazioni nel file ratings.csv\n",
        "percentile_95_ratings = ratings_count['rating_count'].quantile(0.95)\n",
        "\n",
        "# Calcola il 95° percentile del numero di valutazioni (vote_count) nel file merged_movies_metadata_with_keywords_updated.csv\n",
        "percentile_95_votes_count = movies_metadata['vote_count'].quantile(0.95)\n",
        "\n",
        "# Unisci il numero di valutazioni e la media dei voti con il file dei film\n",
        "movies_above_percentile = pd.merge(movies_metadata, ratings_count, left_on='id', right_on='movieId')\n",
        "movies_above_percentile = pd.merge(movies_above_percentile, mean_ratings, left_on='id', right_on='movieId')\n",
        "\n",
        "# Applica il filtro per il numero di valutazioni in ratings.csv (>= al 95° percentile)\n",
        "movies_above_percentile = movies_above_percentile[movies_above_percentile['rating_count'] >= percentile_95_ratings]\n",
        "\n",
        "# Applica il filtro per il numero di valutazioni in vote_count (>= al 95° percentile)\n",
        "movies_above_percentile = movies_above_percentile[movies_above_percentile['vote_count'] >= percentile_95_votes_count]\n",
        "\n",
        "# Filtra per i film usciti dopo il 2005\n",
        "movies_post_2005 = movies_above_percentile[movies_above_percentile['year'] >= 2005]\n",
        "\n",
        "# Filtro per il criterio della media del voto +- 0.5\n",
        "condition_media = (movies_post_2005['mean_rating'] >= (movies_post_2005['vote_average_normalized'] - 0.5)) & \\\n",
        "                  (movies_post_2005['mean_rating'] <= (movies_post_2005['vote_average_normalized'] + 0.5))\n",
        "\n",
        "# Applica il filtro\n",
        "filtered_movies = movies_post_2005[condition_media]\n",
        "\n",
        "# Ordina per la media del voto e seleziona i migliori 10\n",
        "top_10_movies = filtered_movies.nlargest(10, 'mean_rating')\n",
        "\n",
        "# Mostra la lista dei 10 film più popolari\n",
        "print(top_10_movies[['id', 'title', 'mean_rating', 'rating_count', 'vote_count']])\n",
        "\n",
        "# Esportare il risultato in un file CSV se necessario\n",
        "top_10_movies.to_csv('top_10_movies_2005_percentile_95_both.csv', index=False)\n"
      ],
      "metadata": {
        "colab": {
          "base_uri": "https://localhost:8080/"
        },
        "id": "LjTm3LZ3Dsu3",
        "outputId": "027c1b08-218e-4592-d8f7-8d920b267dd7"
      },
      "execution_count": 32,
      "outputs": [
        {
          "output_type": "stream",
          "name": "stdout",
          "text": [
            "        id                                       title  mean_rating  \\\n",
            "2908  1949                                      Zodiac     4.110604   \n",
            "2864  1251                       Letters from Iwo Jima     4.022186   \n",
            "2733    58  Pirates of the Caribbean: Dead Man's Chest     3.965011   \n",
            "2879  1265                        Bridge to Terabithia     3.879848   \n",
            "3511  7445                                    Brothers     3.806181   \n",
            "2512   921                              Cinderella Man     3.786230   \n",
            "2515   272                               Batman Begins     3.737873   \n",
            "2913  1271                                         300     3.726079   \n",
            "2830  1124                                The Prestige     3.687686   \n",
            "2614    25                                     Jarhead     3.667513   \n",
            "\n",
            "      rating_count  vote_count  \n",
            "2908          2301      2080.0  \n",
            "2864          3651       553.0  \n",
            "2733         13347      5380.0  \n",
            "2879         38672      1146.0  \n",
            "3511          7280       650.0  \n",
            "2512          2491       630.0  \n",
            "2515          8370      7511.0  \n",
            "2913         10357      5092.0  \n",
            "2830          5035      4510.0  \n",
            "2614         24619       776.0  \n"
          ]
        }
      ]
    },
    {
      "cell_type": "code",
      "source": [
        "import pandas as pd\n",
        "\n",
        "# Leggi i file necessari\n",
        "ratings = pd.read_csv('ratings.csv')\n",
        "movies_metadata = pd.read_csv('merged_movies_metadata_with_keywords_updated.csv')\n",
        "\n",
        "# Calcola il numero di valutazioni per ogni film nel file ratings.csv\n",
        "ratings_count = ratings.groupby('movieId').size().reset_index(name='rating_count')\n",
        "\n",
        "# Calcola la media delle valutazioni per ogni film nel file ratings.csv\n",
        "mean_ratings = ratings.groupby('movieId')['rating'].mean().reset_index(name='mean_rating')\n",
        "\n",
        "# Calcola il 95° percentile del numero di valutazioni nel file ratings.csv\n",
        "percentile_95_ratings = ratings_count['rating_count'].quantile(0.95)\n",
        "\n",
        "# Calcola il 95° percentile del numero di valutazioni (vote_count) nel file merged_movies_metadata_with_keywords_updated.csv\n",
        "percentile_95_votes_count = movies_metadata['vote_count'].quantile(0.95)\n",
        "\n",
        "# Unisci il numero di valutazioni e la media dei voti con il file dei film\n",
        "movies_above_percentile = pd.merge(movies_metadata, ratings_count, left_on='id', right_on='movieId')\n",
        "movies_above_percentile = pd.merge(movies_above_percentile, mean_ratings, left_on='id', right_on='movieId')\n",
        "\n",
        "# Applica il filtro per il numero di valutazioni in ratings.csv (>= al 95° percentile)\n",
        "movies_above_percentile = movies_above_percentile[movies_above_percentile['rating_count'] >= percentile_95_ratings]\n",
        "\n",
        "# Applica il filtro per il numero di valutazioni in vote_count (>= al 95° percentile)\n",
        "movies_above_percentile = movies_above_percentile[movies_above_percentile['vote_count'] >= percentile_95_votes_count]\n",
        "\n",
        "# Filtra per i film usciti dopo il 1995\n",
        "movies_post_1995 = movies_above_percentile[movies_above_percentile['year'] >= 1995]\n",
        "\n",
        "# Filtro per il criterio della media del voto +- 0.5\n",
        "condition_media = (movies_post_1995['mean_rating'] >= (movies_post_1995['vote_average_normalized'] - 0.5)) & \\\n",
        "                  (movies_post_1995['mean_rating'] <= (movies_post_1995['vote_average_normalized'] + 0.5))\n",
        "\n",
        "# Applica il filtro\n",
        "filtered_movies = movies_post_1995[condition_media]\n",
        "\n",
        "# Ordina per la media del voto e seleziona i migliori 10\n",
        "top_10_movies = filtered_movies.nlargest(10, 'mean_rating')\n",
        "\n",
        "# Mostra la lista dei 10 film più popolari\n",
        "print(top_10_movies[['id', 'title', 'mean_rating', 'rating_count', 'vote_count']])\n",
        "\n",
        "# Esportare il risultato in un file CSV se necessario\n",
        "top_10_movies.to_csv('top_10_movies_1995_percentile_95_both.csv', index=False)\n"
      ],
      "metadata": {
        "colab": {
          "base_uri": "https://localhost:8080/"
        },
        "id": "RDU3VEcxEc0f",
        "outputId": "7e40c447-b7aa-41ec-bd60-64131bca4808"
      },
      "execution_count": 33,
      "outputs": [
        {
          "output_type": "stream",
          "name": "stdout",
          "text": [
            "        id                                       title  mean_rating  \\\n",
            "798    745                             The Sixth Sense     4.112609   \n",
            "2908  1949                                      Zodiac     4.110604   \n",
            "2864  1251                       Letters from Iwo Jima     4.022186   \n",
            "2096  2502                        The Bourne Supremacy     3.978199   \n",
            "1880  1278                                The Dreamers     3.968559   \n",
            "2733    58  Pirates of the Caribbean: Dead Man's Chest     3.965011   \n",
            "497   4995                               Boogie Nights     3.957019   \n",
            "2      949                                        Heat     3.905544   \n",
            "2879  1265                        Bridge to Terabithia     3.879848   \n",
            "882    497                              The Green Mile     3.870980   \n",
            "\n",
            "      rating_count  vote_count  \n",
            "798          13649      3223.0  \n",
            "2908          2301      2080.0  \n",
            "2864          3651       553.0  \n",
            "2096         24678      2873.0  \n",
            "1880         17334       680.0  \n",
            "2733         13347      5380.0  \n",
            "497          31130       812.0  \n",
            "2             2345      1886.0  \n",
            "2879         38672      1146.0  \n",
            "882          15269      4166.0  \n"
          ]
        }
      ]
    },
    {
      "cell_type": "code",
      "source": [
        "import pandas as pd\n",
        "\n",
        "# Leggi i file necessari\n",
        "ratings = pd.read_csv('ratings.csv')\n",
        "movies_metadata = pd.read_csv('merged_movies_metadata_with_keywords_updated.csv')\n",
        "\n",
        "# Calcola il numero di valutazioni per ogni film nel file ratings.csv\n",
        "ratings_count = ratings.groupby('movieId').size().reset_index(name='rating_count')\n",
        "\n",
        "# Calcola la media delle valutazioni per ogni film nel file ratings.csv\n",
        "mean_ratings = ratings.groupby('movieId')['rating'].mean().reset_index(name='mean_rating')\n",
        "\n",
        "# Calcola il 95° percentile del numero di valutazioni nel file ratings.csv\n",
        "percentile_95_ratings = ratings_count['rating_count'].quantile(0.95)\n",
        "\n",
        "# Calcola il 95° percentile del numero di valutazioni (vote_count) nel file merged_movies_metadata_with_keywords_updated.csv\n",
        "percentile_95_votes_count = movies_metadata['vote_count'].quantile(0.95)\n",
        "\n",
        "# Unisci il numero di valutazioni e la media dei voti con il file dei film\n",
        "movies_above_percentile = pd.merge(movies_metadata, ratings_count, left_on='id', right_on='movieId')\n",
        "movies_above_percentile = pd.merge(movies_above_percentile, mean_ratings, left_on='id', right_on='movieId')\n",
        "\n",
        "# Applica il filtro per il numero di valutazioni in ratings.csv (>= al 95° percentile)\n",
        "movies_above_percentile = movies_above_percentile[movies_above_percentile['rating_count'] >= percentile_95_ratings]\n",
        "\n",
        "# Applica il filtro per il numero di valutazioni in vote_count (>= al 95° percentile)\n",
        "movies_above_percentile = movies_above_percentile[movies_above_percentile['vote_count'] >= percentile_95_votes_count]\n",
        "\n",
        "# Filtra per i film usciti dopo il 1995\n",
        "movies_post_1995 = movies_above_percentile[movies_above_percentile['year'] >= 1995]\n",
        "\n",
        "# Filtro per il criterio della media del voto +- 0.5\n",
        "condition_media = (movies_post_1995['mean_rating'] >= (movies_post_1995['vote_average_normalized'] - 0.5)) & \\\n",
        "                  (movies_post_1995['mean_rating'] <= (movies_post_1995['vote_average_normalized'] + 0.5))\n",
        "\n",
        "# Applica il filtro\n",
        "filtered_movies = movies_post_1995[condition_media]\n",
        "\n",
        "# Ordina per la media del voto e seleziona i migliori 10\n",
        "top_10_movies = filtered_movies.nlargest(10, 'mean_rating')\n",
        "\n",
        "# Mostra la lista dei 10 film più popolari\n",
        "print(top_10_movies[['id', 'title', 'mean_rating', 'rating_count', 'vote_count']])\n",
        "\n",
        "# Esportare il risultato in un file CSV se necessario\n",
        "top_10_movies.to_csv('top_10_movies_1995_percentile_95_both.csv', index=False)\n"
      ],
      "metadata": {
        "colab": {
          "base_uri": "https://localhost:8080/"
        },
        "id": "WX0Dg4dSFARj",
        "outputId": "0a3dce21-d951-4c80-fb02-7ea30418dfba"
      },
      "execution_count": 34,
      "outputs": [
        {
          "output_type": "stream",
          "name": "stdout",
          "text": [
            "        id                                       title  mean_rating  \\\n",
            "798    745                             The Sixth Sense     4.112609   \n",
            "2908  1949                                      Zodiac     4.110604   \n",
            "2864  1251                       Letters from Iwo Jima     4.022186   \n",
            "2096  2502                        The Bourne Supremacy     3.978199   \n",
            "1880  1278                                The Dreamers     3.968559   \n",
            "2733    58  Pirates of the Caribbean: Dead Man's Chest     3.965011   \n",
            "497   4995                               Boogie Nights     3.957019   \n",
            "2      949                                        Heat     3.905544   \n",
            "2879  1265                        Bridge to Terabithia     3.879848   \n",
            "882    497                              The Green Mile     3.870980   \n",
            "\n",
            "      rating_count  vote_count  \n",
            "798          13649      3223.0  \n",
            "2908          2301      2080.0  \n",
            "2864          3651       553.0  \n",
            "2096         24678      2873.0  \n",
            "1880         17334       680.0  \n",
            "2733         13347      5380.0  \n",
            "497          31130       812.0  \n",
            "2             2345      1886.0  \n",
            "2879         38672      1146.0  \n",
            "882          15269      4166.0  \n"
          ]
        }
      ]
    },
    {
      "cell_type": "code",
      "source": [
        "import pandas as pd\n",
        "\n",
        "# Leggi i file necessari\n",
        "ratings = pd.read_csv('ratings.csv')\n",
        "movies_metadata = pd.read_csv('merged_movies_metadata_with_keywords_updated.csv')\n",
        "\n",
        "# Calcola il numero di valutazioni per ogni film nel file ratings.csv\n",
        "ratings_count = ratings.groupby('movieId').size().reset_index(name='rating_count')\n",
        "\n",
        "# Calcola la media delle valutazioni per ogni film nel file ratings.csv\n",
        "mean_ratings = ratings.groupby('movieId')['rating'].mean().reset_index(name='mean_rating')\n",
        "\n",
        "# Calcola il 97,5° percentile del numero di valutazioni nel file ratings.csv\n",
        "percentile_97_5_ratings = ratings_count['rating_count'].quantile(0.975)\n",
        "\n",
        "# Calcola il 95° percentile del numero di valutazioni (vote_count) nel file merged_movies_metadata_with_keywords_updated.csv\n",
        "percentile_95_votes_count = movies_metadata['vote_count'].quantile(0.95)\n",
        "\n",
        "# Unisci il numero di valutazioni e la media dei voti con il file dei film\n",
        "movies_above_percentile = pd.merge(movies_metadata, ratings_count, left_on='id', right_on='movieId')\n",
        "movies_above_percentile = pd.merge(movies_above_percentile, mean_ratings, left_on='id', right_on='movieId')\n",
        "\n",
        "# Applica il filtro per il numero di valutazioni in ratings.csv (>= al 97,5° percentile)\n",
        "movies_above_percentile = movies_above_percentile[movies_above_percentile['rating_count'] >= percentile_97_5_ratings]\n",
        "\n",
        "# Applica il filtro per il numero di valutazioni in vote_count (>= al 95° percentile)\n",
        "movies_above_percentile = movies_above_percentile[movies_above_percentile['vote_count'] >= percentile_95_votes_count]\n",
        "\n",
        "# Filtra per i film usciti dopo il 2005\n",
        "movies_post_2005 = movies_above_percentile[movies_above_percentile['year'] >= 2005]\n",
        "\n",
        "# Filtro per il criterio della media del voto +- 0.5\n",
        "condition_media = (movies_post_2005['mean_rating'] >= (movies_post_2005['vote_average_normalized'] - 0.5)) & \\\n",
        "                  (movies_post_2005['mean_rating'] <= (movies_post_2005['vote_average_normalized'] + 0.5))\n",
        "\n",
        "# Applica il filtro\n",
        "filtered_movies = movies_post_2005[condition_media]\n",
        "\n",
        "# Ordina per la media del voto e seleziona i migliori 10\n",
        "top_10_movies = filtered_movies.nlargest(10, 'mean_rating')\n",
        "\n",
        "# Mostra la lista dei 10 film più popolari\n",
        "print(top_10_movies[['id', 'title', 'mean_rating', 'rating_count', 'vote_count']])\n",
        "\n",
        "# Esportare il risultato in un file CSV se necessario\n",
        "top_10_movies.to_csv('top_10_movies_2005_percentile_97_5_ratings_95_votes.csv', index=False)\n"
      ],
      "metadata": {
        "colab": {
          "base_uri": "https://localhost:8080/"
        },
        "id": "uZAbXZXWGNrd",
        "outputId": "c08dafc4-cf1e-45d1-853a-f81ea126bbad"
      },
      "execution_count": 35,
      "outputs": [
        {
          "output_type": "stream",
          "name": "stdout",
          "text": [
            "        id                                       title  mean_rating  \\\n",
            "2733    58  Pirates of the Caribbean: Dead Man's Chest     3.965011   \n",
            "2879  1265                        Bridge to Terabithia     3.879848   \n",
            "3511  7445                                    Brothers     3.806181   \n",
            "2515   272                               Batman Begins     3.737873   \n",
            "2913  1271                                         300     3.726079   \n",
            "2614    25                                     Jarhead     3.667513   \n",
            "3395  2080                    X-Men Origins: Wolverine     3.571165   \n",
            "3061  2011                                  Persepolis     3.505491   \n",
            "2732   350                       The Devil Wears Prada     3.465261   \n",
            "2849  1372                               Blood Diamond     3.295603   \n",
            "\n",
            "      rating_count  vote_count  \n",
            "2733         13347      5380.0  \n",
            "2879         38672      1146.0  \n",
            "3511          7280       650.0  \n",
            "2515          8370      7511.0  \n",
            "2913         10357      5092.0  \n",
            "2614         24619       776.0  \n",
            "3395         12211      4086.0  \n",
            "3061         24040       461.0  \n",
            "2732         16811      3198.0  \n",
            "2849         12439      2344.0  \n"
          ]
        }
      ]
    },
    {
      "cell_type": "code",
      "source": [
        "# Carica il dataset delle valutazioni\n",
        "ratings = pd.read_csv('ratings.csv')\n",
        "\n",
        "# Rinomina la colonna 'movieId' in 'id' per poter fare il merge con il file dei voti attesi\n",
        "ratings.rename(columns={'movieId': 'id'}, inplace=True)\n",
        "\n"
      ],
      "metadata": {
        "id": "W2gl2XEJ12Sj"
      },
      "execution_count": 38,
      "outputs": []
    },
    {
      "cell_type": "code",
      "source": [
        "# Verifica i nomi delle colonne nel file ratings\n",
        "print(ratings.columns)\n",
        "\n",
        "# Verifica i nomi delle colonne nel file expected_ratings\n",
        "print(expected_ratings.columns)\n",
        "\n"
      ],
      "metadata": {
        "colab": {
          "base_uri": "https://localhost:8080/"
        },
        "id": "t61nSi7T2Ykj",
        "outputId": "0d25f2bd-e06d-42fd-95d5-91a986c5b305"
      },
      "execution_count": 41,
      "outputs": [
        {
          "output_type": "stream",
          "name": "stdout",
          "text": [
            "Index(['userId', 'movieId', 'rating', 'timestamp'], dtype='object')\n",
            "Index(['id', 'title', 'genres', 'top_3_actors', 'director', 'year',\n",
            "       'belongs_to_collection', 'vote_average', 'vote_count', 'keywords',\n",
            "       'vote_average_normalized', 'movieId_x', 'rating_count', 'movieId_y',\n",
            "       'mean_rating'],\n",
            "      dtype='object')\n"
          ]
        }
      ]
    },
    {
      "cell_type": "code",
      "source": [
        "import pandas as pd\n",
        "from sklearn.model_selection import KFold\n",
        "from sklearn.metrics import mean_squared_error, mean_absolute_error, r2_score\n",
        "import numpy as np\n",
        "\n",
        "# Carica il file con i voti attesi\n",
        "expected_ratings = pd.read_csv('top_10_movies_2005_media both.csv')\n",
        "\n",
        "# Carica il dataset delle valutazioni\n",
        "ratings = pd.read_csv('ratings.csv')\n",
        "\n",
        "# Rinomina la colonna 'movieId' in 'id' per uniformarla ai voti attesi\n",
        "ratings.rename(columns={'movieId': 'id'}, inplace=True)\n",
        "\n",
        "# Filtra solo gli utenti che hanno valutato i film nella lista dei top 10\n",
        "filtered_ratings = ratings[ratings['id'].isin(expected_ratings['id'])]\n",
        "\n",
        "# Imposta il numero di fold per la cross-validation\n",
        "kfold = KFold(n_splits=5, shuffle=True, random_state=42)  # Esempio con 5-fold cross-validation\n",
        "\n",
        "# Inizializza liste per memorizzare i risultati delle metriche per ogni fold\n",
        "rmse_case1_list, mae_case1_list, r2_case1_list, precision_case1_list = [], [], [], []\n",
        "rmse_case2_list, mae_case2_list, r2_case2_list, precision_case2_list = [], [], [], []\n",
        "\n",
        "# Funzione per normalizzare i voti attesi (caso 2)\n",
        "def normalize_rating(rating):\n",
        "    if rating <= 0.24:\n",
        "        return 0\n",
        "    elif 0.25 <= rating <= 0.74:\n",
        "        return 0.5\n",
        "    elif 0.75 <= rating <= 1.25:\n",
        "        return 1\n",
        "    elif 1.26 <= rating <= 1.74:\n",
        "        return 1.5\n",
        "    elif 1.75 <= rating <= 2.25:\n",
        "        return 2\n",
        "    elif 2.26 <= rating <= 2.74:\n",
        "        return 2.5\n",
        "    elif 2.75 <= rating <= 3.25:\n",
        "        return 3\n",
        "    elif 3.26 <= rating <= 3.74:\n",
        "        return 3.5\n",
        "    elif 3.75 <= rating <= 4.25:\n",
        "        return 4\n",
        "    elif 4.26 <= rating <= 4.74:\n",
        "        return 4.5\n",
        "    else:\n",
        "        return 5\n",
        "\n",
        "# Esegui k-fold cross-validation\n",
        "for train_index, test_index in kfold.split(filtered_ratings):\n",
        "    train_set = filtered_ratings.iloc[train_index]\n",
        "    test_set = filtered_ratings.iloc[test_index]\n",
        "\n",
        "    # Unisci i voti attesi con i voti reali basati sull'ID del film nel test set\n",
        "    merged_test_set = pd.merge(test_set, expected_ratings, on='id')\n",
        "\n",
        "    # CASO 1: Calcolo delle metriche con i voti attesi originali (usando mean_rating)\n",
        "    y_true = merged_test_set['rating']  # Voti reali degli utenti\n",
        "    y_pred_case1 = merged_test_set['mean_rating']  # Voti attesi originali (mean_rating)\n",
        "\n",
        "    rmse_case1_list.append(np.sqrt(mean_squared_error(y_true, y_pred_case1)))\n",
        "    mae_case1_list.append(mean_absolute_error(y_true, y_pred_case1))\n",
        "    r2_case1_list.append(r2_score(y_true, y_pred_case1))\n",
        "    precision_case1_list.append(sum(abs(y_true - y_pred_case1) <= 1) / len(y_true))\n",
        "\n",
        "    # CASO 2: Normalizza i voti attesi (mean_rating) per il confronto\n",
        "    merged_test_set['normalized_expected_rating'] = merged_test_set['mean_rating'].apply(normalize_rating)\n",
        "    y_pred_case2 = merged_test_set['normalized_expected_rating']  # Voti attesi normalizzati\n",
        "\n",
        "    rmse_case2_list.append(np.sqrt(mean_squared_error(y_true, y_pred_case2)))\n",
        "    mae_case2_list.append(mean_absolute_error(y_true, y_pred_case2))\n",
        "    r2_case2_list.append(r2_score(y_true, y_pred_case2))\n",
        "    precision_case2_list.append(sum(abs(y_true - y_pred_case2) <= 1) / len(y_true))\n",
        "\n",
        "# Risultati medi delle metriche per i due casi\n",
        "print(\"CASO 1 (Voti attesi originali) - Media su k-fold cross-validation:\")\n",
        "print(f'RMSE medio: {np.mean(rmse_case1_list)}')\n",
        "print(f'MAE medio: {np.mean(mae_case1_list)}')\n",
        "print(f'R-squared medio: {np.mean(r2_case1_list)}')\n",
        "print(f'Precision (tolleranza ±1) media: {np.mean(precision_case1_list)}')\n",
        "\n",
        "print(\"\\nCASO 2 (Voti attesi normalizzati) - Media su k-fold cross-validation:\")\n",
        "print(f'RMSE medio: {np.mean(rmse_case2_list)}')\n",
        "print(f'MAE medio: {np.mean(mae_case2_list)}')\n",
        "print(f'R-squared medio: {np.mean(r2_case2_list)}')\n",
        "print(f'Precision (tolleranza ±1) media: {np.mean(precision_case2_list)}')\n"
      ],
      "metadata": {
        "colab": {
          "base_uri": "https://localhost:8080/"
        },
        "id": "XmC1p8B537qG",
        "outputId": "be3cdad9-c8ef-4f09-9989-23311fcfbc67"
      },
      "execution_count": 44,
      "outputs": [
        {
          "output_type": "stream",
          "name": "stdout",
          "text": [
            "CASO 1 (Voti attesi originali) - Media su k-fold cross-validation:\n",
            "RMSE medio: 0.9095858100182899\n",
            "MAE medio: 0.6914333932687321\n",
            "R-squared medio: 0.00952273995684958\n",
            "Precision (tolleranza ±1) media: 0.7129763646582419\n",
            "\n",
            "CASO 2 (Voti attesi normalizzati) - Media su k-fold cross-validation:\n",
            "RMSE medio: 0.9178095261323304\n",
            "MAE medio: 0.6611109886355375\n",
            "R-squared medio: -0.008466552845757392\n",
            "Precision (tolleranza ±1) media: 0.9210076751126632\n"
          ]
        }
      ]
    },
    {
      "cell_type": "code",
      "source": [
        "# Seleziona un numero di esempi da mostrare\n",
        "num_examples = 5  # Modifica questo numero per visualizzare più o meno esempi\n",
        "\n",
        "# Seleziona a caso un sottoinsieme di utenti\n",
        "examples = merged_test_set.sample(n=num_examples, random_state=42)\n",
        "\n",
        "# Stampa i risultati per entrambi i casi (originale e normalizzato)\n",
        "print(\"Esempi di voti reali e previsioni - Caso 1 (voti attesi originali):\\n\")\n",
        "for index, row in examples.iterrows():\n",
        "    print(f\"User ID: {row['userId']}, Film ID: {row['id']}\")\n",
        "    print(f\"Voto reale: {row['rating']}, Voto atteso (originale): {row['mean_rating']}\\n\")\n",
        "\n",
        "print(\"\\nEsempi di voti reali e previsioni - Caso 2 (voti attesi normalizzati):\\n\")\n",
        "for index, row in examples.iterrows():\n",
        "    print(f\"User ID: {row['userId']}, Film ID: {row['id']}\")\n",
        "    print(f\"Voto reale: {row['rating']}, Voto atteso (normalizzato): {row['normalized_expected_rating']}\\n\")\n"
      ],
      "metadata": {
        "colab": {
          "base_uri": "https://localhost:8080/"
        },
        "id": "u3_-U2ry53Zh",
        "outputId": "cb794b2e-c652-4f45-e285-78ca7cee8d1a"
      },
      "execution_count": 45,
      "outputs": [
        {
          "output_type": "stream",
          "name": "stdout",
          "text": [
            "Esempi di voti reali e previsioni - Caso 1 (voti attesi originali):\n",
            "\n",
            "User ID: 4841, Film ID: 1265\n",
            "Voto reale: 3.0, Voto atteso (originale): 3.8798484691766655\n",
            "\n",
            "User ID: 119300, Film ID: 1265\n",
            "Voto reale: 4.0, Voto atteso (originale): 3.8798484691766655\n",
            "\n",
            "User ID: 201137, Film ID: 1251\n",
            "Voto reale: 4.5, Voto atteso (originale): 4.022185702547247\n",
            "\n",
            "User ID: 53575, Film ID: 1265\n",
            "Voto reale: 4.0, Voto atteso (originale): 3.8798484691766655\n",
            "\n",
            "User ID: 31403, Film ID: 1265\n",
            "Voto reale: 4.0, Voto atteso (originale): 3.8798484691766655\n",
            "\n",
            "\n",
            "Esempi di voti reali e previsioni - Caso 2 (voti attesi normalizzati):\n",
            "\n",
            "User ID: 4841, Film ID: 1265\n",
            "Voto reale: 3.0, Voto atteso (normalizzato): 4\n",
            "\n",
            "User ID: 119300, Film ID: 1265\n",
            "Voto reale: 4.0, Voto atteso (normalizzato): 4\n",
            "\n",
            "User ID: 201137, Film ID: 1251\n",
            "Voto reale: 4.5, Voto atteso (normalizzato): 4\n",
            "\n",
            "User ID: 53575, Film ID: 1265\n",
            "Voto reale: 4.0, Voto atteso (normalizzato): 4\n",
            "\n",
            "User ID: 31403, Film ID: 1265\n",
            "Voto reale: 4.0, Voto atteso (normalizzato): 4\n",
            "\n"
          ]
        }
      ]
    },
    {
      "cell_type": "code",
      "source": [
        "import matplotlib.pyplot as plt\n",
        "import numpy as np\n",
        "\n",
        "# Valori medi delle metriche per i due casi (quelli che hai fornito)\n",
        "metrics = ['RMSE', 'MAE', 'R-squared', 'Precision (±1)']\n",
        "case_1_values = [0.9096, 0.6914, 0.0095, 0.7130]\n",
        "case_2_values = [0.9178, 0.6611, -0.0085, 0.9210]\n",
        "\n",
        "# Configurazione del grafico\n",
        "x = np.arange(len(metrics))\n",
        "width = 0.35  # Larghezza delle barre\n",
        "\n",
        "fig, ax = plt.subplots()\n",
        "bars_case_1 = ax.bar(x - width/2, case_1_values, width, label='Caso 1 (Originali)')\n",
        "bars_case_2 = ax.bar(x + width/2, case_2_values, width, label='Caso 2 (Normalizzati)')\n",
        "\n",
        "# Aggiungi etichette e titolo\n",
        "ax.set_xlabel('Metriche')\n",
        "ax.set_title('Confronto delle metriche tra Caso 1 e Caso 2')\n",
        "ax.set_xticks(x)\n",
        "ax.set_xticklabels(metrics)\n",
        "ax.legend()\n",
        "\n",
        "# Mostra il grafico\n",
        "plt.tight_layout()\n",
        "plt.show()\n"
      ],
      "metadata": {
        "colab": {
          "base_uri": "https://localhost:8080/",
          "height": 481
        },
        "id": "KUP6PpUf6MtP",
        "outputId": "e362e1f2-ed2d-4b33-b2d3-34d1ec670723"
      },
      "execution_count": 46,
      "outputs": [
        {
          "output_type": "display_data",
          "data": {
            "text/plain": [
              "<Figure size 640x480 with 1 Axes>"
            ],
            "image/png": "[encoded data removed]"
          },
          "metadata": {}
        }
      ]
    },
    {
      "cell_type": "code",
      "source": [
        "import pandas as pd\n",
        "from sklearn.model_selection import KFold\n",
        "from sklearn.metrics import mean_squared_error, mean_absolute_error, r2_score\n",
        "import numpy as np\n",
        "\n",
        "# Carica il file con i voti attesi\n",
        "expected_ratings = pd.read_csv('top_10_movies_1995_media both.csv')\n",
        "\n",
        "# Carica il dataset delle valutazioni\n",
        "ratings = pd.read_csv('ratings.csv')\n",
        "\n",
        "# Rinomina la colonna 'movieId' in 'id' per uniformarla ai voti attesi\n",
        "ratings.rename(columns={'movieId': 'id'}, inplace=True)\n",
        "\n",
        "# Filtra solo gli utenti che hanno valutato i film nella lista dei top 10\n",
        "filtered_ratings = ratings[ratings['id'].isin(expected_ratings['id'])]\n",
        "\n",
        "# Imposta il numero di fold per la cross-validation\n",
        "kfold = KFold(n_splits=5, shuffle=True, random_state=42)  # Esempio con 5-fold cross-validation\n",
        "\n",
        "# Inizializza liste per memorizzare i risultati delle metriche per ogni fold\n",
        "rmse_case1_list, mae_case1_list, r2_case1_list, precision_case1_list = [], [], [], []\n",
        "rmse_case2_list, mae_case2_list, r2_case2_list, precision_case2_list = [], [], [], []\n",
        "\n",
        "# Funzione per normalizzare i voti attesi (caso 2)\n",
        "def normalize_rating(rating):\n",
        "    if rating <= 0.24:\n",
        "        return 0\n",
        "    elif 0.25 <= rating <= 0.74:\n",
        "        return 0.5\n",
        "    elif 0.75 <= rating <= 1.25:\n",
        "        return 1\n",
        "    elif 1.26 <= rating <= 1.74:\n",
        "        return 1.5\n",
        "    elif 1.75 <= rating <= 2.25:\n",
        "        return 2\n",
        "    elif 2.26 <= rating <= 2.74:\n",
        "        return 2.5\n",
        "    elif 2.75 <= rating <= 3.25:\n",
        "        return 3\n",
        "    elif 3.26 <= rating <= 3.74:\n",
        "        return 3.5\n",
        "    elif 3.75 <= rating <= 4.25:\n",
        "        return 4\n",
        "    elif 4.26 <= rating <= 4.74:\n",
        "        return 4.5\n",
        "    else:\n",
        "        return 5\n",
        "\n",
        "# Esegui k-fold cross-validation\n",
        "for train_index, test_index in kfold.split(filtered_ratings):\n",
        "    train_set = filtered_ratings.iloc[train_index]\n",
        "    test_set = filtered_ratings.iloc[test_index]\n",
        "\n",
        "    # Unisci i voti attesi con i voti reali basati sull'ID del film nel test set\n",
        "    merged_test_set = pd.merge(test_set, expected_ratings, on='id')\n",
        "\n",
        "    # CASO 1: Calcolo delle metriche con i voti attesi originali (usando mean_rating)\n",
        "    y_true = merged_test_set['rating']  # Voti reali degli utenti\n",
        "    y_pred_case1 = merged_test_set['mean_rating']  # Voti attesi originali (mean_rating)\n",
        "\n",
        "    rmse_case1_list.append(np.sqrt(mean_squared_error(y_true, y_pred_case1)))\n",
        "    mae_case1_list.append(mean_absolute_error(y_true, y_pred_case1))\n",
        "    r2_case1_list.append(r2_score(y_true, y_pred_case1))\n",
        "    precision_case1_list.append(sum(abs(y_true - y_pred_case1) <= 1) / len(y_true))\n",
        "\n",
        "    # CASO 2: Normalizza i voti attesi (mean_rating) per il confronto\n",
        "    merged_test_set['normalized_expected_rating'] = merged_test_set['mean_rating'].apply(normalize_rating)\n",
        "    y_pred_case2 = merged_test_set['normalized_expected_rating']  # Voti attesi normalizzati\n",
        "\n",
        "    rmse_case2_list.append(np.sqrt(mean_squared_error(y_true, y_pred_case2)))\n",
        "    mae_case2_list.append(mean_absolute_error(y_true, y_pred_case2))\n",
        "    r2_case2_list.append(r2_score(y_true, y_pred_case2))\n",
        "    precision_case2_list.append(sum(abs(y_true - y_pred_case2) <= 1) / len(y_true))\n",
        "\n",
        "# Risultati medi delle metriche per i due casi\n",
        "print(\"CASO 1 (Voti attesi originali) - Media su k-fold cross-validation:\")\n",
        "print(f'RMSE medio: {np.mean(rmse_case1_list)}')\n",
        "print(f'MAE medio: {np.mean(mae_case1_list)}')\n",
        "print(f'R-squared medio: {np.mean(r2_case1_list)}')\n",
        "print(f'Precision (tolleranza ±1) media: {np.mean(precision_case1_list)}')\n",
        "\n",
        "print(\"\\nCASO 2 (Voti attesi normalizzati) - Media su k-fold cross-validation:\")\n",
        "print(f'RMSE medio: {np.mean(rmse_case2_list)}')\n",
        "print(f'MAE medio: {np.mean(mae_case2_list)}')\n",
        "print(f'R-squared medio: {np.mean(r2_case2_list)}')\n",
        "print(f'Precision (tolleranza ±1) media: {np.mean(precision_case2_list)}')\n"
      ],
      "metadata": {
        "colab": {
          "base_uri": "https://localhost:8080/"
        },
        "id": "bGerUzjI6iJb",
        "outputId": "481d6550-557b-439a-ef5d-1b2f69b816cb"
      },
      "execution_count": 47,
      "outputs": [
        {
          "output_type": "stream",
          "name": "stdout",
          "text": [
            "CASO 1 (Voti attesi originali) - Media su k-fold cross-validation:\n",
            "RMSE medio: 0.9154591473940107\n",
            "MAE medio: 0.6747318268913246\n",
            "R-squared medio: 0.004670549876055796\n",
            "Precision (tolleranza ±1) media: 0.7493975839583842\n",
            "\n",
            "CASO 2 (Voti attesi normalizzati) - Media su k-fold cross-validation:\n",
            "RMSE medio: 0.9179614377862573\n",
            "MAE medio: 0.6653445931029024\n",
            "R-squared medio: -0.00078100488163102\n",
            "Precision (tolleranza ±1) media: 0.9306725062303747\n"
          ]
        }
      ]
    },
    {
      "cell_type": "code",
      "source": [
        "import pandas as pd\n",
        "from sklearn.model_selection import KFold\n",
        "from sklearn.metrics import mean_squared_error, mean_absolute_error, r2_score\n",
        "import numpy as np\n",
        "\n",
        "# Carica il file con i voti attesi\n",
        "expected_ratings = pd.read_csv('top_10_movies_2005_media_percentile_95.csv')\n",
        "\n",
        "# Carica il dataset delle valutazioni\n",
        "ratings = pd.read_csv('ratings.csv')\n",
        "\n",
        "# Rinomina la colonna 'movieId' in 'id' per uniformarla ai voti attesi\n",
        "ratings.rename(columns={'movieId': 'id'}, inplace=True)\n",
        "\n",
        "# Filtra solo gli utenti che hanno valutato i film nella lista dei top 10\n",
        "filtered_ratings = ratings[ratings['id'].isin(expected_ratings['id'])]\n",
        "\n",
        "# Imposta il numero di fold per la cross-validation\n",
        "kfold = KFold(n_splits=5, shuffle=True, random_state=42)  # Esempio con 5-fold cross-validation\n",
        "\n",
        "# Inizializza liste per memorizzare i risultati delle metriche per ogni fold\n",
        "rmse_case1_list, mae_case1_list, r2_case1_list, precision_case1_list = [], [], [], []\n",
        "rmse_case2_list, mae_case2_list, r2_case2_list, precision_case2_list = [], [], [], []\n",
        "\n",
        "# Funzione per normalizzare i voti attesi (caso 2)\n",
        "def normalize_rating(rating):\n",
        "    if rating <= 0.24:\n",
        "        return 0\n",
        "    elif 0.25 <= rating <= 0.74:\n",
        "        return 0.5\n",
        "    elif 0.75 <= rating <= 1.25:\n",
        "        return 1\n",
        "    elif 1.26 <= rating <= 1.74:\n",
        "        return 1.5\n",
        "    elif 1.75 <= rating <= 2.25:\n",
        "        return 2\n",
        "    elif 2.26 <= rating <= 2.74:\n",
        "        return 2.5\n",
        "    elif 2.75 <= rating <= 3.25:\n",
        "        return 3\n",
        "    elif 3.26 <= rating <= 3.74:\n",
        "        return 3.5\n",
        "    elif 3.75 <= rating <= 4.25:\n",
        "        return 4\n",
        "    elif 4.26 <= rating <= 4.74:\n",
        "        return 4.5\n",
        "    else:\n",
        "        return 5\n",
        "\n",
        "# Esegui k-fold cross-validation\n",
        "for train_index, test_index in kfold.split(filtered_ratings):\n",
        "    train_set = filtered_ratings.iloc[train_index]\n",
        "    test_set = filtered_ratings.iloc[test_index]\n",
        "\n",
        "    # Unisci i voti attesi con i voti reali basati sull'ID del film nel test set\n",
        "    merged_test_set = pd.merge(test_set, expected_ratings, on='id')\n",
        "\n",
        "    # CASO 1: Calcolo delle metriche con i voti attesi originali (usando mean_rating)\n",
        "    y_true = merged_test_set['rating']  # Voti reali degli utenti\n",
        "    y_pred_case1 = merged_test_set['mean_rating']  # Voti attesi originali (mean_rating)\n",
        "\n",
        "    rmse_case1_list.append(np.sqrt(mean_squared_error(y_true, y_pred_case1)))\n",
        "    mae_case1_list.append(mean_absolute_error(y_true, y_pred_case1))\n",
        "    r2_case1_list.append(r2_score(y_true, y_pred_case1))\n",
        "    precision_case1_list.append(sum(abs(y_true - y_pred_case1) <= 1) / len(y_true))\n",
        "\n",
        "    # CASO 2: Normalizza i voti attesi (mean_rating) per il confronto\n",
        "    merged_test_set['normalized_expected_rating'] = merged_test_set['mean_rating'].apply(normalize_rating)\n",
        "    y_pred_case2 = merged_test_set['normalized_expected_rating']  # Voti attesi normalizzati\n",
        "\n",
        "    rmse_case2_list.append(np.sqrt(mean_squared_error(y_true, y_pred_case2)))\n",
        "    mae_case2_list.append(mean_absolute_error(y_true, y_pred_case2))\n",
        "    r2_case2_list.append(r2_score(y_true, y_pred_case2))\n",
        "    precision_case2_list.append(sum(abs(y_true - y_pred_case2) <= 1) / len(y_true))\n",
        "\n",
        "# Risultati medi delle metriche per i due casi\n",
        "print(\"CASO 1 (Voti attesi originali) - Media su k-fold cross-validation:\")\n",
        "print(f'RMSE medio: {np.mean(rmse_case1_list)}')\n",
        "print(f'MAE medio: {np.mean(mae_case1_list)}')\n",
        "print(f'R-squared medio: {np.mean(r2_case1_list)}')\n",
        "print(f'Precision (tolleranza ±1) media: {np.mean(precision_case1_list)}')\n",
        "\n",
        "print(\"\\nCASO 2 (Voti attesi normalizzati) - Media su k-fold cross-validation:\")\n",
        "print(f'RMSE medio: {np.mean(rmse_case2_list)}')\n",
        "print(f'MAE medio: {np.mean(mae_case2_list)}')\n",
        "print(f'R-squared medio: {np.mean(r2_case2_list)}')\n",
        "print(f'Precision (tolleranza ±1) media: {np.mean(precision_case2_list)}')\n"
      ],
      "metadata": {
        "colab": {
          "base_uri": "https://localhost:8080/"
        },
        "id": "DGecooJR7Ek9",
        "outputId": "47cb968c-f189-47c2-b2d7-d54b261523be"
      },
      "execution_count": 48,
      "outputs": [
        {
          "output_type": "stream",
          "name": "stdout",
          "text": [
            "CASO 1 (Voti attesi originali) - Media su k-fold cross-validation:\n",
            "RMSE medio: 0.9117341017792515\n",
            "MAE medio: 0.6969240504705844\n",
            "R-squared medio: 0.008099377773966188\n",
            "Precision (tolleranza ±1) media: 0.7074409535139046\n",
            "\n",
            "CASO 2 (Voti attesi normalizzati) - Media su k-fold cross-validation:\n",
            "RMSE medio: 0.9224263475193609\n",
            "MAE medio: 0.6743426232466512\n",
            "R-squared medio: -0.015303004554963718\n",
            "Precision (tolleranza ±1) media: 0.8998774358308477\n"
          ]
        }
      ]
    },
    {
      "cell_type": "code",
      "source": [
        "import pandas as pd\n",
        "from sklearn.model_selection import KFold\n",
        "from sklearn.metrics import mean_squared_error, mean_absolute_error, r2_score\n",
        "import numpy as np\n",
        "\n",
        "# Carica il file con i voti attesi\n",
        "expected_ratings = pd.read_csv('top_10_movies_2005_percentile_95_both.csv')\n",
        "\n",
        "# Carica il dataset delle valutazioni\n",
        "ratings = pd.read_csv('ratings.csv')\n",
        "\n",
        "# Rinomina la colonna 'movieId' in 'id' per uniformarla ai voti attesi\n",
        "ratings.rename(columns={'movieId': 'id'}, inplace=True)\n",
        "\n",
        "# Filtra solo gli utenti che hanno valutato i film nella lista dei top 10\n",
        "filtered_ratings = ratings[ratings['id'].isin(expected_ratings['id'])]\n",
        "\n",
        "# Imposta il numero di fold per la cross-validation\n",
        "kfold = KFold(n_splits=5, shuffle=True, random_state=42)  # Esempio con 5-fold cross-validation\n",
        "\n",
        "# Inizializza liste per memorizzare i risultati delle metriche per ogni fold\n",
        "rmse_case1_list, mae_case1_list, r2_case1_list, precision_case1_list = [], [], [], []\n",
        "rmse_case2_list, mae_case2_list, r2_case2_list, precision_case2_list = [], [], [], []\n",
        "\n",
        "# Funzione per normalizzare i voti attesi (caso 2)\n",
        "def normalize_rating(rating):\n",
        "    if rating <= 0.24:\n",
        "        return 0\n",
        "    elif 0.25 <= rating <= 0.74:\n",
        "        return 0.5\n",
        "    elif 0.75 <= rating <= 1.25:\n",
        "        return 1\n",
        "    elif 1.26 <= rating <= 1.74:\n",
        "        return 1.5\n",
        "    elif 1.75 <= rating <= 2.25:\n",
        "        return 2\n",
        "    elif 2.26 <= rating <= 2.74:\n",
        "        return 2.5\n",
        "    elif 2.75 <= rating <= 3.25:\n",
        "        return 3\n",
        "    elif 3.26 <= rating <= 3.74:\n",
        "        return 3.5\n",
        "    elif 3.75 <= rating <= 4.25:\n",
        "        return 4\n",
        "    elif 4.26 <= rating <= 4.74:\n",
        "        return 4.5\n",
        "    else:\n",
        "        return 5\n",
        "\n",
        "# Esegui k-fold cross-validation\n",
        "for train_index, test_index in kfold.split(filtered_ratings):\n",
        "    train_set = filtered_ratings.iloc[train_index]\n",
        "    test_set = filtered_ratings.iloc[test_index]\n",
        "\n",
        "    # Unisci i voti attesi con i voti reali basati sull'ID del film nel test set\n",
        "    merged_test_set = pd.merge(test_set, expected_ratings, on='id')\n",
        "\n",
        "    # CASO 1: Calcolo delle metriche con i voti attesi originali (usando mean_rating)\n",
        "    y_true = merged_test_set['rating']  # Voti reali degli utenti\n",
        "    y_pred_case1 = merged_test_set['mean_rating']  # Voti attesi originali (mean_rating)\n",
        "\n",
        "    rmse_case1_list.append(np.sqrt(mean_squared_error(y_true, y_pred_case1)))\n",
        "    mae_case1_list.append(mean_absolute_error(y_true, y_pred_case1))\n",
        "    r2_case1_list.append(r2_score(y_true, y_pred_case1))\n",
        "    precision_case1_list.append(sum(abs(y_true - y_pred_case1) <= 1) / len(y_true))\n",
        "\n",
        "    # CASO 2: Normalizza i voti attesi (mean_rating) per il confronto\n",
        "    merged_test_set['normalized_expected_rating'] = merged_test_set['mean_rating'].apply(normalize_rating)\n",
        "    y_pred_case2 = merged_test_set['normalized_expected_rating']  # Voti attesi normalizzati\n",
        "\n",
        "    rmse_case2_list.append(np.sqrt(mean_squared_error(y_true, y_pred_case2)))\n",
        "    mae_case2_list.append(mean_absolute_error(y_true, y_pred_case2))\n",
        "    r2_case2_list.append(r2_score(y_true, y_pred_case2))\n",
        "    precision_case2_list.append(sum(abs(y_true - y_pred_case2) <= 1) / len(y_true))\n",
        "\n",
        "# Risultati medi delle metriche per i due casi\n",
        "print(\"CASO 1 (Voti attesi originali) - Media su k-fold cross-validation:\")\n",
        "print(f'RMSE medio: {np.mean(rmse_case1_list)}')\n",
        "print(f'MAE medio: {np.mean(mae_case1_list)}')\n",
        "print(f'R-squared medio: {np.mean(r2_case1_list)}')\n",
        "print(f'Precision (tolleranza ±1) media: {np.mean(precision_case1_list)}')\n",
        "\n",
        "print(\"\\nCASO 2 (Voti attesi normalizzati) - Media su k-fold cross-validation:\")\n",
        "print(f'RMSE medio: {np.mean(rmse_case2_list)}')\n",
        "print(f'MAE medio: {np.mean(mae_case2_list)}')\n",
        "print(f'R-squared medio: {np.mean(r2_case2_list)}')\n",
        "print(f'Precision (tolleranza ±1) media: {np.mean(precision_case2_list)}')\n"
      ],
      "metadata": {
        "colab": {
          "base_uri": "https://localhost:8080/"
        },
        "id": "XjZhyPCm7acy",
        "outputId": "dbe18006-7bf7-4b01-d5c0-556a30f275c3"
      },
      "execution_count": 49,
      "outputs": [
        {
          "output_type": "stream",
          "name": "stdout",
          "text": [
            "CASO 1 (Voti attesi originali) - Media su k-fold cross-validation:\n",
            "RMSE medio: 0.9452107174346599\n",
            "MAE medio: 0.7353771538218669\n",
            "R-squared medio: 0.01490635960452702\n",
            "Precision (tolleranza ±1) media: 0.700042206811038\n",
            "\n",
            "CASO 2 (Voti attesi normalizzati) - Media su k-fold cross-validation:\n",
            "RMSE medio: 0.9581646532193593\n",
            "MAE medio: 0.7316552412095871\n",
            "R-squared medio: -0.012285117082316433\n",
            "Precision (tolleranza ±1) media: 0.830713987645756\n"
          ]
        }
      ]
    },
    {
      "cell_type": "code",
      "source": [
        "import pandas as pd\n",
        "from sklearn.model_selection import KFold\n",
        "from sklearn.metrics import mean_squared_error, mean_absolute_error, r2_score\n",
        "import numpy as np\n",
        "\n",
        "# Carica il file con i voti attesi\n",
        "expected_ratings = pd.read_csv('top_10_movies_1995_percentile_95_both.csv')\n",
        "\n",
        "# Carica il dataset delle valutazioni\n",
        "ratings = pd.read_csv('ratings.csv')\n",
        "\n",
        "# Rinomina la colonna 'movieId' in 'id' per uniformarla ai voti attesi\n",
        "ratings.rename(columns={'movieId': 'id'}, inplace=True)\n",
        "\n",
        "# Filtra solo gli utenti che hanno valutato i film nella lista dei top 10\n",
        "filtered_ratings = ratings[ratings['id'].isin(expected_ratings['id'])]\n",
        "\n",
        "# Imposta il numero di fold per la cross-validation\n",
        "kfold = KFold(n_splits=5, shuffle=True, random_state=42)  # Esempio con 5-fold cross-validation\n",
        "\n",
        "# Inizializza liste per memorizzare i risultati delle metriche per ogni fold\n",
        "rmse_case1_list, mae_case1_list, r2_case1_list, precision_case1_list = [], [], [], []\n",
        "rmse_case2_list, mae_case2_list, r2_case2_list, precision_case2_list = [], [], [], []\n",
        "\n",
        "# Funzione per normalizzare i voti attesi (caso 2)\n",
        "def normalize_rating(rating):\n",
        "    if rating <= 0.24:\n",
        "        return 0\n",
        "    elif 0.25 <= rating <= 0.74:\n",
        "        return 0.5\n",
        "    elif 0.75 <= rating <= 1.25:\n",
        "        return 1\n",
        "    elif 1.26 <= rating <= 1.74:\n",
        "        return 1.5\n",
        "    elif 1.75 <= rating <= 2.25:\n",
        "        return 2\n",
        "    elif 2.26 <= rating <= 2.74:\n",
        "        return 2.5\n",
        "    elif 2.75 <= rating <= 3.25:\n",
        "        return 3\n",
        "    elif 3.26 <= rating <= 3.74:\n",
        "        return 3.5\n",
        "    elif 3.75 <= rating <= 4.25:\n",
        "        return 4\n",
        "    elif 4.26 <= rating <= 4.74:\n",
        "        return 4.5\n",
        "    else:\n",
        "        return 5\n",
        "\n",
        "# Esegui k-fold cross-validation\n",
        "for train_index, test_index in kfold.split(filtered_ratings):\n",
        "    train_set = filtered_ratings.iloc[train_index]\n",
        "    test_set = filtered_ratings.iloc[test_index]\n",
        "\n",
        "    # Unisci i voti attesi con i voti reali basati sull'ID del film nel test set\n",
        "    merged_test_set = pd.merge(test_set, expected_ratings, on='id')\n",
        "\n",
        "    # CASO 1: Calcolo delle metriche con i voti attesi originali (usando mean_rating)\n",
        "    y_true = merged_test_set['rating']  # Voti reali degli utenti\n",
        "    y_pred_case1 = merged_test_set['mean_rating']  # Voti attesi originali (mean_rating)\n",
        "\n",
        "    rmse_case1_list.append(np.sqrt(mean_squared_error(y_true, y_pred_case1)))\n",
        "    mae_case1_list.append(mean_absolute_error(y_true, y_pred_case1))\n",
        "    r2_case1_list.append(r2_score(y_true, y_pred_case1))\n",
        "    precision_case1_list.append(sum(abs(y_true - y_pred_case1) <= 1) / len(y_true))\n",
        "\n",
        "    # CASO 2: Normalizza i voti attesi (mean_rating) per il confronto\n",
        "    merged_test_set['normalized_expected_rating'] = merged_test_set['mean_rating'].apply(normalize_rating)\n",
        "    y_pred_case2 = merged_test_set['normalized_expected_rating']  # Voti attesi normalizzati\n",
        "\n",
        "    rmse_case2_list.append(np.sqrt(mean_squared_error(y_true, y_pred_case2)))\n",
        "    mae_case2_list.append(mean_absolute_error(y_true, y_pred_case2))\n",
        "    r2_case2_list.append(r2_score(y_true, y_pred_case2))\n",
        "    precision_case2_list.append(sum(abs(y_true - y_pred_case2) <= 1) / len(y_true))\n",
        "\n",
        "# Risultati medi delle metriche per i due casi\n",
        "print(\"CASO 1 (Voti attesi originali) - Media su k-fold cross-validation:\")\n",
        "print(f'RMSE medio: {np.mean(rmse_case1_list)}')\n",
        "print(f'MAE medio: {np.mean(mae_case1_list)}')\n",
        "print(f'R-squared medio: {np.mean(r2_case1_list)}')\n",
        "print(f'Precision (tolleranza ±1) media: {np.mean(precision_case1_list)}')\n",
        "\n",
        "print(\"\\nCASO 2 (Voti attesi normalizzati) - Media su k-fold cross-validation:\")\n",
        "print(f'RMSE medio: {np.mean(rmse_case2_list)}')\n",
        "print(f'MAE medio: {np.mean(mae_case2_list)}')\n",
        "print(f'R-squared medio: {np.mean(r2_case2_list)}')\n",
        "print(f'Precision (tolleranza ±1) media: {np.mean(precision_case2_list)}')\n"
      ],
      "metadata": {
        "colab": {
          "base_uri": "https://localhost:8080/"
        },
        "id": "7P5047is7uKu",
        "outputId": "c6ea2fbd-5cb3-4dc5-a3fe-b1e16252d200"
      },
      "execution_count": 50,
      "outputs": [
        {
          "output_type": "stream",
          "name": "stdout",
          "text": [
            "CASO 1 (Voti attesi originali) - Media su k-fold cross-validation:\n",
            "RMSE medio: 0.8924118847172198\n",
            "MAE medio: 0.6664143367546336\n",
            "R-squared medio: 0.0058195091615896866\n",
            "Precision (tolleranza ±1) media: 0.7167069178153564\n",
            "\n",
            "CASO 2 (Voti attesi normalizzati) - Media su k-fold cross-validation:\n",
            "RMSE medio: 0.8963337896062489\n",
            "MAE medio: 0.6455664495441699\n",
            "R-squared medio: -0.0029379362775571404\n",
            "Precision (tolleranza ±1) media: 0.9262514158853946\n"
          ]
        }
      ]
    },
    {
      "cell_type": "code",
      "source": [
        "import pandas as pd\n",
        "from sklearn.model_selection import KFold\n",
        "from sklearn.metrics import mean_squared_error, mean_absolute_error, r2_score\n",
        "import numpy as np\n",
        "\n",
        "# Carica il file con i voti attesi\n",
        "expected_ratings = pd.read_csv('top_10_movies_2005_percentile_97_5_ratings_95_votes.csv')\n",
        "\n",
        "# Carica il dataset delle valutazioni\n",
        "ratings = pd.read_csv('ratings.csv')\n",
        "\n",
        "# Rinomina la colonna 'movieId' in 'id' per uniformarla ai voti attesi\n",
        "ratings.rename(columns={'movieId': 'id'}, inplace=True)\n",
        "\n",
        "# Filtra solo gli utenti che hanno valutato i film nella lista dei top 10\n",
        "filtered_ratings = ratings[ratings['id'].isin(expected_ratings['id'])]\n",
        "\n",
        "# Imposta il numero di fold per la cross-validation\n",
        "kfold = KFold(n_splits=5, shuffle=True, random_state=42)  # Esempio con 5-fold cross-validation\n",
        "\n",
        "# Inizializza liste per memorizzare i risultati delle metriche per ogni fold\n",
        "rmse_case1_list, mae_case1_list, r2_case1_list, precision_case1_list = [], [], [], []\n",
        "rmse_case2_list, mae_case2_list, r2_case2_list, precision_case2_list = [], [], [], []\n",
        "\n",
        "# Funzione per normalizzare i voti attesi (caso 2)\n",
        "def normalize_rating(rating):\n",
        "    if rating <= 0.24:\n",
        "        return 0\n",
        "    elif 0.25 <= rating <= 0.74:\n",
        "        return 0.5\n",
        "    elif 0.75 <= rating <= 1.25:\n",
        "        return 1\n",
        "    elif 1.26 <= rating <= 1.74:\n",
        "        return 1.5\n",
        "    elif 1.75 <= rating <= 2.25:\n",
        "        return 2\n",
        "    elif 2.26 <= rating <= 2.74:\n",
        "        return 2.5\n",
        "    elif 2.75 <= rating <= 3.25:\n",
        "        return 3\n",
        "    elif 3.26 <= rating <= 3.74:\n",
        "        return 3.5\n",
        "    elif 3.75 <= rating <= 4.25:\n",
        "        return 4\n",
        "    elif 4.26 <= rating <= 4.74:\n",
        "        return 4.5\n",
        "    else:\n",
        "        return 5\n",
        "\n",
        "# Esegui k-fold cross-validation\n",
        "for train_index, test_index in kfold.split(filtered_ratings):\n",
        "    train_set = filtered_ratings.iloc[train_index]\n",
        "    test_set = filtered_ratings.iloc[test_index]\n",
        "\n",
        "    # Unisci i voti attesi con i voti reali basati sull'ID del film nel test set\n",
        "    merged_test_set = pd.merge(test_set, expected_ratings, on='id')\n",
        "\n",
        "    # CASO 1: Calcolo delle metriche con i voti attesi originali (usando mean_rating)\n",
        "    y_true = merged_test_set['rating']  # Voti reali degli utenti\n",
        "    y_pred_case1 = merged_test_set['mean_rating']  # Voti attesi originali (mean_rating)\n",
        "\n",
        "    rmse_case1_list.append(np.sqrt(mean_squared_error(y_true, y_pred_case1)))\n",
        "    mae_case1_list.append(mean_absolute_error(y_true, y_pred_case1))\n",
        "    r2_case1_list.append(r2_score(y_true, y_pred_case1))\n",
        "    precision_case1_list.append(sum(abs(y_true - y_pred_case1) <= 1) / len(y_true))\n",
        "\n",
        "    # CASO 2: Normalizza i voti attesi (mean_rating) per il confronto\n",
        "    merged_test_set['normalized_expected_rating'] = merged_test_set['mean_rating'].apply(normalize_rating)\n",
        "    y_pred_case2 = merged_test_set['normalized_expected_rating']  # Voti attesi normalizzati\n",
        "\n",
        "    rmse_case2_list.append(np.sqrt(mean_squared_error(y_true, y_pred_case2)))\n",
        "    mae_case2_list.append(mean_absolute_error(y_true, y_pred_case2))\n",
        "    r2_case2_list.append(r2_score(y_true, y_pred_case2))\n",
        "    precision_case2_list.append(sum(abs(y_true - y_pred_case2) <= 1) / len(y_true))\n",
        "\n",
        "# Risultati medi delle metriche per i due casi\n",
        "print(\"CASO 1 (Voti attesi originali) - Media su k-fold cross-validation:\")\n",
        "print(f'RMSE medio: {np.mean(rmse_case1_list)}')\n",
        "print(f'MAE medio: {np.mean(mae_case1_list)}')\n",
        "print(f'R-squared medio: {np.mean(r2_case1_list)}')\n",
        "print(f'Precision (tolleranza ±1) media: {np.mean(precision_case1_list)}')\n",
        "\n",
        "print(\"\\nCASO 2 (Voti attesi normalizzati) - Media su k-fold cross-validation:\")\n",
        "print(f'RMSE medio: {np.mean(rmse_case2_list)}')\n",
        "print(f'MAE medio: {np.mean(mae_case2_list)}')\n",
        "print(f'R-squared medio: {np.mean(r2_case2_list)}')\n",
        "print(f'Precision (tolleranza ±1) media: {np.mean(precision_case2_list)}')\n"
      ],
      "metadata": {
        "colab": {
          "base_uri": "https://localhost:8080/"
        },
        "id": "m5lsf9WF8AMq",
        "outputId": "ae677601-8f0d-471b-dd46-2259af46f715"
      },
      "execution_count": 51,
      "outputs": [
        {
          "output_type": "stream",
          "name": "stdout",
          "text": [
            "CASO 1 (Voti attesi originali) - Media su k-fold cross-validation:\n",
            "RMSE medio: 0.9504367745036817\n",
            "MAE medio: 0.7467627850504535\n",
            "R-squared medio: 0.03971219526596113\n",
            "Precision (tolleranza ±1) media: 0.7089136852991751\n",
            "\n",
            "CASO 2 (Voti attesi normalizzati) - Media su k-fold cross-validation:\n",
            "RMSE medio: 0.9602237574610483\n",
            "MAE medio: 0.7440825263498849\n",
            "R-squared medio: 0.019834723587931303\n",
            "Precision (tolleranza ±1) media: 0.806745328437208\n"
          ]
        }
      ]
    },
    {
      "cell_type": "code",
      "source": [
        "# prompt: mostrami 5 esempi di cui sopra\n",
        "\n",
        "# Seleziona 5 esempi casuali dal dataset 'merged_test_set'\n",
        "sample_examples = merged_test_set.sample(n=5)\n",
        "\n",
        "# Stampa gli esempi\n",
        "print(sample_examples[['id', 'userId', 'rating', 'mean_rating', 'normalized_expected_rating']])\n"
      ],
      "metadata": {
        "colab": {
          "base_uri": "https://localhost:8080/"
        },
        "id": "VDcYunDt8QiQ",
        "outputId": "3db45fbe-a302-40c1-92c7-e26257126193"
      },
      "execution_count": 52,
      "outputs": [
        {
          "output_type": "stream",
          "name": "stdout",
          "text": [
            "         id  userId  rating  mean_rating  normalized_expected_rating\n",
            "30610   350  164289     3.0     3.465261                         3.5\n",
            "31137   350  205647     3.5     3.465261                         3.5\n",
            "13738  2011  143898     4.0     3.505491                         3.5\n",
            "9502   1265  209514     1.0     3.879848                         4.0\n",
            "19711  2080  131393     4.5     3.571165                         3.5\n"
          ]
        }
      ]
    },
    {
      "cell_type": "code",
      "source": [
        "import matplotlib.pyplot as plt\n",
        "import numpy as np\n",
        "\n",
        "# Dati delle metriche per i sei esperimenti (per ciascuna metrica)\n",
        "metrics = ['RMSE', 'MAE', 'R-squared', 'Precision']\n",
        "case_1_values = [\n",
        "    [0.8924, 0.9452, 0.9117, 0.9155, 0.9096],  # RMSE per Caso 1\n",
        "    [0.6664, 0.7354, 0.6969, 0.6747, 0.6914],  # MAE per Caso 1\n",
        "    [0.0058, 0.0149, 0.0081, 0.0047, 0.0095],  # R-squared per Caso 1\n",
        "    [0.7167, 0.7004, 0.7074, 0.7439, 0.7130]   # Precision per Caso 1\n",
        "]\n",
        "\n",
        "case_2_values = [\n",
        "    [0.8963, 0.9581, 0.9224, 0.9179, 0.9178],  # RMSE per Caso 2\n",
        "    [0.6456, 0.7317, 0.6743, 0.6653, 0.6611],  # MAE per Caso 2\n",
        "    [-0.0029, -0.0123, -0.0153, -0.0007, -0.0085],  # R-squared per Caso 2\n",
        "    [0.9263, 0.8307, 0.8998, 0.9307, 0.9210]   # Precision per Caso 2\n",
        "]\n",
        "\n",
        "# Configurazione del grafico\n",
        "fig, axes = plt.subplots(2, 2, figsize=(10, 8))\n",
        "axes = axes.flatten()\n",
        "\n",
        "metric_names = ['RMSE', 'MAE', 'R-squared', 'Precision']\n",
        "x_labels = [f'test {i+1}' for i in range(5)]\n",
        "\n",
        "for i, ax in enumerate(axes):\n",
        "    ax.bar(x_labels, case_1_values[i], width=0.4, label='Caso 1', align='center')\n",
        "    ax.bar(x_labels, case_2_values[i], width=0.4, label='Caso 2', align='edge')\n",
        "    ax.set_title(metric_names[i])\n",
        "    ax.set_ylabel('Valore')\n",
        "    ax.legend()\n",
        "\n",
        "plt.tight_layout()\n",
        "plt.show()\n"
      ],
      "metadata": {
        "colab": {
          "base_uri": "https://localhost:8080/",
          "height": 643
        },
        "id": "tQ5_apUB9Xzz",
        "outputId": "38f6647b-2beb-43a1-f2e5-c2d2c50c68bf"
      },
      "execution_count": 54,
      "outputs": [
        {
          "output_type": "display_data",
          "data": {
            "text/plain": [
              "<Figure size 1000x800 with 4 Axes>"
            ],
            "image/png": "[encoded data removed]"
          },
          "metadata": {}
        }
      ]
    },
    {
      "cell_type": "code",
      "source": [
        "# Dati per precisione vs RMSE\n",
        "precision_case_1 = [0.7167, 0.7004, 0.7074, 0.7439, 0.7130]\n",
        "precision_case_2 = [0.9263, 0.8307, 0.8998, 0.9307, 0.9210]\n",
        "\n",
        "rmse_case_1 = [0.8924, 0.9452, 0.9117, 0.9155, 0.9096]\n",
        "rmse_case_2 = [0.8963, 0.9581, 0.9224, 0.9179, 0.9178]\n",
        "\n",
        "# Creazione del grafico scatter\n",
        "plt.figure(figsize=(8, 6))\n",
        "plt.scatter(rmse_case_1, precision_case_1, color='blue', label='Caso 1', s=100, alpha=0.7)\n",
        "plt.scatter(rmse_case_2, precision_case_2, color='red', label='Caso 2', s=100, alpha=0.7)\n",
        "\n",
        "# Etichette e titolo\n",
        "plt.xlabel('RMSE')\n",
        "plt.ylabel('Precision')\n",
        "plt.title('Precision vs RMSE per Caso 1 e Caso 2')\n",
        "plt.legend()\n",
        "\n",
        "plt.tight_layout()\n",
        "plt.show()\n"
      ],
      "metadata": {
        "colab": {
          "base_uri": "https://localhost:8080/",
          "height": 601
        },
        "id": "KoOfElp-99Xx",
        "outputId": "6204b657-abbb-40ac-fa05-1a6f5deb7189"
      },
      "execution_count": 55,
      "outputs": [
        {
          "output_type": "display_data",
          "data": {
            "text/plain": [
              "<Figure size 800x600 with 1 Axes>"
            ],
            "image/png": "[encoded data removed]"
          },
          "metadata": {}
        }
      ]
    },
    {
      "cell_type": "code",
      "source": [
        "import pandas as pd\n",
        "from sklearn.model_selection import KFold\n",
        "from sklearn.metrics import mean_squared_error, mean_absolute_error, r2_score\n",
        "import numpy as np\n",
        "\n",
        "# Carica il file con i voti attesi\n",
        "expected_ratings = pd.read_csv('top_10_movies__2005__media ratings.csv')\n",
        "\n",
        "# Carica il dataset delle valutazioni\n",
        "ratings = pd.read_csv('ratings.csv')\n",
        "\n",
        "# Rinomina la colonna 'movieId' in 'id' per uniformarla ai voti attesi\n",
        "ratings.rename(columns={'movieId': 'id'}, inplace=True)\n",
        "\n",
        "# Filtra solo gli utenti che hanno valutato i film nella lista dei top 10\n",
        "filtered_ratings = ratings[ratings['id'].isin(expected_ratings['id'])]\n",
        "\n",
        "# Imposta il numero di fold per la cross-validation\n",
        "kfold = KFold(n_splits=5, shuffle=True, random_state=42)  # Esempio con 5-fold cross-validation\n",
        "\n",
        "# Inizializza liste per memorizzare i risultati delle metriche per ogni fold\n",
        "rmse_case1_list, mae_case1_list, r2_case1_list, precision_case1_list = [], [], [], []\n",
        "rmse_case2_list, mae_case2_list, r2_case2_list, precision_case2_list = [], [], [], []\n",
        "\n",
        "# Funzione per normalizzare i voti attesi (caso 2)\n",
        "def normalize_rating(rating):\n",
        "    if rating <= 0.24:\n",
        "        return 0\n",
        "    elif 0.25 <= rating <= 0.74:\n",
        "        return 0.5\n",
        "    elif 0.75 <= rating <= 1.25:\n",
        "        return 1\n",
        "    elif 1.26 <= rating <= 1.74:\n",
        "        return 1.5\n",
        "    elif 1.75 <= rating <= 2.25:\n",
        "        return 2\n",
        "    elif 2.26 <= rating <= 2.74:\n",
        "        return 2.5\n",
        "    elif 2.75 <= rating <= 3.25:\n",
        "        return 3\n",
        "    elif 3.26 <= rating <= 3.74:\n",
        "        return 3.5\n",
        "    elif 3.75 <= rating <= 4.25:\n",
        "        return 4\n",
        "    elif 4.26 <= rating <= 4.74:\n",
        "        return 4.5\n",
        "    else:\n",
        "        return 5\n",
        "\n",
        "# Esegui k-fold cross-validation\n",
        "for train_index, test_index in kfold.split(filtered_ratings):\n",
        "    train_set = filtered_ratings.iloc[train_index]\n",
        "    test_set = filtered_ratings.iloc[test_index]\n",
        "\n",
        "    # Unisci i voti attesi con i voti reali basati sull'ID del film nel test set\n",
        "    merged_test_set = pd.merge(test_set, expected_ratings, on='id')\n",
        "\n",
        "    # CASO 1: Calcolo delle metriche con i voti attesi originali (usando mean_rating)\n",
        "    y_true = merged_test_set['rating']  # Voti reali degli utenti\n",
        "    y_pred_case1 = merged_test_set['mean_rating']  # Voti attesi originali (mean_rating)\n",
        "\n",
        "    rmse_case1_list.append(np.sqrt(mean_squared_error(y_true, y_pred_case1)))\n",
        "    mae_case1_list.append(mean_absolute_error(y_true, y_pred_case1))\n",
        "    r2_case1_list.append(r2_score(y_true, y_pred_case1))\n",
        "    precision_case1_list.append(sum(abs(y_true - y_pred_case1) <= 1) / len(y_true))\n",
        "\n",
        "    # CASO 2: Normalizza i voti attesi (mean_rating) per il confronto\n",
        "    merged_test_set['normalized_expected_rating'] = merged_test_set['mean_rating'].apply(normalize_rating)\n",
        "    y_pred_case2 = merged_test_set['normalized_expected_rating']  # Voti attesi normalizzati\n",
        "\n",
        "    rmse_case2_list.append(np.sqrt(mean_squared_error(y_true, y_pred_case2)))\n",
        "    mae_case2_list.append(mean_absolute_error(y_true, y_pred_case2))\n",
        "    r2_case2_list.append(r2_score(y_true, y_pred_case2))\n",
        "    precision_case2_list.append(sum(abs(y_true - y_pred_case2) <= 1) / len(y_true))\n",
        "\n",
        "# Risultati medi delle metriche per i due casi\n",
        "print(\"CASO 1 (Voti attesi originali) - Media su k-fold cross-validation:\")\n",
        "print(f'RMSE medio: {np.mean(rmse_case1_list)}')\n",
        "print(f'MAE medio: {np.mean(mae_case1_list)}')\n",
        "print(f'R-squared medio: {np.mean(r2_case1_list)}')\n",
        "print(f'Precision (tolleranza ±1) media: {np.mean(precision_case1_list)}')\n",
        "\n",
        "print(\"\\nCASO 2 (Voti attesi normalizzati) - Media su k-fold cross-validation:\")\n",
        "print(f'RMSE medio: {np.mean(rmse_case2_list)}')\n",
        "print(f'MAE medio: {np.mean(mae_case2_list)}')\n",
        "print(f'R-squared medio: {np.mean(r2_case2_list)}')\n",
        "print(f'Precision (tolleranza ±1) media: {np.mean(precision_case2_list)}')\n"
      ],
      "metadata": {
        "colab": {
          "base_uri": "https://localhost:8080/"
        },
        "id": "fb6Rz0VU-Y-H",
        "outputId": "6795fb4c-4421-46c7-872c-fd6c3d2b8413"
      },
      "execution_count": 57,
      "outputs": [
        {
          "output_type": "stream",
          "name": "stdout",
          "text": [
            "CASO 1 (Voti attesi originali) - Media su k-fold cross-validation:\n",
            "RMSE medio: 0.8695556537950644\n",
            "MAE medio: 0.6424994059397584\n",
            "R-squared medio: 0.005866484321043863\n",
            "Precision (tolleranza ±1) media: 0.7613557887887119\n",
            "\n",
            "CASO 2 (Voti attesi normalizzati) - Media su k-fold cross-validation:\n",
            "RMSE medio: 0.8727756532866227\n",
            "MAE medio: 0.6315445634755916\n",
            "R-squared medio: -0.0015175107541971489\n",
            "Precision (tolleranza ±1) media: 0.9361527742399767\n"
          ]
        }
      ]
    },
    {
      "cell_type": "code",
      "source": [
        "import pandas as pd\n",
        "\n",
        "# Carica il dataset delle valutazioni (assicurati che il file 'ratings.csv' sia disponibile)\n",
        "ratings = pd.read_csv('ratings.csv')\n",
        "\n",
        "# Calcolo del numero di voti per utente\n",
        "user_rating_count = ratings.groupby('userId').size()\n",
        "\n",
        "# Statistiche della distribuzione dei voti per utente\n",
        "user_rating_distribution_stats = user_rating_count.describe()\n",
        "\n",
        "# Mostra le statistiche\n",
        "print(\"Statistiche della distribuzione dei voti per utente:\")\n",
        "print(user_rating_distribution_stats)\n",
        "\n",
        "# Mostra la distribuzione completa dei voti per gli utenti (opzionale: solo i primi 10 per esempio)\n",
        "print(\"\\nPrimi 10 utenti per numero di voti:\")\n",
        "print(user_rating_count.head(10))\n"
      ],
      "metadata": {
        "colab": {
          "base_uri": "https://localhost:8080/"
        },
        "id": "2YBkVdfQIBc9",
        "outputId": "8d7d1be5-d97e-43a9-f7f6-5dfca3e2b427"
      },
      "execution_count": 58,
      "outputs": [
        {
          "output_type": "stream",
          "name": "stdout",
          "text": [
            "Statistiche della distribuzione dei voti per utente:\n",
            "count    270896.000000\n",
            "mean         96.067454\n",
            "std         205.719606\n",
            "min           1.000000\n",
            "25%          15.000000\n",
            "50%          30.000000\n",
            "75%          93.000000\n",
            "max       18276.000000\n",
            "dtype: float64\n",
            "\n",
            "Primi 10 utenti per numero di voti:\n",
            "userId\n",
            "1      27\n",
            "2      22\n",
            "3      10\n",
            "4      62\n",
            "5      26\n",
            "6       4\n",
            "7      53\n",
            "8     113\n",
            "9      84\n",
            "10     13\n",
            "dtype: int64\n"
          ]
        }
      ]
    },
    {
      "cell_type": "code",
      "source": [
        "import pandas as pd\n",
        "import numpy as np\n",
        "from scipy.sparse import csr_matrix\n",
        "from sklearn.decomposition import TruncatedSVD\n",
        "\n",
        "# Carica il dataset delle valutazioni\n",
        "ratings = pd.read_csv('ratings.csv')\n",
        "\n",
        "# Calcolo del numero di voti per film e per utente\n",
        "movie_rating_count = ratings.groupby('movieId').size()\n",
        "user_rating_count = ratings.groupby('userId').size()\n",
        "\n",
        "# Imposta i requisiti minimi per film e utenti basati sul 75° percentile\n",
        "min_movie_ratings = np.percentile(movie_rating_count, 75)\n",
        "min_user_ratings = np.percentile(user_rating_count, 75)\n",
        "\n",
        "# Filtra i film e gli utenti che soddisfano i requisiti minimi\n",
        "filtered_ratings = ratings[ratings['movieId'].isin(movie_rating_count[movie_rating_count >= min_movie_ratings].index)]\n",
        "filtered_ratings = filtered_ratings[filtered_ratings['userId'].isin(user_rating_count[user_rating_count >= min_user_ratings].index)]\n",
        "\n",
        "# Creazione della matrice utente-item (pivot)\n",
        "user_item_matrix = filtered_ratings.pivot(index='userId', columns='movieId', values='rating')\n",
        "\n",
        "# Riempi i NaN con 0 o lasciali come NaN a seconda dell'algoritmo\n",
        "user_item_matrix.fillna(0, inplace=True)\n",
        "\n",
        "# Converti la matrice utente-item in una matrice sparsa per ridurre l'uso di memoria\n",
        "sparse_matrix = csr_matrix(user_item_matrix)\n",
        "\n",
        "# Applica la decomposizione SVD per ridurre la dimensionalità\n",
        "n_components = 50  # Numero di componenti latenti\n",
        "svd = TruncatedSVD(n_components=n_components, random_state=42)\n",
        "latent_matrix = svd.fit_transform(sparse_matrix)\n",
        "\n",
        "# Mostra la dimensione della matrice ridotta\n",
        "print(f\"Matrice ridotta a: {latent_matrix.shape}\")\n"
      ],
      "metadata": {
        "colab": {
          "base_uri": "https://localhost:8080/"
        },
        "id": "z3AOs-AvIqOX",
        "outputId": "63ce4260-cc13-4e8f-9b3d-e4a126990e88"
      },
      "execution_count": 59,
      "outputs": [
        {
          "output_type": "stream",
          "name": "stdout",
          "text": [
            "Matrice ridotta a: (67847, 50)\n"
          ]
        }
      ]
    },
    {
      "cell_type": "code",
      "source": [
        "import pandas as pd\n",
        "import numpy as np\n",
        "from scipy.sparse import csr_matrix\n",
        "from sklearn.decomposition import TruncatedSVD\n",
        "\n",
        "# Carica il dataset delle valutazioni\n",
        "ratings = pd.read_csv('ratings.csv')\n",
        "\n",
        "# Calcolo del numero di voti per film e per utente\n",
        "movie_rating_count = ratings.groupby('movieId').size()\n",
        "user_rating_count = ratings.groupby('userId').size()\n",
        "\n",
        "# Imposta i requisiti minimi per film e utenti basati sulla media\n",
        "min_movie_ratings = movie_rating_count.mean()\n",
        "min_user_ratings = user_rating_count.mean()\n",
        "\n",
        "# Filtra i film e gli utenti che soddisfano i requisiti minimi\n",
        "filtered_ratings = ratings[ratings['movieId'].isin(movie_rating_count[movie_rating_count >= min_movie_ratings].index)]\n",
        "filtered_ratings = filtered_ratings[filtered_ratings['userId'].isin(user_rating_count[user_rating_count >= min_user_ratings].index)]\n",
        "\n",
        "# Creazione della matrice utente-item (pivot)\n",
        "user_item_matrix = filtered_ratings.pivot(index='userId', columns='movieId', values='rating')\n",
        "\n",
        "# Riempi i NaN con 0 (opzionale)\n",
        "user_item_matrix.fillna(0, inplace=True)\n",
        "\n",
        "# Converti la matrice utente-item in una matrice sparsa per ridurre l'uso di memoria\n",
        "sparse_matrix = csr_matrix(user_item_matrix)\n",
        "\n",
        "# Applica la decomposizione SVD per ridurre la dimensionalità\n",
        "n_components = 50  # Numero di componenti latenti\n",
        "svd = TruncatedSVD(n_components=n_components, random_state=42)\n",
        "latent_matrix = svd.fit_transform(sparse_matrix)\n",
        "\n",
        "# Mostra la dimensione della matrice ridotta\n",
        "print(f\"Matrice ridotta a: {latent_matrix.shape}\")\n"
      ],
      "metadata": {
        "colab": {
          "base_uri": "https://localhost:8080/"
        },
        "id": "dlnI2mPaJVFv",
        "outputId": "39485d62-ca70-43e2-ad78-77bff5091c12"
      },
      "execution_count": 60,
      "outputs": [
        {
          "output_type": "stream",
          "name": "stdout",
          "text": [
            "Matrice ridotta a: (65875, 50)\n"
          ]
        }
      ]
    },
    {
      "cell_type": "code",
      "source": [
        "# Ciclo su ogni utente nel test set\n",
        "for user_id in test_set.index:\n",
        "    # Verifica che l'user_id esista nella matrice del test set prima di procedere\n",
        "    if user_id in test_set.index:\n",
        "        y_true = test_set.loc[user_id][test_set.loc[user_id] > 0]  # Voti reali dell'utente nel test set\n",
        "        if len(y_true) == 0:  # Se l'utente non ha voti reali nel test set\n",
        "            continue  # Salta questo utente\n",
        "    else:\n",
        "        print(f\"User {user_id} non trovato nel test set.\")\n",
        "        continue  # Salta questo utente\n"
      ],
      "metadata": {
        "id": "zKsDgGgpPKjl"
      },
      "execution_count": 4,
      "outputs": []
    },
    {
      "cell_type": "code",
      "source": [
        "import pandas as pd\n",
        "import numpy as np\n",
        "from sklearn.metrics import mean_squared_error, mean_absolute_error, r2_score, precision_score, recall_score, f1_score\n",
        "from sklearn.metrics.pairwise import cosine_similarity\n",
        "from sklearn.model_selection import KFold\n",
        "from scipy.sparse import csr_matrix\n",
        "from sklearn.decomposition import TruncatedSVD\n",
        "\n",
        "# Funzione per ottenere i voti previsti basata sull'item-based CF\n",
        "def get_predicted_ratings(latent_matrix, user_ratings):\n",
        "    # Calcola la similarità tra i film\n",
        "    item_similarity = cosine_similarity(latent_matrix.T)\n",
        "\n",
        "    # Calcola i voti previsti come somma pesata delle valutazioni dei film simili\n",
        "    predicted_ratings = item_similarity.dot(user_ratings)\n",
        "\n",
        "    return predicted_ratings\n",
        "\n",
        "# Funzione per calcolare le metriche\n",
        "def calculate_metrics(y_true, y_pred, threshold=3):\n",
        "    rmse = np.sqrt(mean_squared_error(y_true, y_pred))\n",
        "    mae = mean_absolute_error(y_true, y_pred)\n",
        "    r2 = r2_score(y_true, y_pred)\n",
        "\n",
        "    # Precisione, Recall e F1 basati su una soglia (es. 3 per classificare come positivo/negativo)\n",
        "    y_true_binary = np.where(np.array(y_true) >= threshold, 1, 0)  # Voti reali sopra la soglia considerati positivi\n",
        "    y_pred_binary = np.where(np.array(y_pred) >= threshold, 1, 0)  # Voti predetti sopra la soglia considerati positivi\n",
        "\n",
        "    precision = precision_score(y_true_binary, y_pred_binary, zero_division=1)\n",
        "    recall = recall_score(y_true_binary, y_pred_binary, zero_division=1)\n",
        "    f1 = f1_score(y_true_binary, y_pred_binary, zero_division=1)\n",
        "\n",
        "    return rmse, mae, r2, precision, recall, f1\n",
        "\n",
        "# Applica la cross-validation\n",
        "kf = KFold(n_splits=5, shuffle=True, random_state=42)\n",
        "\n",
        "# Inizializza liste per memorizzare i risultati delle metriche per ogni fold\n",
        "rmse_list, mae_list, r2_list = [], [], []\n",
        "precision_list, recall_list, f1_list = [], [], []\n",
        "\n",
        "# Cross-validation\n",
        "for train_index, test_index in kf.split(user_item_matrix):\n",
        "    # Dividi il dataset in train e test\n",
        "    train_set = user_item_matrix.iloc[train_index]\n",
        "    test_set = user_item_matrix.iloc[test_index]\n",
        "\n",
        "    # Applica l'SVD solo al train set\n",
        "    svd = TruncatedSVD(n_components=50, random_state=42)\n",
        "    latent_matrix_train = svd.fit_transform(train_set)\n",
        "\n",
        "    # Ciclo su ogni utente nel test set\n",
        "for user_id in test_set.index:\n",
        "    # Verifica che l'user_id esista nella matrice del test set prima di procedere\n",
        "    if user_id in test_set.index:\n",
        "        y_true = test_set.loc[user_id][test_set.loc[user_id] > 0]  # Voti reali dell'utente nel test set\n",
        "        if len(y_true) == 0:  # Se l'utente non ha voti reali nel test set\n",
        "            continue  # Salta questo utente\n",
        "    else:\n",
        "        print(f\"User {user_id} non trovato nel test set.\")\n",
        "        continue  # Salta questo utente\n",
        "\n",
        "\n",
        "        # Ottieni i voti dell'utente nel train set\n",
        "        user_ratings_train = train_set.loc[user_id].fillna(0)\n",
        "\n",
        "        # Calcola i voti previsti basandosi sui voti del train set\n",
        "        y_pred = get_predicted_ratings(latent_matrix_train, user_ratings_train)\n",
        "\n",
        "        # Confronta solo i voti per i film effettivamente valutati nel test set\n",
        "        y_pred_filtered = y_pred[y_true.index]\n",
        "\n",
        "        # Calcola le metriche\n",
        "        rmse, mae, r2, precision, recall, f1 = calculate_metrics(y_true, y_pred_filtered)\n",
        "\n",
        "        # Memorizza i risultati per ogni utente\n",
        "        rmse_list.append(rmse)\n",
        "        mae_list.append(mae)\n",
        "        r2_list.append(r2)\n",
        "        precision_list.append(precision)\n",
        "        recall_list.append(recall)\n",
        "        f1_list.append(f1)\n",
        "\n",
        "# Mostra i risultati medi delle metriche\n",
        "print(f\"RMSE medio: {np.mean(rmse_list)}\")\n",
        "print(f\"MAE medio: {np.mean(mae_list)}\")\n",
        "print(f\"R-squared medio: {np.mean(r2_list)}\")\n",
        "print(f\"Precision media: {np.mean(precision_list)}\")\n",
        "print(f\"Recall media: {np.mean(recall_list)}\")\n",
        "print(f\"F1-score medio: {np.mean(f1_list)}\")\n"
      ],
      "metadata": {
        "colab": {
          "base_uri": "https://localhost:8080/"
        },
        "id": "GIdmjZ3XPbm_",
        "outputId": "5e612ca1-45d6-49af-d530-7cc9c18de938"
      },
      "execution_count": 5,
      "outputs": [
        {
          "output_type": "stream",
          "name": "stdout",
          "text": [
            "RMSE medio: nan\n",
            "MAE medio: nan\n",
            "R-squared medio: nan\n",
            "Precision media: nan\n",
            "Recall media: nan\n",
            "F1-score medio: nan\n"
          ]
        },
        {
          "output_type": "stream",
          "name": "stderr",
          "text": [
            "/usr/local/lib/python3.10/dist-packages/numpy/core/fromnumeric.py:3504: RuntimeWarning: Mean of empty slice.\n",
            "  return _methods._mean(a, axis=axis, dtype=dtype,\n",
            "/usr/local/lib/python3.10/dist-packages/numpy/core/_methods.py:129: RuntimeWarning: invalid value encountered in scalar divide\n",
            "  ret = ret.dtype.type(ret / rcount)\n"
          ]
        }
      ]
    },
    {
      "cell_type": "code",
      "source": [
        "print(test_set.index)  # Controlla se '16' è presente\n"
      ],
      "metadata": {
        "colab": {
          "base_uri": "https://localhost:8080/"
        },
        "id": "DukJGZhYRK5X",
        "outputId": "af10f037-8327-4943-8145-a5434cb1dce2"
      },
      "execution_count": 9,
      "outputs": [
        {
          "output_type": "stream",
          "name": "stdout",
          "text": [
            "Index([    16,     24,     30,    123,    132,    150,    160,    166,    173,\n",
            "          230,\n",
            "       ...\n",
            "       270684, 270704, 270720, 270727, 270734, 270759, 270793, 270859, 270869,\n",
            "       270879],\n",
            "      dtype='int64', name='userId', length=13570)\n"
          ]
        }
      ]
    },
    {
      "cell_type": "code",
      "source": [
        "print(f\"Tipo di indice nel test set: {type(test_set.index[0])}\")\n",
        "print(f\"Tipo di user_id: {type(user_id)}\")\n"
      ],
      "metadata": {
        "colab": {
          "base_uri": "https://localhost:8080/"
        },
        "id": "QD3R_LnWRRXj",
        "outputId": "b44e8da4-1e5e-4d94-d64b-f2cda3a9a774"
      },
      "execution_count": 10,
      "outputs": [
        {
          "output_type": "stream",
          "name": "stdout",
          "text": [
            "Tipo di indice nel test set: <class 'numpy.int64'>\n",
            "Tipo di user_id: <class 'int'>\n"
          ]
        }
      ]
    }
  ]
}