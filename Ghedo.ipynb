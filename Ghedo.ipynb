{
  "nbformat": 4,
  "nbformat_minor": 0,
  "metadata": {
    "colab": {
      "provenance": [],
      "machine_shape": "hm",
      "gpuType": "L4",
      "authorship_tag": "ABX9TyO4JnHJwmnU0Z1fnKWoDKln",
      "include_colab_link": true
    },
    "kernelspec": {
      "name": "python3",
      "display_name": "Python 3"
    },
    "language_info": {
      "name": "python"
    },
    "accelerator": "GPU"
  },
  "cells": [
    {
      "cell_type": "markdown",
      "metadata": {
        "id": "view-in-github",
        "colab_type": "text"
      },
      "source": [
        "<a href=\"https://colab.research.google.com/github/zxb-97/NLP1/blob/main/Ghedo.ipynb\" target=\"_parent\"><img src=\"https://colab.research.google.com/assets/colab-badge.svg\" alt=\"Open In Colab\"/></a>"
      ]
    },
    {
      "cell_type": "code",
      "source": [
        "import pandas as pd\n",
        "\n",
        "# 1. Importare le librerie necessarie\n",
        "import pandas as pd\n",
        "\n",
        "# 2. Caricare i dataset\n",
        "# Sostituisci 'path_to_movies_metadata.csv' e 'path_to_credits.csv' con i percorsi effettivi dei tuoi file\n",
        "movies_metadata = pd.read_csv('movies_metadata.csv', low_memory=False)\n",
        "credits = pd.read_csv('credits.csv')\n",
        "\n",
        "# 3. Visualizzare le prime 5 righe del dataset movies_metadata\n",
        "print(\"Prime 5 righe di movies_metadata:\")\n",
        "print(movies_metadata.head())\n",
        "\n",
        "# 4. Visualizzare le informazioni sulle colonne e i tipi di dati di movies_metadata\n",
        "print(\"\\nInformazioni su movies_metadata:\")\n",
        "print(movies_metadata.info())\n",
        "\n",
        "# 5. Visualizzare le prime 5 righe del dataset credits\n",
        "print(\"\\nPrime 5 righe di credits:\")\n",
        "print(credits.head())\n",
        "\n",
        "# 6. Visualizzare le informazioni sulle colonne e i tipi di dati di credits\n",
        "print(\"\\nInformazioni su credits:\")\n",
        "print(credits.info())\n",
        "\n",
        "# 7. Verificare se ci sono valori mancanti nelle colonne chiave di movies_metadata\n",
        "print(\"\\nValori mancanti in movies_metadata:\")\n",
        "print(movies_metadata.isnull().sum())\n",
        "\n",
        "# 8. Verificare se ci sono valori mancanti nelle colonne chiave di credits\n",
        "print(\"\\nValori mancanti in credits:\")\n",
        "print(credits.isnull().sum())\n",
        "\n",
        "# 9. Visualizzare esempi di righe specifiche se necessario\n",
        "# Ad esempio, visualizzare la riga con indice 100 del dataset movies_metadata\n",
        "print(\"\\nEsempio di una riga specifica in movies_metadata (indice 100):\")\n",
        "print(movies_metadata.iloc[100])\n",
        "\n",
        "# Visualizzare la riga con indice 100 del dataset credits\n",
        "print(\"\\nEsempio di una riga specifica in credits (indice 100):\")\n",
        "print(credits.iloc[100])\n"
      ],
      "metadata": {
        "colab": {
          "base_uri": "https://localhost:8080/"
        },
        "id": "J6SmXTCGRPAM",
        "outputId": "d83176a6-583e-471f-a617-cf6bb7f77784"
      },
      "execution_count": 1,
      "outputs": [
        {
          "output_type": "stream",
          "name": "stdout",
          "text": [
            "Prime 5 righe di movies_metadata:\n",
            "   adult                              belongs_to_collection    budget  \\\n",
            "0  False  {'id': 10194, 'name': 'Toy Story Collection', ...  30000000   \n",
            "1  False                                                NaN  65000000   \n",
            "2  False  {'id': 119050, 'name': 'Grumpy Old Men Collect...         0   \n",
            "3  False                                                NaN  16000000   \n",
            "4  False  {'id': 96871, 'name': 'Father of the Bride Col...         0   \n",
            "\n",
            "                                              genres  \\\n",
            "0  [{'id': 16, 'name': 'Animation'}, {'id': 35, '...   \n",
            "1  [{'id': 12, 'name': 'Adventure'}, {'id': 14, '...   \n",
            "2  [{'id': 10749, 'name': 'Romance'}, {'id': 35, ...   \n",
            "3  [{'id': 35, 'name': 'Comedy'}, {'id': 18, 'nam...   \n",
            "4                     [{'id': 35, 'name': 'Comedy'}]   \n",
            "\n",
            "                               homepage     id    imdb_id original_language  \\\n",
            "0  http://toystory.disney.com/toy-story    862  tt0114709                en   \n",
            "1                                   NaN   8844  tt0113497                en   \n",
            "2                                   NaN  15602  tt0113228                en   \n",
            "3                                   NaN  31357  tt0114885                en   \n",
            "4                                   NaN  11862  tt0113041                en   \n",
            "\n",
            "                original_title  \\\n",
            "0                    Toy Story   \n",
            "1                      Jumanji   \n",
            "2             Grumpier Old Men   \n",
            "3            Waiting to Exhale   \n",
            "4  Father of the Bride Part II   \n",
            "\n",
            "                                            overview  ... release_date  \\\n",
            "0  Led by Woody, Andy's toys live happily in his ...  ...   1995-10-30   \n",
            "1  When siblings Judy and Peter discover an encha...  ...   1995-12-15   \n",
            "2  A family wedding reignites the ancient feud be...  ...   1995-12-22   \n",
            "3  Cheated on, mistreated and stepped on, the wom...  ...   1995-12-22   \n",
            "4  Just when George Banks has recovered from his ...  ...   1995-02-10   \n",
            "\n",
            "       revenue runtime                                   spoken_languages  \\\n",
            "0  373554033.0    81.0           [{'iso_639_1': 'en', 'name': 'English'}]   \n",
            "1  262797249.0   104.0  [{'iso_639_1': 'en', 'name': 'English'}, {'iso...   \n",
            "2          0.0   101.0           [{'iso_639_1': 'en', 'name': 'English'}]   \n",
            "3   81452156.0   127.0           [{'iso_639_1': 'en', 'name': 'English'}]   \n",
            "4   76578911.0   106.0           [{'iso_639_1': 'en', 'name': 'English'}]   \n",
            "\n",
            "     status                                            tagline  \\\n",
            "0  Released                                                NaN   \n",
            "1  Released          Roll the dice and unleash the excitement!   \n",
            "2  Released  Still Yelling. Still Fighting. Still Ready for...   \n",
            "3  Released  Friends are the people who let you be yourself...   \n",
            "4  Released  Just When His World Is Back To Normal... He's ...   \n",
            "\n",
            "                         title  video vote_average vote_count  \n",
            "0                    Toy Story  False          7.7     5415.0  \n",
            "1                      Jumanji  False          6.9     2413.0  \n",
            "2             Grumpier Old Men  False          6.5       92.0  \n",
            "3            Waiting to Exhale  False          6.1       34.0  \n",
            "4  Father of the Bride Part II  False          5.7      173.0  \n",
            "\n",
            "[5 rows x 24 columns]\n",
            "\n",
            "Informazioni su movies_metadata:\n",
            "<class 'pandas.core.frame.DataFrame'>\n",
            "RangeIndex: 45466 entries, 0 to 45465\n",
            "Data columns (total 24 columns):\n",
            " #   Column                 Non-Null Count  Dtype  \n",
            "---  ------                 --------------  -----  \n",
            " 0   adult                  45466 non-null  object \n",
            " 1   belongs_to_collection  4494 non-null   object \n",
            " 2   budget                 45466 non-null  object \n",
            " 3   genres                 45466 non-null  object \n",
            " 4   homepage               7782 non-null   object \n",
            " 5   id                     45466 non-null  object \n",
            " 6   imdb_id                45449 non-null  object \n",
            " 7   original_language      45455 non-null  object \n",
            " 8   original_title         45466 non-null  object \n",
            " 9   overview               44512 non-null  object \n",
            " 10  popularity             45461 non-null  object \n",
            " 11  poster_path            45080 non-null  object \n",
            " 12  production_companies   45463 non-null  object \n",
            " 13  production_countries   45463 non-null  object \n",
            " 14  release_date           45379 non-null  object \n",
            " 15  revenue                45460 non-null  float64\n",
            " 16  runtime                45203 non-null  float64\n",
            " 17  spoken_languages       45460 non-null  object \n",
            " 18  status                 45379 non-null  object \n",
            " 19  tagline                20412 non-null  object \n",
            " 20  title                  45460 non-null  object \n",
            " 21  video                  45460 non-null  object \n",
            " 22  vote_average           45460 non-null  float64\n",
            " 23  vote_count             45460 non-null  float64\n",
            "dtypes: float64(4), object(20)\n",
            "memory usage: 8.3+ MB\n",
            "None\n",
            "\n",
            "Prime 5 righe di credits:\n",
            "                                                cast  \\\n",
            "0  [{'cast_id': 14, 'character': 'Woody (voice)',...   \n",
            "1  [{'cast_id': 1, 'character': 'Alan Parrish', '...   \n",
            "2  [{'cast_id': 2, 'character': 'Max Goldman', 'c...   \n",
            "3  [{'cast_id': 1, 'character': \"Savannah 'Vannah...   \n",
            "4  [{'cast_id': 1, 'character': 'George Banks', '...   \n",
            "\n",
            "                                                crew     id  \n",
            "0  [{'credit_id': '52fe4284c3a36847f8024f49', 'de...    862  \n",
            "1  [{'credit_id': '52fe44bfc3a36847f80a7cd1', 'de...   8844  \n",
            "2  [{'credit_id': '52fe466a9251416c75077a89', 'de...  15602  \n",
            "3  [{'credit_id': '52fe44779251416c91011acb', 'de...  31357  \n",
            "4  [{'credit_id': '52fe44959251416c75039ed7', 'de...  11862  \n",
            "\n",
            "Informazioni su credits:\n",
            "<class 'pandas.core.frame.DataFrame'>\n",
            "RangeIndex: 45476 entries, 0 to 45475\n",
            "Data columns (total 3 columns):\n",
            " #   Column  Non-Null Count  Dtype \n",
            "---  ------  --------------  ----- \n",
            " 0   cast    45476 non-null  object\n",
            " 1   crew    45476 non-null  object\n",
            " 2   id      45476 non-null  int64 \n",
            "dtypes: int64(1), object(2)\n",
            "memory usage: 1.0+ MB\n",
            "None\n",
            "\n",
            "Valori mancanti in movies_metadata:\n",
            "adult                        0\n",
            "belongs_to_collection    40972\n",
            "budget                       0\n",
            "genres                       0\n",
            "homepage                 37684\n",
            "id                           0\n",
            "imdb_id                     17\n",
            "original_language           11\n",
            "original_title               0\n",
            "overview                   954\n",
            "popularity                   5\n",
            "poster_path                386\n",
            "production_companies         3\n",
            "production_countries         3\n",
            "release_date                87\n",
            "revenue                      6\n",
            "runtime                    263\n",
            "spoken_languages             6\n",
            "status                      87\n",
            "tagline                  25054\n",
            "title                        6\n",
            "video                        6\n",
            "vote_average                 6\n",
            "vote_count                   6\n",
            "dtype: int64\n",
            "\n",
            "Valori mancanti in credits:\n",
            "cast    0\n",
            "crew    0\n",
            "id      0\n",
            "dtype: int64\n",
            "\n",
            "Esempio di una riga specifica in movies_metadata (indice 100):\n",
            "adult                                                                False\n",
            "belongs_to_collection                                                  NaN\n",
            "budget                                                                   0\n",
            "genres                   [{'id': 35, 'name': 'Comedy'}, {'id': 10749, '...\n",
            "homepage                                                               NaN\n",
            "id                                                                   47475\n",
            "imdb_id                                                          tt0117102\n",
            "original_language                                                       en\n",
            "original_title                                                   Mr. Wrong\n",
            "overview                 A single and lonely woman finds the seemingly ...\n",
            "popularity                                                        3.329264\n",
            "poster_path                               /8oZW1loLEczN1BU60YobsJJFdSR.jpg\n",
            "production_companies         [{'name': 'Touchstone Pictures', 'id': 9195}]\n",
            "production_countries     [{'iso_3166_1': 'US', 'name': 'United States o...\n",
            "release_date                                                    1996-02-16\n",
            "revenue                                                                0.0\n",
            "runtime                                                               96.0\n",
            "spoken_languages                  [{'iso_639_1': 'en', 'name': 'English'}]\n",
            "status                                                            Released\n",
            "tagline                                                                NaN\n",
            "title                                                            Mr. Wrong\n",
            "video                                                                False\n",
            "vote_average                                                           3.3\n",
            "vote_count                                                            16.0\n",
            "Name: 100, dtype: object\n",
            "\n",
            "Esempio di una riga specifica in credits (indice 100):\n",
            "cast    [{'cast_id': 1, 'character': 'Martha Alston', ...\n",
            "crew    [{'credit_id': '52fe4735c3a36847f81291bf', 'de...\n",
            "id                                                  47475\n",
            "Name: 100, dtype: object\n"
          ]
        }
      ]
    },
    {
      "cell_type": "code",
      "source": [
        "import pandas as pd\n",
        "import ast\n",
        "\n",
        "# Carica i dataset (sostituisci con i percorsi corretti)\n",
        "metadata = pd.read_csv('movies_metadata.csv')  # metadata\n",
        "credits = pd.read_csv('credits.csv')   # credits\n",
        "\n",
        "# Converte entrambe le colonne 'id' in stringhe per evitare conflitti di tipo\n",
        "metadata['id'] = metadata['id'].astype(str)\n",
        "credits['id'] = credits['id'].astype(str)\n",
        "\n",
        "# Funzione per estrarre il regista dalla colonna 'crew' nel file credits\n",
        "def get_director(crew_data):\n",
        "    try:\n",
        "        crew = ast.literal_eval(crew_data)\n",
        "        for person in crew:\n",
        "            if person['job'] == 'Director':\n",
        "                return person['name']\n",
        "    except (ValueError, SyntaxError):\n",
        "        return None\n",
        "    return None\n",
        "\n",
        "# Funzione per estrarre i primi 3 attori dalla colonna 'cast' nel file credits\n",
        "def get_top_actors(cast_data, top_n=3):\n",
        "    try:\n",
        "        cast = ast.literal_eval(cast_data)\n",
        "        return ', '.join([actor['name'] for actor in cast[:top_n]])\n",
        "    except (ValueError, SyntaxError):\n",
        "        return None\n",
        "\n",
        "# Funzione per estrarre i generi dalla colonna 'genres' nel file metadata\n",
        "def get_genres(genres_data):\n",
        "    try:\n",
        "        genres = ast.literal_eval(genres_data)\n",
        "        return ', '.join([genre['name'] for genre in genres])\n",
        "    except (ValueError, SyntaxError):\n",
        "        return None\n",
        "\n",
        "# Pre-processamento del dataset metadata\n",
        "metadata['release_date'] = pd.to_datetime(metadata['release_date'], errors='coerce')\n",
        "metadata['year'] = metadata['release_date'].dt.year\n",
        "\n",
        "# Estrarre i generi dal JSON\n",
        "metadata['genres'] = metadata['genres'].apply(get_genres)\n",
        "\n",
        "# Pre-processamento del dataset credits per estrarre attori e regista\n",
        "credits['top_3_actors'] = credits['cast'].apply(get_top_actors)\n",
        "credits['director'] = credits['crew'].apply(get_director)\n",
        "\n",
        "# Unisci i due dataset sul campo 'id' nel metadata e 'id' nel credits\n",
        "merged_data = pd.merge(metadata, credits, left_on='id', right_on='id', how='inner')\n",
        "\n",
        "# Seleziona le colonne rilevanti per il nuovo dataset\n",
        "final_data = merged_data[['id','title', 'genres', 'top_3_actors', 'director', 'year',\n",
        "                          'belongs_to_collection', 'vote_average', 'vote_count']]\n",
        "\n",
        "# Esportare il nuovo dataset in un file CSV\n",
        "final_data.to_csv('merged_movies_metadata.csv', index=False)\n",
        "\n",
        "# Mostra le prime righe del nuovo dataset\n",
        "print(final_data.head())\n"
      ],
      "metadata": {
        "colab": {
          "base_uri": "https://localhost:8080/"
        },
        "id": "9O83sj9GSUuS",
        "outputId": "88fa647d-0fd6-42e1-c59c-db661d7ad952"
      },
      "execution_count": 10,
      "outputs": [
        {
          "output_type": "stream",
          "name": "stderr",
          "text": [
            "<ipython-input-10-0217fc8414da>:5: DtypeWarning: Columns (10) have mixed types. Specify dtype option on import or set low_memory=False.\n",
            "  metadata = pd.read_csv('movies_metadata.csv')  # metadata\n"
          ]
        },
        {
          "output_type": "stream",
          "name": "stdout",
          "text": [
            "      id                        title                      genres  \\\n",
            "0    862                    Toy Story   Animation, Comedy, Family   \n",
            "1   8844                      Jumanji  Adventure, Fantasy, Family   \n",
            "2  15602             Grumpier Old Men             Romance, Comedy   \n",
            "3  31357            Waiting to Exhale      Comedy, Drama, Romance   \n",
            "4  11862  Father of the Bride Part II                      Comedy   \n",
            "\n",
            "                                      top_3_actors         director    year  \\\n",
            "0                Tom Hanks, Tim Allen, Don Rickles    John Lasseter  1995.0   \n",
            "1     Robin Williams, Jonathan Hyde, Kirsten Dunst     Joe Johnston  1995.0   \n",
            "2         Walter Matthau, Jack Lemmon, Ann-Margret    Howard Deutch  1995.0   \n",
            "3  Whitney Houston, Angela Bassett, Loretta Devine  Forest Whitaker  1995.0   \n",
            "4         Steve Martin, Diane Keaton, Martin Short    Charles Shyer  1995.0   \n",
            "\n",
            "                               belongs_to_collection  vote_average  vote_count  \n",
            "0  {'id': 10194, 'name': 'Toy Story Collection', ...           7.7      5415.0  \n",
            "1                                                NaN           6.9      2413.0  \n",
            "2  {'id': 119050, 'name': 'Grumpy Old Men Collect...           6.5        92.0  \n",
            "3                                                NaN           6.1        34.0  \n",
            "4  {'id': 96871, 'name': 'Father of the Bride Col...           5.7       173.0  \n"
          ]
        }
      ]
    },
    {
      "cell_type": "code",
      "source": [
        "import pandas as pd\n",
        "\n",
        "# Carica il dataset\n",
        "metadata = pd.read_csv('movies_metadata.csv')  # sostituisci con il percorso corretto\n",
        "\n",
        "# Verifica quanti valori NaN ci sono in 'vote_average' e 'vote_count'\n",
        "nan_vote_average = metadata['vote_average'].isna().sum()\n",
        "nan_vote_count = metadata['vote_count'].isna().sum()\n",
        "\n",
        "# Visualizza i risultati\n",
        "print(f\"Valori NaN in 'vote_average': {nan_vote_average}\")\n",
        "print(f\"Valori NaN in 'vote_count': {nan_vote_count}\")\n"
      ],
      "metadata": {
        "colab": {
          "base_uri": "https://localhost:8080/"
        },
        "id": "nuo3BlFlUpRP",
        "outputId": "95134e05-6ea0-4c3b-9679-e34870601da7"
      },
      "execution_count": 5,
      "outputs": [
        {
          "output_type": "stream",
          "name": "stdout",
          "text": [
            "Valori NaN in 'vote_average': 6\n",
            "Valori NaN in 'vote_count': 6\n"
          ]
        },
        {
          "output_type": "stream",
          "name": "stderr",
          "text": [
            "<ipython-input-5-56468c4ae041>:4: DtypeWarning: Columns (10) have mixed types. Specify dtype option on import or set low_memory=False.\n",
            "  metadata = pd.read_csv('movies_metadata.csv')  # sostituisci con il percorso corretto\n"
          ]
        }
      ]
    },
    {
      "cell_type": "code",
      "source": [
        "import pandas as pd\n",
        "import ast\n",
        "\n",
        "# Carica il file CSV precedentemente creato (aggiorna il percorso con il tuo se necessario)\n",
        "merged_data = pd.read_csv('merged_movies_metadata.csv')\n",
        "\n",
        "# 1. Funzione per estrarre il nome della collezione dal campo JSON 'belongs_to_collection'\n",
        "def get_collection(collection_data):\n",
        "    try:\n",
        "        collection = ast.literal_eval(collection_data)\n",
        "        if collection and 'name' in collection:\n",
        "            return collection['name']\n",
        "    except (ValueError, SyntaxError):\n",
        "        return \"0\"  # Assegna \"0\" se non appartiene a nessuna collezione o se c'è un errore\n",
        "    return \"0\"\n",
        "\n",
        "# Applica la funzione per gestire i valori di 'belongs_to_collection'\n",
        "merged_data['belongs_to_collection'] = merged_data['belongs_to_collection'].apply(lambda x: get_collection(x) if pd.notnull(x) else \"0\")\n",
        "\n",
        "# 2. Rimuovi i film con NaN in 'vote_average' o 'vote_count'\n",
        "merged_data_cleaned = merged_data.dropna(subset=['vote_average', 'vote_count'])\n",
        "\n",
        "# Esporta il nuovo dataset pulito\n",
        "merged_data_cleaned.to_csv('merged_movies_metadata_cleaned.csv', index=False)\n",
        "\n",
        "# Mostra le prime righe del nuovo dataset pulito\n",
        "print(merged_data_cleaned.head())\n"
      ],
      "metadata": {
        "colab": {
          "base_uri": "https://localhost:8080/"
        },
        "id": "XlUGxbezWJZ5",
        "outputId": "b10e0315-a46a-4dc6-9c8e-7df317f9c9ac"
      },
      "execution_count": 11,
      "outputs": [
        {
          "output_type": "stream",
          "name": "stdout",
          "text": [
            "      id                        title                      genres  \\\n",
            "0    862                    Toy Story   Animation, Comedy, Family   \n",
            "1   8844                      Jumanji  Adventure, Fantasy, Family   \n",
            "2  15602             Grumpier Old Men             Romance, Comedy   \n",
            "3  31357            Waiting to Exhale      Comedy, Drama, Romance   \n",
            "4  11862  Father of the Bride Part II                      Comedy   \n",
            "\n",
            "                                      top_3_actors         director    year  \\\n",
            "0                Tom Hanks, Tim Allen, Don Rickles    John Lasseter  1995.0   \n",
            "1     Robin Williams, Jonathan Hyde, Kirsten Dunst     Joe Johnston  1995.0   \n",
            "2         Walter Matthau, Jack Lemmon, Ann-Margret    Howard Deutch  1995.0   \n",
            "3  Whitney Houston, Angela Bassett, Loretta Devine  Forest Whitaker  1995.0   \n",
            "4         Steve Martin, Diane Keaton, Martin Short    Charles Shyer  1995.0   \n",
            "\n",
            "            belongs_to_collection  vote_average  vote_count  \n",
            "0            Toy Story Collection           7.7      5415.0  \n",
            "1                               0           6.9      2413.0  \n",
            "2       Grumpy Old Men Collection           6.5        92.0  \n",
            "3                               0           6.1        34.0  \n",
            "4  Father of the Bride Collection           5.7       173.0  \n"
          ]
        }
      ]
    },
    {
      "cell_type": "code",
      "source": [
        "import pandas as pd\n",
        "import ast\n",
        "\n",
        "# Carica i dataset: keywords e merged_movies_metadata_cleaned\n",
        "keywords = pd.read_csv('keywords.csv')  # aggiorna il percorso con il tuo file\n",
        "merged_data_cleaned = pd.read_csv('merged_movies_metadata_cleaned.csv')\n",
        "\n",
        "# Funzione per estrarre le parole chiave dal campo JSON 'keywords'\n",
        "def get_keywords(keyword_data):\n",
        "    try:\n",
        "        keywords_list = ast.literal_eval(keyword_data)\n",
        "        return ', '.join([kw['name'] for kw in keywords_list])\n",
        "    except (ValueError, SyntaxError):\n",
        "        return ''\n",
        "\n",
        "# Applica la funzione per estrarre le keywords e creare una nuova colonna 'keywords'\n",
        "keywords['keywords'] = keywords['keywords'].apply(get_keywords)\n",
        "\n",
        "# Unisci i due dataset utilizzando la chiave 'id' (che è 'Id' nel file keywords e 'id' nel file merged_data_cleaned)\n",
        "merged_data_with_keywords = pd.merge(merged_data_cleaned, keywords[['id', 'keywords']], left_on='id', right_on='id', how='left')\n",
        "\n",
        "# Esporta il nuovo dataset con le keywords aggiunte\n",
        "merged_data_with_keywords.to_csv('merged_movies_metadata_with_keywords.csv', index=False)\n",
        "\n",
        "# Mostra le prime righe del dataset finale\n",
        "print(merged_data_with_keywords.head())\n"
      ],
      "metadata": {
        "colab": {
          "base_uri": "https://localhost:8080/"
        },
        "id": "IH0OcNBzYv6Y",
        "outputId": "38440859-24dc-4b3d-9b91-e46395d4bf57"
      },
      "execution_count": 12,
      "outputs": [
        {
          "output_type": "stream",
          "name": "stdout",
          "text": [
            "      id                        title                      genres  \\\n",
            "0    862                    Toy Story   Animation, Comedy, Family   \n",
            "1   8844                      Jumanji  Adventure, Fantasy, Family   \n",
            "2  15602             Grumpier Old Men             Romance, Comedy   \n",
            "3  31357            Waiting to Exhale      Comedy, Drama, Romance   \n",
            "4  11862  Father of the Bride Part II                      Comedy   \n",
            "\n",
            "                                      top_3_actors         director    year  \\\n",
            "0                Tom Hanks, Tim Allen, Don Rickles    John Lasseter  1995.0   \n",
            "1     Robin Williams, Jonathan Hyde, Kirsten Dunst     Joe Johnston  1995.0   \n",
            "2         Walter Matthau, Jack Lemmon, Ann-Margret    Howard Deutch  1995.0   \n",
            "3  Whitney Houston, Angela Bassett, Loretta Devine  Forest Whitaker  1995.0   \n",
            "4         Steve Martin, Diane Keaton, Martin Short    Charles Shyer  1995.0   \n",
            "\n",
            "            belongs_to_collection  vote_average  vote_count  \\\n",
            "0            Toy Story Collection           7.7      5415.0   \n",
            "1                               0           6.9      2413.0   \n",
            "2       Grumpy Old Men Collection           6.5        92.0   \n",
            "3                               0           6.1        34.0   \n",
            "4  Father of the Bride Collection           5.7       173.0   \n",
            "\n",
            "                                            keywords  \n",
            "0  jealousy, toy, boy, friendship, friends, rival...  \n",
            "1  board game, disappearance, based on children's...  \n",
            "2  fishing, best friend, duringcreditsstinger, ol...  \n",
            "3  based on novel, interracial relationship, sing...  \n",
            "4  baby, midlife crisis, confidence, aging, daugh...  \n"
          ]
        }
      ]
    },
    {
      "cell_type": "code",
      "source": [
        "import pandas as pd\n",
        "import matplotlib.pyplot as plt\n",
        "\n",
        "# Carica il file ratings.csv\n",
        "ratings = pd.read_csv('ratings.csv')\n",
        "\n",
        "# Conta il numero di valutazioni per ogni film (movieId)\n",
        "ratings_count = ratings.groupby('movieId').size()\n",
        "\n",
        "# Crea un grafico della distribuzione\n",
        "plt.figure(figsize=(10,6))\n",
        "plt.hist(ratings_count, bins=50, color='skyblue', edgecolor='black')\n",
        "plt.title('Distribuzione del numero di valutazioni per film')\n",
        "plt.xlabel('Numero di valutazioni per film')\n",
        "plt.ylabel('Numero di film')\n",
        "plt.yscale('log')  # Imposta la scala logaritmica per visualizzare meglio la distribuzione\n",
        "\n",
        "# Mostra il grafico\n",
        "plt.show()\n"
      ],
      "metadata": {
        "colab": {
          "base_uri": "https://localhost:8080/",
          "height": 530
        },
        "id": "cFrI8AxwZ9VF",
        "outputId": "36c84e55-0fed-4aa3-c27f-174377744861"
      },
      "execution_count": 13,
      "outputs": [
        {
          "output_type": "display_data",
          "data": {
            "text/plain": [
              "<Figure size 1000x600 with 1 Axes>"
            ],
            "image/png": "[encoded data removed]"
          },
          "metadata": {}
        }
      ]
    },
    {
      "cell_type": "code",
      "source": [
        "# Controlla la distribuzione effettiva del numero di valutazioni per film\n",
        "print(ratings_count.describe())\n",
        "\n",
        "# Mostra i film con più valutazioni\n",
        "print(ratings_count.sort_values(ascending=False).head(10))\n"
      ],
      "metadata": {
        "colab": {
          "base_uri": "https://localhost:8080/"
        },
        "id": "J0gwJkwTbYp3",
        "outputId": "f45777cd-9eab-437d-814e-bfd1f40128b7"
      },
      "execution_count": 15,
      "outputs": [
        {
          "output_type": "stream",
          "name": "stdout",
          "text": [
            "count    45115.000000\n",
            "mean       576.843378\n",
            "std       3037.380582\n",
            "min          1.000000\n",
            "25%          2.000000\n",
            "50%          8.000000\n",
            "75%         69.000000\n",
            "max      91921.000000\n",
            "dtype: float64\n",
            "movieId\n",
            "356     91921\n",
            "318     91082\n",
            "296     87901\n",
            "593     84078\n",
            "2571    77960\n",
            "260     77045\n",
            "480     74355\n",
            "527     67662\n",
            "110     66512\n",
            "1       66008\n",
            "dtype: int64\n"
          ]
        }
      ]
    },
    {
      "cell_type": "code",
      "source": [
        "import pandas as pd\n",
        "\n",
        "# Carica il file ratings.csv\n",
        "ratings = pd.read_csv('ratings.csv')\n",
        "\n",
        "# Conta il numero di valutazioni per ogni film (movieId)\n",
        "ratings_count = ratings.groupby('movieId').size()\n",
        "\n",
        "# Calcola la media e il 75° percentile\n",
        "media_valutazioni = ratings_count.mean()\n",
        "percentile_75_valutazioni = ratings_count.quantile(0.75)\n",
        "\n",
        "# Conta i film con numero di valutazioni sopra la media\n",
        "film_sopra_media = (ratings_count > media_valutazioni).sum()\n",
        "\n",
        "# Conta i film che rientrano nel 75° percentile\n",
        "film_75_percentile = (ratings_count > percentile_75_valutazioni).sum()\n",
        "\n",
        "# Mostra i risultati\n",
        "print(f\"Numero di film con valutazioni sopra la media: {film_sopra_media}\")\n",
        "print(f\"Numero di film che rientrano nel 75° percentile: {film_75_percentile}\")\n"
      ],
      "metadata": {
        "colab": {
          "base_uri": "https://localhost:8080/"
        },
        "id": "DJCGmhouci6u",
        "outputId": "2f254407-ff03-4591-fbc5-d78a7081e648"
      },
      "execution_count": 16,
      "outputs": [
        {
          "output_type": "stream",
          "name": "stdout",
          "text": [
            "Numero di film con valutazioni sopra la media: 4951\n",
            "Numero di film che rientrano nel 75° percentile: 11233\n"
          ]
        }
      ]
    },
    {
      "cell_type": "code",
      "source": [
        "import pandas as pd\n",
        "\n",
        "# Carica il file movies_metadata.csv\n",
        "movies_metadata = pd.read_csv('movies_metadata.csv')\n",
        "\n",
        "# Converte la colonna release_date in formato datetime, ignorando eventuali errori\n",
        "movies_metadata['release_date'] = pd.to_datetime(movies_metadata['release_date'], errors='coerce')\n",
        "\n",
        "# Conta i film con data di rilascio dopo il 2000\n",
        "film_dopo_2000 = movies_metadata[movies_metadata['release_date'].dt.year > 2000].shape[0]\n",
        "\n",
        "# Conta i film con data di rilascio prima o uguale al 2000\n",
        "film_prima_2000 = movies_metadata[movies_metadata['release_date'].dt.year <= 2000].shape[0]\n",
        "\n",
        "# Mostra i risultati\n",
        "print(f\"Numero di film rilasciati dopo il 2000: {film_dopo_2000}\")\n",
        "print(f\"Numero di film rilasciati prima o nel 2000: {film_prima_2000}\")\n"
      ],
      "metadata": {
        "colab": {
          "base_uri": "https://localhost:8080/"
        },
        "id": "xqNIHI_ZdFNQ",
        "outputId": "56386c5d-6960-478b-d085-6ebcb3a60114"
      },
      "execution_count": 17,
      "outputs": [
        {
          "output_type": "stream",
          "name": "stdout",
          "text": [
            "Numero di film rilasciati dopo il 2000: 23218\n",
            "Numero di film rilasciati prima o nel 2000: 22158\n"
          ]
        },
        {
          "output_type": "stream",
          "name": "stderr",
          "text": [
            "<ipython-input-17-f27f3e43b977>:4: DtypeWarning: Columns (10) have mixed types. Specify dtype option on import or set low_memory=False.\n",
            "  movies_metadata = pd.read_csv('movies_metadata.csv')\n"
          ]
        }
      ]
    },
    {
      "cell_type": "code",
      "source": [
        "import pandas as pd\n",
        "\n",
        "# Carica i file merged_movies_metadata_cleaned (1).csv e ratings.csv\n",
        "movies_metadata = pd.read_csv('merged_movies_metadata_cleaned.csv')\n",
        "ratings = pd.read_csv('ratings.csv')\n",
        "\n",
        "# Rinomina \"movieId\" in \"id\" nel file ratings per poter fare il merge con movies_metadata\n",
        "ratings.rename(columns={'movieId': 'id'}, inplace=True)\n",
        "\n",
        "# Assicurati che l'id in entrambi i DataFrame sia dello stesso tipo (stringa in questo caso)\n",
        "ratings['id'] = ratings['id'].astype(str)\n",
        "movies_metadata['id'] = movies_metadata['id'].astype(str)\n",
        "\n",
        "# Conta il numero di valutazioni per ogni film\n",
        "ratings_count = ratings.groupby('id').size()\n",
        "\n",
        "# Unisci il numero di valutazioni al file movies_metadata\n",
        "movies_metadata = pd.merge(movies_metadata, ratings_count.rename('rating_count'), on='id', how='left')\n",
        "\n",
        "# Imposta NaN in rating_count a 0 per i film senza valutazioni\n",
        "movies_metadata['rating_count'].fillna(0, inplace=True)\n",
        "\n",
        "# Calcola la media e il 75° percentile\n",
        "media_valutazioni = ratings_count.mean()\n",
        "percentile_75_valutazioni = 69  # Hai specificato che il 75° percentile è 69 valutazioni\n",
        "\n",
        "# Filtra i film usciti prima e dopo il 2000\n",
        "film_prima_2000 = movies_metadata[movies_metadata['year'] <= 2000]\n",
        "film_dopo_2000 = movies_metadata[movies_metadata['year'] > 2000]\n",
        "\n",
        "# Conta i film prima del 2000 che superano la media e il 75° percentile\n",
        "film_prima_2000_sopra_media = film_prima_2000[film_prima_2000['rating_count'] > media_valutazioni].shape[0]\n",
        "film_prima_2000_sopra_75_percentile = film_prima_2000[film_prima_2000['rating_count'] > percentile_75_valutazioni].shape[0]\n",
        "\n",
        "# Conta i film dopo il 2000 che superano la media e il 75° percentile\n",
        "film_dopo_2000_sopra_media = film_dopo_2000[film_dopo_2000['rating_count'] > media_valutazioni].shape[0]\n",
        "film_dopo_2000_sopra_75_percentile = film_dopo_2000[film_dopo_2000['rating_count'] > percentile_75_valutazioni].shape[0]\n",
        "\n",
        "# Mostra i risultati\n",
        "print(f\"Film usciti prima del 2000 che superano la media delle valutazioni: {film_prima_2000_sopra_media}\")\n",
        "print(f\"Film usciti prima del 2000 che superano il 75° percentile (69 valutazioni): {film_prima_2000_sopra_75_percentile}\")\n",
        "print(f\"Film usciti dopo il 2000 che superano la media delle valutazioni: {film_dopo_2000_sopra_media}\")\n",
        "print(f\"Film usciti dopo il 2000 che superano il 75° percentile (69 valutazioni): {film_dopo_2000_sopra_75_percentile}\")\n"
      ],
      "metadata": {
        "colab": {
          "base_uri": "https://localhost:8080/"
        },
        "id": "t2esaBP9fYoV",
        "outputId": "8e532b59-37e7-4a7f-9b34-e905137986a5"
      },
      "execution_count": 20,
      "outputs": [
        {
          "output_type": "stream",
          "name": "stdout",
          "text": [
            "Film usciti prima del 2000 che superano la media delle valutazioni: 1118\n",
            "Film usciti prima del 2000 che superano il 75° percentile (69 valutazioni): 2139\n",
            "Film usciti dopo il 2000 che superano la media delle valutazioni: 645\n",
            "Film usciti dopo il 2000 che superano il 75° percentile (69 valutazioni): 1251\n"
          ]
        }
      ]
    },
    {
      "cell_type": "code",
      "source": [
        "import pandas as pd\n",
        "\n",
        "# Carica il file ratings.csv\n",
        "ratings = pd.read_csv('ratings.csv')\n",
        "\n",
        "# Filtra il dataset per il film con movieId 862\n",
        "ratings_film_862 = ratings[ratings['movieId'] == 862]\n",
        "\n",
        "# Calcola il voto medio del film con movieId 862\n",
        "voto_medio_film_862 = ratings_film_862['rating'].mean()\n",
        "\n",
        "# Mostra il voto medio\n",
        "print(f\"Il voto medio del film con movieId 862 è: {voto_medio_film_862}\")\n"
      ],
      "metadata": {
        "colab": {
          "base_uri": "https://localhost:8080/"
        },
        "id": "UD8wiVscgqKh",
        "outputId": "38802599-2c81-421d-933d-088cc6f149ca"
      },
      "execution_count": 21,
      "outputs": [
        {
          "output_type": "stream",
          "name": "stdout",
          "text": [
            "Il voto medio del film con movieId 862 è: 3.5989304812834226\n"
          ]
        }
      ]
    },
    {
      "cell_type": "code",
      "source": [
        "import pandas as pd\n",
        "\n",
        "# Carica il dataset 'movies_metadata.csv'\n",
        "movies_metadata = pd.read_csv('movies_metadata.csv')\n",
        "\n",
        "# Estrai solo le colonne 'id' e 'vote_average'\n",
        "movies_filtered = movies_metadata[['id', 'vote_average']].copy()\n",
        "\n",
        "# Normalizza la colonna 'vote_average' dalla scala 0-10 a 0-5\n",
        "movies_filtered['vote_average_normalized'] = movies_filtered['vote_average'] / 2\n",
        "\n",
        "# Esporta il nuovo file in un CSV\n",
        "movies_filtered.to_csv('movies_id_vote_average_normalized.csv', index=False)\n",
        "\n",
        "# Mostra un'anteprima dei dati\n",
        "print(movies_filtered.head())\n"
      ],
      "metadata": {
        "colab": {
          "base_uri": "https://localhost:8080/"
        },
        "id": "A8ZsjshbrRU8",
        "outputId": "d92f213c-1b95-4512-9173-9907e0949477"
      },
      "execution_count": 23,
      "outputs": [
        {
          "output_type": "stream",
          "name": "stdout",
          "text": [
            "      id  vote_average  vote_average_normalized\n",
            "0    862           7.7                     3.85\n",
            "1   8844           6.9                     3.45\n",
            "2  15602           6.5                     3.25\n",
            "3  31357           6.1                     3.05\n",
            "4  11862           5.7                     2.85\n"
          ]
        },
        {
          "output_type": "stream",
          "name": "stderr",
          "text": [
            "<ipython-input-23-b640cb8ca08f>:4: DtypeWarning: Columns (10) have mixed types. Specify dtype option on import or set low_memory=False.\n",
            "  movies_metadata = pd.read_csv('movies_metadata.csv')\n"
          ]
        }
      ]
    },
    {
      "cell_type": "code",
      "source": [
        "import pandas as pd\n",
        "\n",
        "# Carica i file\n",
        "metadata_with_keywords = pd.read_csv('merged_movies_metadata_with_keywords.csv')\n",
        "vote_average_normalized = pd.read_csv('movies_id_vote_average_normalized.csv')\n",
        "\n",
        "# Converti entrambe le colonne 'id' in stringhe per essere sicuri che coincidano\n",
        "metadata_with_keywords['id'] = metadata_with_keywords['id'].astype(str)\n",
        "vote_average_normalized['id'] = vote_average_normalized['id'].astype(str)\n",
        "\n",
        "# Unisci i due dataset sul campo 'id' per aggiungere il 'vote_average_normalized'\n",
        "metadata_with_keywords_updated = pd.merge(metadata_with_keywords, vote_average_normalized[['id', 'vote_average_normalized']], on='id', how='left')\n",
        "\n",
        "# Salva il nuovo dataset aggiornato\n",
        "metadata_with_keywords_updated.to_csv('merged_movies_metadata_with_keywords_updated.csv', index=False)\n",
        "\n",
        "# Visualizza le prime righe per verificare\n",
        "print(metadata_with_keywords_updated.head())\n"
      ],
      "metadata": {
        "colab": {
          "base_uri": "https://localhost:8080/"
        },
        "id": "jMUij2lDtE07",
        "outputId": "8829135f-5b2a-4883-b24b-fbd7962a6f71"
      },
      "execution_count": 26,
      "outputs": [
        {
          "output_type": "stream",
          "name": "stdout",
          "text": [
            "      id                        title                      genres  \\\n",
            "0    862                    Toy Story   Animation, Comedy, Family   \n",
            "1   8844                      Jumanji  Adventure, Fantasy, Family   \n",
            "2  15602             Grumpier Old Men             Romance, Comedy   \n",
            "3  31357            Waiting to Exhale      Comedy, Drama, Romance   \n",
            "4  11862  Father of the Bride Part II                      Comedy   \n",
            "\n",
            "                                      top_3_actors         director    year  \\\n",
            "0                Tom Hanks, Tim Allen, Don Rickles    John Lasseter  1995.0   \n",
            "1     Robin Williams, Jonathan Hyde, Kirsten Dunst     Joe Johnston  1995.0   \n",
            "2         Walter Matthau, Jack Lemmon, Ann-Margret    Howard Deutch  1995.0   \n",
            "3  Whitney Houston, Angela Bassett, Loretta Devine  Forest Whitaker  1995.0   \n",
            "4         Steve Martin, Diane Keaton, Martin Short    Charles Shyer  1995.0   \n",
            "\n",
            "            belongs_to_collection  vote_average  vote_count  \\\n",
            "0            Toy Story Collection           7.7      5415.0   \n",
            "1                               0           6.9      2413.0   \n",
            "2       Grumpy Old Men Collection           6.5        92.0   \n",
            "3                               0           6.1        34.0   \n",
            "4  Father of the Bride Collection           5.7       173.0   \n",
            "\n",
            "                                            keywords  vote_average_normalized  \n",
            "0  jealousy, toy, boy, friendship, friends, rival...                     3.85  \n",
            "1  board game, disappearance, based on children's...                     3.45  \n",
            "2  fishing, best friend, duringcreditsstinger, ol...                     3.25  \n",
            "3  based on novel, interracial relationship, sing...                     3.05  \n",
            "4  baby, midlife crisis, confidence, aging, daugh...                     2.85  \n"
          ]
        }
      ]
    },
    {
      "cell_type": "code",
      "source": [
        "import pandas as pd\n",
        "\n",
        "# Carica il file metadata aggiornato e il file delle valutazioni\n",
        "metadata = pd.read_csv('merged_movies_metadata_with_keywords_updated.csv')\n",
        "ratings = pd.read_csv('ratings.csv')\n",
        "\n",
        "# Step 1: Calcolare il numero medio di valutazioni per film in ratings.csv\n",
        "rating_count_per_movie = ratings.groupby('movieId').size().reset_index(name='rating_count')\n",
        "average_rating_count = rating_count_per_movie['rating_count'].mean()\n",
        "\n",
        "# Step 2: Selezionare i film che hanno un numero di valutazioni maggiore o uguale alla media\n",
        "movies_above_avg_ratings = rating_count_per_movie[rating_count_per_movie['rating_count'] >= average_rating_count]\n",
        "\n",
        "# Rinominare 'movieId' in 'id' per collegare con il file metadata\n",
        "movies_above_avg_ratings.rename(columns={'movieId': 'id'}, inplace=True)\n",
        "\n",
        "# Unire i dati delle valutazioni con il file metadata sul campo 'id'\n",
        "metadata_with_ratings = pd.merge(metadata, movies_above_avg_ratings, on='id', how='left')\n",
        "\n",
        "# Step 3: Selezionare i film usciti dal 2000 in poi\n",
        "movies_post_2000 = metadata_with_ratings[metadata_with_ratings['year'] >= 2000]\n",
        "\n",
        "# Step 4: Filtrare i film in base ai criteri descritti\n",
        "# a) Il voto medio in ratings.csv non deve discostarsi di +-0.5 dal vote_average_normalized\n",
        "mean_ratings_per_movie = ratings.groupby('movieId')['rating'].mean().reset_index(name='mean_rating')\n",
        "mean_ratings_per_movie.rename(columns={'movieId': 'id'}, inplace=True)\n",
        "\n",
        "# Unire la media dei voti al dataset principale\n",
        "movies_with_mean_rating = pd.merge(movies_post_2000, mean_ratings_per_movie, on='id', how='left')\n",
        "\n",
        "# Filtrare i film che soddisfano il criterio di +-0.5 sulla media voto rispetto al vote_average_normalized\n",
        "condition_media = (movies_with_mean_rating['mean_rating'] >= (movies_with_mean_rating['vote_average_normalized'] - 0.5)) & \\\n",
        "                  (movies_with_mean_rating['mean_rating'] <= (movies_with_mean_rating['vote_average_normalized'] + 0.5))\n",
        "\n",
        "filtered_movies = movies_with_mean_rating[condition_media]\n",
        "\n",
        "# b) Ponderare la media voto (peso 0,7) e il numero di valutazioni normalizzato (peso 0,3)\n",
        "# Normalizzazione del numero di valutazioni\n",
        "filtered_movies['rating_count_normalized'] = filtered_movies['rating_count'] / filtered_movies['rating_count'].max()\n",
        "\n",
        "# Calcolo del punteggio ponderato\n",
        "filtered_movies['punteggio'] = (0.7 * filtered_movies['mean_rating']) + (0.3 * filtered_movies['rating_count_normalized'])\n",
        "\n",
        "# Selezionare i 10 film con il miglior punteggio\n",
        "top_10_movies = filtered_movies.nlargest(10, 'punteggio')\n",
        "\n",
        "# Visualizza la lista dei 10 film\n",
        "print(top_10_movies[['id', 'title', 'mean_rating', 'rating_count', 'punteggio']])\n",
        "\n",
        "# Esportare il risultato in un file CSV se necessario\n",
        "top_10_movies.to_csv('top_10_movies_case1.csv', index=False)\n"
      ],
      "metadata": {
        "colab": {
          "base_uri": "https://localhost:8080/"
        },
        "id": "dbmeE8MpuQ6-",
        "outputId": "8d3c4f03-c81d-40ba-f439-434202ea8a39"
      },
      "execution_count": 27,
      "outputs": [
        {
          "output_type": "stream",
          "name": "stderr",
          "text": [
            "<ipython-input-27-90a049dd8f30>:15: SettingWithCopyWarning: \n",
            "A value is trying to be set on a copy of a slice from a DataFrame\n",
            "\n",
            "See the caveats in the documentation: https://pandas.pydata.org/pandas-docs/stable/user_guide/indexing.html#returning-a-view-versus-a-copy\n",
            "  movies_above_avg_ratings.rename(columns={'movieId': 'id'}, inplace=True)\n"
          ]
        },
        {
          "output_type": "stream",
          "name": "stdout",
          "text": [
            "          id                   title  mean_rating  rating_count  punteggio\n",
            "23709  48780                    Boat     4.078295       20276.0   2.936614\n",
            "12601   1260  Lotte from Gadgetville     4.163554        4873.0   2.934149\n",
            "7421    1254   Don't Worry, I'm Fine     4.128207        5768.0   2.913017\n",
            "2118    1280                  3-Iron     4.114931        3563.0   2.894827\n",
            "3305    1949                  Zodiac     4.110604        2301.0   2.886707\n",
            "1639    2502    The Bourne Supremacy     3.978199       24678.0   2.884308\n",
            "2021     670                  Oldboy     4.112805         820.0   2.882272\n",
            "24239  68954               Longitude     3.978629       22460.0   2.875659\n",
            "3236    1265    Bridge to Terabithia     3.879848       38672.0   2.871924\n",
            "11173   2692           The Red Elvis     3.979886       20409.0   2.868265\n"
          ]
        },
        {
          "output_type": "stream",
          "name": "stderr",
          "text": [
            "<ipython-input-27-90a049dd8f30>:39: SettingWithCopyWarning: \n",
            "A value is trying to be set on a copy of a slice from a DataFrame.\n",
            "Try using .loc[row_indexer,col_indexer] = value instead\n",
            "\n",
            "See the caveats in the documentation: https://pandas.pydata.org/pandas-docs/stable/user_guide/indexing.html#returning-a-view-versus-a-copy\n",
            "  filtered_movies['rating_count_normalized'] = filtered_movies['rating_count'] / filtered_movies['rating_count'].max()\n",
            "<ipython-input-27-90a049dd8f30>:42: SettingWithCopyWarning: \n",
            "A value is trying to be set on a copy of a slice from a DataFrame.\n",
            "Try using .loc[row_indexer,col_indexer] = value instead\n",
            "\n",
            "See the caveats in the documentation: https://pandas.pydata.org/pandas-docs/stable/user_guide/indexing.html#returning-a-view-versus-a-copy\n",
            "  filtered_movies['punteggio'] = (0.7 * filtered_movies['mean_rating']) + (0.3 * filtered_movies['rating_count_normalized'])\n"
          ]
        }
      ]
    },
    {
      "cell_type": "code",
      "source": [
        "import pandas as pd\n",
        "\n",
        "# Carica il file metadata aggiornato e il file delle valutazioni\n",
        "metadata = pd.read_csv('merged_movies_metadata_with_keywords_updated.csv')\n",
        "ratings = pd.read_csv('ratings.csv')\n",
        "\n",
        "# Step 1: Calcolare il numero medio di valutazioni per film in ratings.csv\n",
        "rating_count_per_movie = ratings.groupby('movieId').size().reset_index(name='rating_count')\n",
        "average_rating_count = rating_count_per_movie['rating_count'].mean()\n",
        "\n",
        "# Step 2: Selezionare i film che hanno un numero di valutazioni maggiore o uguale alla media\n",
        "movies_above_avg_ratings = rating_count_per_movie[rating_count_per_movie['rating_count'] >= average_rating_count]\n",
        "\n",
        "# Rinominare 'movieId' in 'id' per collegare con il file metadata\n",
        "movies_above_avg_ratings.rename(columns={'movieId': 'id'}, inplace=True)\n",
        "\n",
        "# Unire i dati delle valutazioni con il file metadata sul campo 'id'\n",
        "metadata_with_ratings = pd.merge(metadata, movies_above_avg_ratings, on='id', how='left')\n",
        "\n",
        "# Step 3: Selezionare i film usciti dal 2000 in poi\n",
        "movies_post_2000 = metadata_with_ratings[metadata_with_ratings['year'] >= 2000]\n",
        "\n",
        "# Step 4: Filtrare i film in base ai criteri descritti\n",
        "# a) Il voto medio in ratings.csv non deve discostarsi di +-0.5 dal vote_average_normalized\n",
        "mean_ratings_per_movie = ratings.groupby('movieId')['rating'].mean().reset_index(name='mean_rating')\n",
        "mean_ratings_per_movie.rename(columns={'movieId': 'id'}, inplace=True)\n",
        "\n",
        "# Unire la media dei voti al dataset principale\n",
        "movies_with_mean_rating = pd.merge(movies_post_2000, mean_ratings_per_movie, on='id', how='left')\n",
        "\n",
        "# Filtrare i film che soddisfano il criterio di +-0.5 sulla media voto rispetto al vote_average_normalized\n",
        "condition_media = (movies_with_mean_rating['mean_rating'] >= (movies_with_mean_rating['vote_average_normalized'] - 0.5)) & \\\n",
        "                  (movies_with_mean_rating['mean_rating'] <= (movies_with_mean_rating['vote_average_normalized'] + 0.5))\n",
        "\n",
        "filtered_movies = movies_with_mean_rating[condition_media]\n",
        "\n",
        "# Step 5: Ordinare i film in base alla media voto (senza ponderazione con il numero di valutazioni)\n",
        "# Selezionare i 10 film con la media voto più alta\n",
        "top_10_movies = filtered_movies.nlargest(10, 'mean_rating')\n",
        "\n",
        "# Visualizza la lista dei 10 film\n",
        "print(top_10_movies[['id', 'title', 'mean_rating', 'rating_count']])\n",
        "\n",
        "# Esportare il risultato in un file CSV se necessario\n",
        "top_10_movies.to_csv('top_10_movies_case1_no_ponderation.csv', index=False)\n"
      ],
      "metadata": {
        "colab": {
          "base_uri": "https://localhost:8080/"
        },
        "id": "GJvjyIIhvH4a",
        "outputId": "b4379cd7-3bff-4f16-bfba-90bdf01e1c4d"
      },
      "execution_count": 28,
      "outputs": [
        {
          "output_type": "stream",
          "name": "stderr",
          "text": [
            "<ipython-input-28-064c0c8eca7d>:15: SettingWithCopyWarning: \n",
            "A value is trying to be set on a copy of a slice from a DataFrame\n",
            "\n",
            "See the caveats in the documentation: https://pandas.pydata.org/pandas-docs/stable/user_guide/indexing.html#returning-a-view-versus-a-copy\n",
            "  movies_above_avg_ratings.rename(columns={'movieId': 'id'}, inplace=True)\n"
          ]
        },
        {
          "output_type": "stream",
          "name": "stdout",
          "text": [
            "           id                        title  mean_rating  rating_count\n",
            "15621  137853          Journey to Planet X     5.000000           NaN\n",
            "19321  129518                Island Guests     4.333333           NaN\n",
            "9212   137182  The Broken Circle Breakdown     4.250000           NaN\n",
            "12982   80337        These Amazing Shadows     4.187500           NaN\n",
            "12601    1260       Lotte from Gadgetville     4.163554        4873.0\n",
            "7421     1254        Don't Worry, I'm Fine     4.128207        5768.0\n",
            "2118     1280                       3-Iron     4.114931        3563.0\n",
            "2021      670                       Oldboy     4.112805         820.0\n",
            "3305     1949                       Zodiac     4.110604        2301.0\n",
            "23709   48780                         Boat     4.078295       20276.0\n"
          ]
        }
      ]
    },
    {
      "cell_type": "code",
      "source": [
        "import pandas as pd\n",
        "\n",
        "# Carica il file metadata aggiornato e il file delle valutazioni\n",
        "metadata = pd.read_csv('merged_movies_metadata_with_keywords_updated.csv')\n",
        "ratings = pd.read_csv('ratings.csv')\n",
        "\n",
        "# Step 1: Calcolare il numero medio di valutazioni per film in ratings.csv\n",
        "rating_count_per_movie = ratings.groupby('movieId').size().reset_index(name='rating_count')\n",
        "average_rating_count = rating_count_per_movie['rating_count'].mean()\n",
        "\n",
        "# Step 2: Selezionare i film che hanno un numero di valutazioni maggiore o uguale alla media\n",
        "movies_above_avg_ratings = rating_count_per_movie[rating_count_per_movie['rating_count'] >= average_rating_count]\n",
        "\n",
        "# Rinominare 'movieId' in 'id' per collegare con il file metadata\n",
        "movies_above_avg_ratings.rename(columns={'movieId': 'id'}, inplace=True)\n",
        "\n",
        "# Unire i dati delle valutazioni con il file metadata sul campo 'id'\n",
        "metadata_with_ratings = pd.merge(metadata, movies_above_avg_ratings, on='id', how='left')\n",
        "\n",
        "# Rimuovere i film con NaN nel rating_count\n",
        "metadata_with_ratings.dropna(subset=['rating_count'], inplace=True)\n",
        "\n",
        "# Step 3: Selezionare i film usciti dal 2000 in poi\n",
        "movies_post_2000 = metadata_with_ratings[metadata_with_ratings['year'] >= 2000]\n",
        "\n",
        "# Step 4: Filtrare i film in base ai criteri descritti\n",
        "# a) Il voto medio in ratings.csv non deve discostarsi di +-0.5 dal vote_average_normalized\n",
        "mean_ratings_per_movie = ratings.groupby('movieId')['rating'].mean().reset_index(name='mean_rating')\n",
        "mean_ratings_per_movie.rename(columns={'movieId': 'id'}, inplace=True)\n",
        "\n",
        "# Unire la media dei voti al dataset principale\n",
        "movies_with_mean_rating = pd.merge(movies_post_2000, mean_ratings_per_movie, on='id', how='left')\n",
        "\n",
        "# Filtrare i film che soddisfano il criterio di +-0.5 sulla media voto rispetto al vote_average_normalized\n",
        "condition_media = (movies_with_mean_rating['mean_rating'] >= (movies_with_mean_rating['vote_average_normalized'] - 0.5)) & \\\n",
        "                  (movies_with_mean_rating['mean_rating'] <= (movies_with_mean_rating['vote_average_normalized'] + 0.5))\n",
        "\n",
        "filtered_movies = movies_with_mean_rating[condition_media]\n",
        "\n",
        "# Step 5: Ordinare i film in base alla media voto (senza ponderazione con il numero di valutazioni)\n",
        "# Selezionare i 10 film con la media voto più alta\n",
        "top_10_movies = filtered_movies.nlargest(10, 'mean_rating')\n",
        "\n",
        "# Visualizza la lista dei 10 film\n",
        "print(top_10_movies[['id', 'title', 'mean_rating', 'rating_count']])\n",
        "\n",
        "# Esportare il risultato in un file CSV se necessario\n",
        "top_10_movies.to_csv('top_10_movies_case1_no_ponderation.csv', index=False)\n"
      ],
      "metadata": {
        "colab": {
          "base_uri": "https://localhost:8080/"
        },
        "id": "8chvWQykv0bx",
        "outputId": "ea0b8e46-fbd8-4b41-f7f9-e280975a6d01"
      },
      "execution_count": 29,
      "outputs": [
        {
          "output_type": "stream",
          "name": "stderr",
          "text": [
            "<ipython-input-29-d74d6cba5726>:15: SettingWithCopyWarning: \n",
            "A value is trying to be set on a copy of a slice from a DataFrame\n",
            "\n",
            "See the caveats in the documentation: https://pandas.pydata.org/pandas-docs/stable/user_guide/indexing.html#returning-a-view-versus-a-copy\n",
            "  movies_above_avg_ratings.rename(columns={'movieId': 'id'}, inplace=True)\n"
          ]
        },
        {
          "output_type": "stream",
          "name": "stdout",
          "text": [
            "        id                   title  mean_rating  rating_count\n",
            "635   1260  Lotte from Gadgetville     4.163554        4873.0\n",
            "576   1254   Don't Worry, I'm Fine     4.128207        5768.0\n",
            "278   1280                  3-Iron     4.114931        3563.0\n",
            "261    670                  Oldboy     4.112805         820.0\n",
            "429   1949                  Zodiac     4.110604        2301.0\n",
            "706  48780                    Boat     4.078295       20276.0\n",
            "414   1251   Letters from Iwo Jima     4.022186        3651.0\n",
            "214    246                Zatoichi     4.004338       11412.0\n",
            "640   8014       Valley of Flowers     3.997436        2145.0\n",
            "259    363                 Head-On     3.995441         658.0\n"
          ]
        }
      ]
    },
    {
      "cell_type": "code",
      "source": [
        "import pandas as pd\n",
        "\n",
        "# Carica il file metadata aggiornato e il file delle valutazioni\n",
        "metadata = pd.read_csv('merged_movies_metadata_with_keywords_updated.csv')\n",
        "ratings = pd.read_csv('ratings.csv')\n",
        "\n",
        "# Step 1: Calcolare il numero medio di valutazioni per film in ratings.csv\n",
        "rating_count_per_movie = ratings.groupby('movieId').size().reset_index(name='rating_count')\n",
        "average_rating_count = rating_count_per_movie['rating_count'].mean()\n",
        "\n",
        "# Step 2: Selezionare i film che hanno un numero di valutazioni maggiore o uguale alla media\n",
        "movies_above_avg_ratings = rating_count_per_movie[rating_count_per_movie['rating_count'] >= average_rating_count]\n",
        "\n",
        "# Rinominare 'movieId' in 'id' per collegare con il file metadata\n",
        "movies_above_avg_ratings.rename(columns={'movieId': 'id'}, inplace=True)\n",
        "\n",
        "# Unire i dati delle valutazioni con il file metadata sul campo 'id'\n",
        "metadata_with_ratings = pd.merge(metadata, movies_above_avg_ratings, on='id', how='left')\n",
        "\n",
        "# Rimuovere i film con NaN nel rating_count\n",
        "metadata_with_ratings.dropna(subset=['rating_count'], inplace=True)\n",
        "\n",
        "# Step 3: Selezionare i film usciti dal 2000 in poi\n",
        "movies_post_2000 = metadata_with_ratings[metadata_with_ratings['year'] >= 2005]\n",
        "\n",
        "# Step 4: Filtrare i film in base ai criteri descritti\n",
        "# a) Il voto medio in ratings.csv non deve discostarsi di +-0.5 dal vote_average_normalized\n",
        "mean_ratings_per_movie = ratings.groupby('movieId')['rating'].mean().reset_index(name='mean_rating')\n",
        "mean_ratings_per_movie.rename(columns={'movieId': 'id'}, inplace=True)\n",
        "\n",
        "# Unire la media dei voti al dataset principale\n",
        "movies_with_mean_rating = pd.merge(movies_post_2000, mean_ratings_per_movie, on='id', how='left')\n",
        "\n",
        "# Filtrare i film che soddisfano il criterio di +-0.5 sulla media voto rispetto al vote_average_normalized\n",
        "condition_media = (movies_with_mean_rating['mean_rating'] >= (movies_with_mean_rating['vote_average_normalized'] - 0.5)) & \\\n",
        "                  (movies_with_mean_rating['mean_rating'] <= (movies_with_mean_rating['vote_average_normalized'] + 0.5))\n",
        "\n",
        "filtered_movies = movies_with_mean_rating[condition_media]\n",
        "\n",
        "# Step 5: Ordinare i film in base alla media voto (senza ponderazione con il numero di valutazioni)\n",
        "# Selezionare i 10 film con la media voto più alta\n",
        "top_10_movies = filtered_movies.nlargest(10, 'mean_rating')\n",
        "\n",
        "# Visualizza la lista dei 10 film\n",
        "print(top_10_movies[['id', 'title', 'mean_rating', 'rating_count']])\n",
        "\n",
        "# Esportare il risultato in un file CSV se necessario\n",
        "top_10_movies.to_csv('top_10_movies_case1_no_ponderation.csv', index=False)\n"
      ],
      "metadata": {
        "colab": {
          "base_uri": "https://localhost:8080/"
        },
        "id": "A__xTuCowobY",
        "outputId": "b32b8f75-31ad-4684-965d-f29387e33ad9"
      },
      "execution_count": 31,
      "outputs": [
        {
          "output_type": "stream",
          "name": "stderr",
          "text": [
            "<ipython-input-31-3d06667789d8>:15: SettingWithCopyWarning: \n",
            "A value is trying to be set on a copy of a slice from a DataFrame\n",
            "\n",
            "See the caveats in the documentation: https://pandas.pydata.org/pandas-docs/stable/user_guide/indexing.html#returning-a-view-versus-a-copy\n",
            "  movies_above_avg_ratings.rename(columns={'movieId': 'id'}, inplace=True)\n"
          ]
        },
        {
          "output_type": "stream",
          "name": "stdout",
          "text": [
            "        id                                       title  mean_rating  \\\n",
            "310   1260                      Lotte from Gadgetville     4.163554   \n",
            "259   1254                       Don't Worry, I'm Fine     4.128207   \n",
            "123   1949                                      Zodiac     4.110604   \n",
            "360  48780                                        Boat     4.078295   \n",
            "109   1251                       Letters from Iwo Jima     4.022186   \n",
            "313   8014                           Valley of Flowers     3.997436   \n",
            "295   2692                               The Red Elvis     3.979886   \n",
            "64      58  Pirates of the Caribbean: Dead Man's Chest     3.965011   \n",
            "42     116                                 Match Point     3.920597   \n",
            "189   6023                             P.S. I Love You     3.896352   \n",
            "\n",
            "     rating_count  \n",
            "310        4873.0  \n",
            "259        5768.0  \n",
            "123        2301.0  \n",
            "360       20276.0  \n",
            "109        3651.0  \n",
            "313        2145.0  \n",
            "295       20409.0  \n",
            "64        13347.0  \n",
            "42         1039.0  \n",
            "189         603.0  \n"
          ]
        }
      ]
    },
    {
      "cell_type": "code",
      "source": [
        "import pandas as pd\n",
        "\n",
        "# Leggi i file necessari\n",
        "ratings = pd.read_csv('ratings.csv')\n",
        "movies_metadata = pd.read_csv('merged_movies_metadata_with_keywords_updated.csv')\n",
        "\n",
        "# Calcola il numero di valutazioni per ogni film nel file ratings.csv\n",
        "ratings_count = ratings.groupby('movieId').size().reset_index(name='rating_count')\n",
        "\n",
        "# Calcola la media delle valutazioni per ogni film nel file ratings.csv\n",
        "mean_ratings = ratings.groupby('movieId')['rating'].mean().reset_index(name='mean_rating')\n",
        "\n",
        "# Calcola la media del numero di valutazioni nel file ratings.csv\n",
        "media_ratings = ratings_count['rating_count'].mean()\n",
        "\n",
        "# Calcola la media delle valutazioni (vote_count) nel file merged_movies_metadata_with_keywords_updated.csv\n",
        "media_votes_count = movies_metadata['vote_count'].mean()\n",
        "\n",
        "# Unisci il numero di valutazioni e la media dei voti con il file dei film\n",
        "movies_above_avg_ratings = pd.merge(movies_metadata, ratings_count, left_on='id', right_on='movieId')\n",
        "movies_above_avg_ratings = pd.merge(movies_above_avg_ratings, mean_ratings, left_on='id', right_on='movieId')\n",
        "\n",
        "# Applica il filtro per il numero minimo di valutazioni in ratings.csv (>= alla media)\n",
        "movies_above_avg_ratings = movies_above_avg_ratings[movies_above_avg_ratings['rating_count'] >= media_ratings]\n",
        "\n",
        "# Applica il filtro per il numero minimo di valutazioni in vote_count (>= alla media)\n",
        "movies_above_avg_ratings = movies_above_avg_ratings[movies_above_avg_ratings['vote_count'] >= media_votes_count]\n",
        "\n",
        "# Filtra per i film usciti dopo il 2005\n",
        "movies_post_2005 = movies_above_avg_ratings[movies_above_avg_ratings['year'] >= 2005]\n",
        "\n",
        "# Filtro per il criterio della media del voto +- 0.5\n",
        "condition_media = (movies_post_2005['mean_rating'] >= (movies_post_2005['vote_average_normalized'] - 0.5)) & \\\n",
        "                  (movies_post_2005['mean_rating'] <= (movies_post_2005['vote_average_normalized'] + 0.5))\n",
        "\n",
        "# Applica il filtro\n",
        "filtered_movies = movies_post_2005[condition_media]\n",
        "\n",
        "# Ordina per la media del voto e seleziona i migliori 10\n",
        "top_10_movies = filtered_movies.nlargest(10, 'mean_rating')\n",
        "\n",
        "# Mostra la lista dei 10 film più popolari\n",
        "print(top_10_movies[['id', 'title', 'mean_rating', 'rating_count', 'vote_count']])\n"
      ],
      "metadata": {
        "colab": {
          "base_uri": "https://localhost:8080/"
        },
        "id": "VQkTLjhx3NxR",
        "outputId": "4e266e9d-a3a7-498f-cbd2-efd0991e1c45"
      },
      "execution_count": 36,
      "outputs": [
        {
          "output_type": "stream",
          "name": "stdout",
          "text": [
            "        id                                       title  mean_rating  \\\n",
            "4138  1254                       Don't Worry, I'm Fine     4.128207   \n",
            "2908  1949                                      Zodiac     4.110604   \n",
            "2864  1251                       Letters from Iwo Jima     4.022186   \n",
            "2733    58  Pirates of the Caribbean: Dead Man's Chest     3.965011   \n",
            "2634   116                                 Match Point     3.920597   \n",
            "3123  6023                             P.S. I Love You     3.896352   \n",
            "2879  1265                        Bridge to Terabithia     3.879848   \n",
            "2553   501                                 Grizzly Man     3.828960   \n",
            "3511  7445                                    Brothers     3.806181   \n",
            "2512   921                              Cinderella Man     3.786230   \n",
            "\n",
            "      rating_count  vote_count  \n",
            "4138          5768       168.0  \n",
            "2908          2301      2080.0  \n",
            "2864          3651       553.0  \n",
            "2733         13347      5380.0  \n",
            "2634          1039      1134.0  \n",
            "3123           603      1011.0  \n",
            "2879         38672      1146.0  \n",
            "2553          2096       213.0  \n",
            "3511          7280       650.0  \n",
            "2512          2491       630.0  \n"
          ]
        }
      ]
    },
    {
      "cell_type": "code",
      "source": [
        "# Esportare il risultato in un file CSV se necessario\n",
        "top_10_movies.to_csv('top_10_movies_2005_media both.csv', index=False)"
      ],
      "metadata": {
        "id": "FesX3DKU3wkn"
      },
      "execution_count": 37,
      "outputs": []
    },
    {
      "cell_type": "code",
      "source": [
        "import pandas as pd\n",
        "\n",
        "# Leggi i file necessari\n",
        "ratings = pd.read_csv('ratings.csv')\n",
        "movies_metadata = pd.read_csv('merged_movies_metadata_with_keywords_updated.csv')\n",
        "\n",
        "# Calcola il numero di valutazioni per ogni film nel file ratings.csv\n",
        "ratings_count = ratings.groupby('movieId').size().reset_index(name='rating_count')\n",
        "\n",
        "# Calcola la media delle valutazioni per ogni film nel file ratings.csv\n",
        "mean_ratings = ratings.groupby('movieId')['rating'].mean().reset_index(name='mean_rating')\n",
        "\n",
        "# Calcola la media del numero di valutazioni nel file ratings.csv\n",
        "media_ratings = ratings_count['rating_count'].mean()\n",
        "\n",
        "# Calcola la media delle valutazioni (vote_count) nel file merged_movies_metadata_with_keywords_updated.csv\n",
        "media_votes_count = movies_metadata['vote_count'].mean()\n",
        "\n",
        "# Unisci il numero di valutazioni e la media dei voti con il file dei film\n",
        "movies_above_avg_ratings = pd.merge(movies_metadata, ratings_count, left_on='id', right_on='movieId')\n",
        "movies_above_avg_ratings = pd.merge(movies_above_avg_ratings, mean_ratings, left_on='id', right_on='movieId')\n",
        "\n",
        "# Applica il filtro per il numero minimo di valutazioni in ratings.csv (>= alla media)\n",
        "movies_above_avg_ratings = movies_above_avg_ratings[movies_above_avg_ratings['rating_count'] >= media_ratings]\n",
        "\n",
        "# Applica il filtro per il numero minimo di valutazioni in vote_count (>= alla media)\n",
        "movies_above_avg_ratings = movies_above_avg_ratings[movies_above_avg_ratings['vote_count'] >= media_votes_count]\n",
        "\n",
        "# Filtra per i film usciti dopo il 1995\n",
        "movies_post_1995 = movies_above_avg_ratings[movies_above_avg_ratings['year'] >= 1995]\n",
        "\n",
        "# Filtro per il criterio della media del voto +- 0.5\n",
        "condition_media = (movies_post_1995['mean_rating'] >= (movies_post_1995['vote_average_normalized'] - 0.5)) & \\\n",
        "                  (movies_post_1995['mean_rating'] <= (movies_post_1995['vote_average_normalized'] + 0.5))\n",
        "\n",
        "# Applica il filtro\n",
        "filtered_movies = movies_post_1995[condition_media]\n",
        "\n",
        "# Ordina per la media del voto e seleziona i migliori 10\n",
        "top_10_movies = filtered_movies.nlargest(10, 'mean_rating')\n",
        "\n",
        "# Mostra la lista dei 10 film più popolari\n",
        "print(top_10_movies[['id', 'title', 'mean_rating', 'rating_count', 'vote_count']])\n",
        "\n",
        "# Esportare il risultato in un file CSV se necessario\n",
        "top_10_movies.to_csv('top_10_movies_1995_media both.csv', index=False)"
      ],
      "metadata": {
        "colab": {
          "base_uri": "https://localhost:8080/"
        },
        "id": "8g3G1ujb4RJN",
        "outputId": "3a538017-7a50-43ed-c89d-53a9681b442a"
      },
      "execution_count": 39,
      "outputs": [
        {
          "output_type": "stream",
          "name": "stdout",
          "text": [
            "        id                  title  mean_rating  rating_count  vote_count\n",
            "4138  1254  Don't Worry, I'm Fine     4.128207          5768       168.0\n",
            "2395  1280                 3-Iron     4.114931          3563       225.0\n",
            "2365   670                 Oldboy     4.112805           820      2000.0\n",
            "798    745        The Sixth Sense     4.112609         13649      3223.0\n",
            "2908  1949                 Zodiac     4.110604          2301      2080.0\n",
            "2864  1251  Letters from Iwo Jima     4.022186          3651       553.0\n",
            "2047   246               Zatoichi     4.004338         11412       236.0\n",
            "2362   363                Head-On     3.995441           658       111.0\n",
            "2096  2502   The Bourne Supremacy     3.978199         24678      2873.0\n",
            "1880  1278           The Dreamers     3.968559         17334       680.0\n"
          ]
        }
      ]
    },
    {
      "cell_type": "code",
      "source": [
        "import pandas as pd\n",
        "\n",
        "# Leggi i file necessari\n",
        "ratings = pd.read_csv('ratings.csv')\n",
        "movies_metadata = pd.read_csv('merged_movies_metadata_with_keywords_updated.csv')\n",
        "\n",
        "# Calcola il numero di valutazioni per ogni film nel file ratings.csv\n",
        "ratings_count = ratings.groupby('movieId').size().reset_index(name='rating_count')\n",
        "\n",
        "# Calcola la media delle valutazioni per ogni film nel file ratings.csv\n",
        "mean_ratings = ratings.groupby('movieId')['rating'].mean().reset_index(name='mean_rating')\n",
        "\n",
        "# Calcola il 75° percentile del numero di valutazioni nel file ratings.csv\n",
        "percentile_75_ratings = ratings_count['rating_count'].quantile(0.75)\n",
        "\n",
        "# Calcola il 75° percentile delle valutazioni (vote_count) nel file merged_movies_metadata_with_keywords_updated.csv\n",
        "percentile_75_votes_count = movies_metadata['vote_count'].quantile(0.75)\n",
        "\n",
        "# Unisci il numero di valutazioni e la media dei voti con il file dei film\n",
        "movies_above_percentile = pd.merge(movies_metadata, ratings_count, left_on='id', right_on='movieId')\n",
        "movies_above_percentile = pd.merge(movies_above_percentile, mean_ratings, left_on='id', right_on='movieId')\n",
        "\n",
        "# Applica il filtro per il numero minimo di valutazioni in ratings.csv (>= al 75° percentile)\n",
        "movies_above_percentile = movies_above_percentile[movies_above_percentile['rating_count'] >= percentile_75_ratings]\n",
        "\n",
        "# Applica il filtro per il numero minimo di valutazioni in vote_count (>= al 75° percentile)\n",
        "movies_above_percentile = movies_above_percentile[movies_above_percentile['vote_count'] >= percentile_75_votes_count]\n",
        "\n",
        "# Filtra per i film usciti dopo il 1995\n",
        "movies_post_1995 = movies_above_percentile[movies_above_percentile['year'] >= 1995]\n",
        "\n",
        "# Filtro per il criterio della media del voto +- 0.5\n",
        "condition_media = (movies_post_1995['mean_rating'] >= (movies_post_1995['vote_average_normalized'] - 0.5)) & \\\n",
        "                  (movies_post_1995['mean_rating'] <= (movies_post_1995['vote_average_normalized'] + 0.5))\n",
        "\n",
        "# Applica il filtro\n",
        "filtered_movies = movies_post_1995[condition_media]\n",
        "\n",
        "# Ordina per la media del voto e seleziona i migliori 10\n",
        "top_10_movies = filtered_movies.nlargest(10, 'mean_rating')\n",
        "\n",
        "# Mostra la lista dei 10 film più popolari\n",
        "print(top_10_movies[['id', 'title', 'mean_rating', 'rating_count', 'vote_count']])\n",
        "\n",
        "# Esportare il risultato in un file CSV se necessario\n",
        "top_10_movies.to_csv('top_10_movies_1995_percentile_75.csv', index=False)\n"
      ],
      "metadata": {
        "colab": {
          "base_uri": "https://localhost:8080/"
        },
        "id": "FFjiCHT55jVq",
        "outputId": "5efcc6eb-acbb-4801-ad52-670a47fdb37e"
      },
      "execution_count": 40,
      "outputs": [
        {
          "output_type": "stream",
          "name": "stdout",
          "text": [
            "        id                  title  mean_rating  rating_count  vote_count\n",
            "4138  1254  Don't Worry, I'm Fine     4.128207          5768       168.0\n",
            "2395  1280                 3-Iron     4.114931          3563       225.0\n",
            "2365   670                 Oldboy     4.112805           820      2000.0\n",
            "798    745        The Sixth Sense     4.112609         13649      3223.0\n",
            "2908  1949                 Zodiac     4.110604          2301      2080.0\n",
            "2864  1251  Letters from Iwo Jima     4.022186          3651       553.0\n",
            "2047   246               Zatoichi     4.004338         11412       236.0\n",
            "2362   363                Head-On     3.995441           658       111.0\n",
            "2096  2502   The Bourne Supremacy     3.978199         24678      2873.0\n",
            "1880  1278           The Dreamers     3.968559         17334       680.0\n"
          ]
        }
      ]
    },
    {
      "cell_type": "code",
      "source": [
        "import pandas as pd\n",
        "\n",
        "# Leggi i file necessari\n",
        "ratings = pd.read_csv('ratings.csv')\n",
        "movies_metadata = pd.read_csv('merged_movies_metadata_with_keywords_updated.csv')\n",
        "\n",
        "# Calcola il numero di valutazioni per ogni film nel file ratings.csv\n",
        "ratings_count = ratings.groupby('movieId').size().reset_index(name='rating_count')\n",
        "\n",
        "# Calcola la media delle valutazioni per ogni film nel file ratings.csv\n",
        "mean_ratings = ratings.groupby('movieId')['rating'].mean().reset_index(name='mean_rating')\n",
        "\n",
        "# Calcola il 75° percentile del numero di valutazioni nel file ratings.csv\n",
        "percentile_75_ratings = ratings_count['rating_count'].quantile(0.75)\n",
        "\n",
        "# Calcola il 75° percentile delle valutazioni (vote_count) nel file merged_movies_metadata_with_keywords_updated.csv\n",
        "percentile_75_votes_count = movies_metadata['vote_count'].quantile(0.75)\n",
        "\n",
        "# Unisci il numero di valutazioni e la media dei voti con il file dei film\n",
        "movies_above_percentile = pd.merge(movies_metadata, ratings_count, left_on='id', right_on='movieId')\n",
        "movies_above_percentile = pd.merge(movies_above_percentile, mean_ratings, left_on='id', right_on='movieId')\n",
        "\n",
        "# Applica il filtro per il numero minimo di valutazioni in ratings.csv (>= al 75° percentile)\n",
        "movies_above_percentile = movies_above_percentile[movies_above_percentile['rating_count'] >= percentile_75_ratings]\n",
        "\n",
        "# Applica il filtro per il numero minimo di valutazioni in vote_count (>= al 75° percentile)\n",
        "movies_above_percentile = movies_above_percentile[movies_above_percentile['vote_count'] >= percentile_75_votes_count]\n",
        "\n",
        "# Filtra per i film usciti dopo il 2005\n",
        "movies_post_1995 = movies_above_percentile[movies_above_percentile['year'] >= 2005]\n",
        "\n",
        "# Filtro per il criterio della media del voto +- 0.5\n",
        "condition_media = (movies_post_2005['mean_rating'] >= (movies_post_2005['vote_average_normalized'] - 0.5)) & \\\n",
        "                  (movies_post_2005['mean_rating'] <= (movies_post_2005['vote_average_normalized'] + 0.5))\n",
        "\n",
        "# Applica il filtro\n",
        "filtered_movies = movies_post_2005[condition_media]\n",
        "\n",
        "# Ordina per la media del voto e seleziona i migliori 10\n",
        "top_10_movies = filtered_movies.nlargest(10, 'mean_rating')\n",
        "\n",
        "# Mostra la lista dei 10 film più popolari\n",
        "print(top_10_movies[['id', 'title', 'mean_rating', 'rating_count', 'vote_count']])\n",
        "\n"
      ],
      "metadata": {
        "colab": {
          "base_uri": "https://localhost:8080/"
        },
        "id": "N5XU_MZB5-M4",
        "outputId": "f85455ea-3051-4194-dc55-2219064d282e"
      },
      "execution_count": 41,
      "outputs": [
        {
          "output_type": "stream",
          "name": "stdout",
          "text": [
            "        id                                       title  mean_rating  \\\n",
            "4138  1254                       Don't Worry, I'm Fine     4.128207   \n",
            "2908  1949                                      Zodiac     4.110604   \n",
            "2864  1251                       Letters from Iwo Jima     4.022186   \n",
            "2733    58  Pirates of the Caribbean: Dead Man's Chest     3.965011   \n",
            "2634   116                                 Match Point     3.920597   \n",
            "3123  6023                             P.S. I Love You     3.896352   \n",
            "2879  1265                        Bridge to Terabithia     3.879848   \n",
            "2553   501                                 Grizzly Man     3.828960   \n",
            "3511  7445                                    Brothers     3.806181   \n",
            "2512   921                              Cinderella Man     3.786230   \n",
            "\n",
            "      rating_count  vote_count  \n",
            "4138          5768       168.0  \n",
            "2908          2301      2080.0  \n",
            "2864          3651       553.0  \n",
            "2733         13347      5380.0  \n",
            "2634          1039      1134.0  \n",
            "3123           603      1011.0  \n",
            "2879         38672      1146.0  \n",
            "2553          2096       213.0  \n",
            "3511          7280       650.0  \n",
            "2512          2491       630.0  \n"
          ]
        }
      ]
    },
    {
      "cell_type": "code",
      "source": [
        "# Calcola la media del numero di valutazioni nel file ratings.csv\n",
        "media_ratings = ratings_count['rating_count'].mean()\n",
        "\n",
        "# Calcola il 75° percentile del numero di valutazioni nel file ratings.csv\n",
        "percentile_75_ratings = ratings_count['rating_count'].quantile(0.75)\n",
        "\n",
        "print(f\"Media delle valutazioni per film: {media_ratings}\")\n",
        "print(f\"75° percentile delle valutazioni per film: {percentile_75_ratings}\")\n"
      ],
      "metadata": {
        "colab": {
          "base_uri": "https://localhost:8080/"
        },
        "id": "GoOw67Af6qO4",
        "outputId": "c81bb6c3-dad6-4e6e-eae1-ed0f8d47b2e3"
      },
      "execution_count": 42,
      "outputs": [
        {
          "output_type": "stream",
          "name": "stdout",
          "text": [
            "Media delle valutazioni per film: 576.8433780339134\n",
            "75° percentile delle valutazioni per film: 69.0\n"
          ]
        }
      ]
    },
    {
      "cell_type": "code",
      "source": [
        "# Calcola la media e il 75° percentile per vote_count\n",
        "media_votes_count = movies_metadata['vote_count'].mean()\n",
        "percentile_75_votes_count = movies_metadata['vote_count'].quantile(0.75)\n",
        "\n",
        "print(f\"Media di vote_count: {media_votes_count}\")\n",
        "print(f\"75° percentile di vote_count: {percentile_75_votes_count}\")\n"
      ],
      "metadata": {
        "colab": {
          "base_uri": "https://localhost:8080/"
        },
        "id": "xXvov6Ru6ssq",
        "outputId": "a91f1875-e9d7-463d-ee57-f58a80580e6d"
      },
      "execution_count": 43,
      "outputs": [
        {
          "output_type": "stream",
          "name": "stdout",
          "text": [
            "Media di vote_count: 107.78456913827655\n",
            "75° percentile di vote_count: 34.0\n"
          ]
        }
      ]
    },
    {
      "cell_type": "code",
      "source": [
        "import pandas as pd\n",
        "import matplotlib.pyplot as plt\n",
        "import seaborn as sns\n",
        "\n",
        "# Leggi il file 'merged_movies_metadata_with_keywords_updated.csv'\n",
        "movies_metadata = pd.read_csv('merged_movies_metadata_with_keywords_updated.csv')\n",
        "\n",
        "# Imposta lo stile per il grafico\n",
        "sns.set(style=\"whitegrid\")\n",
        "\n",
        "# Crea un istogramma per visualizzare la distribuzione di 'votes_count'\n",
        "plt.figure(figsize=(10, 6))\n",
        "sns.histplot(movies_metadata['vote_count'], bins=50, kde=False, color=\"blue\")\n",
        "\n",
        "# Imposta il titolo e le etichette del grafico\n",
        "plt.title('Distribuzione del numero di valutazioni (votes_count)', fontsize=16)\n",
        "plt.xlabel('Numero di valutazioni', fontsize=12)\n",
        "plt.ylabel('Numero di film', fontsize=12)\n",
        "\n",
        "# Mostra il grafico\n",
        "plt.yscale('log')  # Se necessario, imposta la scala logaritmica sull'asse Y per una migliore visibilità\n",
        "plt.show()\n"
      ],
      "metadata": {
        "colab": {
          "base_uri": "https://localhost:8080/",
          "height": 534
        },
        "id": "uU_z0Utz808x",
        "outputId": "a1199115-18f6-406f-e856-ad2cb4effd72"
      },
      "execution_count": 47,
      "outputs": [
        {
          "output_type": "display_data",
          "data": {
            "text/plain": [
              "<Figure size 1000x600 with 1 Axes>"
            ],
            "image/png": "[encoded data removed]"
          },
          "metadata": {}
        }
      ]
    },
    {
      "cell_type": "code",
      "source": [
        "import pandas as pd\n",
        "\n",
        "# Leggi il file merged_movies_metadata_with_keywords_updated.csv\n",
        "movies_metadata = pd.read_csv('merged_movies_metadata_with_keywords_updated.csv')\n",
        "\n",
        "# Calcola il numero totale di film\n",
        "total_films = len(movies_metadata)\n",
        "\n",
        "# Film con più di 500 valutazioni\n",
        "films_over_500 = len(movies_metadata[movies_metadata['vote_count'] > 500])\n",
        "percent_over_500 = (films_over_500 / total_films) * 100\n",
        "\n",
        "# Film con più di 1000 valutazioni\n",
        "films_over_1000 = len(movies_metadata[movies_metadata['vote_count'] > 1000])\n",
        "percent_over_1000 = (films_over_1000 / total_films) * 100\n",
        "\n",
        "# Film con più di 5000 valutazioni\n",
        "films_over_5000 = len(movies_metadata[movies_metadata['vote_count'] > 5000])\n",
        "percent_over_5000 = (films_over_5000 / total_films) * 100\n",
        "\n",
        "# Stampa i risultati\n",
        "print(f\"Film con più di 500 valutazioni: {films_over_500} ({percent_over_500:.2f}%)\")\n",
        "print(f\"Film con più di 1000 valutazioni: {films_over_1000} ({percent_over_1000:.2f}%)\")\n",
        "print(f\"Film con più di 5000 valutazioni: {films_over_5000} ({percent_over_5000:.2f}%)\")\n"
      ],
      "metadata": {
        "colab": {
          "base_uri": "https://localhost:8080/"
        },
        "id": "Hl7qhLPS9ccn",
        "outputId": "d4eb39ac-02e2-4e4b-f558-b070441ea6a6"
      },
      "execution_count": 48,
      "outputs": [
        {
          "output_type": "stream",
          "name": "stdout",
          "text": [
            "Film con più di 500 valutazioni: 2063 (4.40%)\n",
            "Film con più di 1000 valutazioni: 1128 (2.40%)\n",
            "Film con più di 5000 valutazioni: 101 (0.22%)\n"
          ]
        }
      ]
    },
    {
      "cell_type": "code",
      "source": [
        "import pandas as pd\n",
        "\n",
        "# Leggi i file necessari\n",
        "ratings = pd.read_csv('ratings.csv')\n",
        "movies_metadata = pd.read_csv('merged_movies_metadata_with_keywords_updated.csv')\n",
        "\n",
        "# Calcola il numero di valutazioni per ogni film nel file ratings.csv\n",
        "ratings_count = ratings.groupby('movieId').size().reset_index(name='rating_count')\n",
        "\n",
        "# Calcola la media delle valutazioni per ogni film nel file ratings.csv\n",
        "mean_ratings = ratings.groupby('movieId')['rating'].mean().reset_index(name='mean_rating')\n",
        "\n",
        "# Calcola la media del numero di valutazioni nel file ratings.csv\n",
        "media_ratings = ratings_count['rating_count'].mean()\n",
        "\n",
        "# Calcola il 90° percentile del numero di valutazioni nel file merged_movies_metadata_with_keywords_updated.csv\n",
        "percentile_90_votes_count = movies_metadata['vote_count'].quantile(0.90)\n",
        "\n",
        "# Unisci il numero di valutazioni e la media dei voti con il file dei film\n",
        "movies_above_avg_ratings = pd.merge(movies_metadata, ratings_count, left_on='id', right_on='movieId')\n",
        "movies_above_avg_ratings = pd.merge(movies_above_avg_ratings, mean_ratings, left_on='id', right_on='movieId')\n",
        "\n",
        "# Applica il filtro per il numero minimo di valutazioni in ratings.csv (>= alla media)\n",
        "movies_above_avg_ratings = movies_above_avg_ratings[movies_above_avg_ratings['rating_count'] >= media_ratings]\n",
        "\n",
        "# Applica il filtro per il numero di valutazioni in vote_count (>= al 90° percentile)\n",
        "movies_above_avg_ratings = movies_above_avg_ratings[movies_above_avg_ratings['vote_count'] >= percentile_90_votes_count]\n",
        "\n",
        "# Filtra per i film usciti dopo il 1995\n",
        "movies_post_1995 = movies_above_avg_ratings[movies_above_avg_ratings['year'] >= 1995]\n",
        "\n",
        "# Filtro per il criterio della media del voto +- 0.5\n",
        "condition_media = (movies_post_1995['mean_rating'] >= (movies_post_1995['vote_average_normalized'] - 0.5)) & \\\n",
        "                  (movies_post_1995['mean_rating'] <= (movies_post_1995['vote_average_normalized'] + 0.5))\n",
        "\n",
        "# Applica il filtro\n",
        "filtered_movies = movies_post_1995[condition_media]\n",
        "\n",
        "# Ordina per la media del voto e seleziona i migliori 10\n",
        "top_10_movies = filtered_movies.nlargest(10, 'mean_rating')\n",
        "\n",
        "# Mostra la lista dei 10 film più popolari\n",
        "print(top_10_movies[['id', 'title', 'mean_rating', 'rating_count', 'vote_count']])\n",
        "\n",
        "# Esportare il risultato in un file CSV se necessario\n",
        "top_10_movies.to_csv('top_10_movies_1995_media_percentile_90.csv', index=False)\n"
      ],
      "metadata": {
        "colab": {
          "base_uri": "https://localhost:8080/"
        },
        "id": "GPplKJhb_GW6",
        "outputId": "85f720c3-198b-4d98-8e2c-baa21bc35297"
      },
      "execution_count": 49,
      "outputs": [
        {
          "output_type": "stream",
          "name": "stdout",
          "text": [
            "        id                                       title  mean_rating  \\\n",
            "4138  1254                       Don't Worry, I'm Fine     4.128207   \n",
            "2395  1280                                      3-Iron     4.114931   \n",
            "2365   670                                      Oldboy     4.112805   \n",
            "798    745                             The Sixth Sense     4.112609   \n",
            "2908  1949                                      Zodiac     4.110604   \n",
            "2864  1251                       Letters from Iwo Jima     4.022186   \n",
            "2047   246                                    Zatoichi     4.004338   \n",
            "2096  2502                        The Bourne Supremacy     3.978199   \n",
            "1880  1278                                The Dreamers     3.968559   \n",
            "2733    58  Pirates of the Caribbean: Dead Man's Chest     3.965011   \n",
            "\n",
            "      rating_count  vote_count  \n",
            "4138          5768       168.0  \n",
            "2395          3563       225.0  \n",
            "2365           820      2000.0  \n",
            "798          13649      3223.0  \n",
            "2908          2301      2080.0  \n",
            "2864          3651       553.0  \n",
            "2047         11412       236.0  \n",
            "2096         24678      2873.0  \n",
            "1880         17334       680.0  \n",
            "2733         13347      5380.0  \n"
          ]
        }
      ]
    },
    {
      "cell_type": "code",
      "source": [
        "import pandas as pd\n",
        "\n",
        "# Leggi i file necessari\n",
        "ratings = pd.read_csv('ratings.csv')\n",
        "movies_metadata = pd.read_csv('merged_movies_metadata_with_keywords_updated.csv')\n",
        "\n",
        "# Calcola il numero di valutazioni per ogni film nel file ratings.csv\n",
        "ratings_count = ratings.groupby('movieId').size().reset_index(name='rating_count')\n",
        "\n",
        "# Calcola la media delle valutazioni per ogni film nel file ratings.csv\n",
        "mean_ratings = ratings.groupby('movieId')['rating'].mean().reset_index(name='mean_rating')\n",
        "\n",
        "# Calcola la media del numero di valutazioni nel file ratings.csv\n",
        "media_ratings = ratings_count['rating_count'].mean()\n",
        "\n",
        "# Calcola il 90° percentile del numero di valutazioni nel file merged_movies_metadata_with_keywords_updated.csv\n",
        "percentile_95_votes_count = movies_metadata['vote_count'].quantile(0.95)\n",
        "\n",
        "# Unisci il numero di valutazioni e la media dei voti con il file dei film\n",
        "movies_above_avg_ratings = pd.merge(movies_metadata, ratings_count, left_on='id', right_on='movieId')\n",
        "movies_above_avg_ratings = pd.merge(movies_above_avg_ratings, mean_ratings, left_on='id', right_on='movieId')\n",
        "\n",
        "# Applica il filtro per il numero minimo di valutazioni in ratings.csv (>= alla media)\n",
        "movies_above_avg_ratings = movies_above_avg_ratings[movies_above_avg_ratings['rating_count'] >= media_ratings]\n",
        "\n",
        "# Applica il filtro per il numero di valutazioni in vote_count (>= al 95° percentile)\n",
        "movies_above_avg_ratings = movies_above_avg_ratings[movies_above_avg_ratings['vote_count'] >= percentile_95_votes_count]\n",
        "\n",
        "# Filtra per i film usciti dopo il 2005\n",
        "movies_post_2005 = movies_above_avg_ratings[movies_above_avg_ratings['year'] >= 2005]\n",
        "\n",
        "# Filtro per il criterio della media del voto +- 0.5\n",
        "condition_media = (movies_post_2005['mean_rating'] >= (movies_post_2005['vote_average_normalized'] - 0.5)) & \\\n",
        "                  (movies_post_2005['mean_rating'] <= (movies_post_2005['vote_average_normalized'] + 0.5))\n",
        "\n",
        "# Applica il filtro\n",
        "filtered_movies = movies_post_2005[condition_media]\n",
        "\n",
        "# Ordina per la media del voto e seleziona i migliori 10\n",
        "top_10_movies = filtered_movies.nlargest(10, 'mean_rating')\n",
        "\n",
        "# Mostra la lista dei 10 film più popolari\n",
        "print(top_10_movies[['id', 'title', 'mean_rating', 'rating_count', 'vote_count']])\n",
        "\n",
        "# Esportare il risultato in un file CSV se necessario\n",
        "top_10_movies.to_csv('top_10_movies_2005_media_percentile_95.csv', index=False)\n"
      ],
      "metadata": {
        "colab": {
          "base_uri": "https://localhost:8080/"
        },
        "id": "GjfIzREy_8F2",
        "outputId": "43f9327a-fcf0-40fd-f099-049833ece66e"
      },
      "execution_count": 55,
      "outputs": [
        {
          "output_type": "stream",
          "name": "stdout",
          "text": [
            "        id                                       title  mean_rating  \\\n",
            "2908  1949                                      Zodiac     4.110604   \n",
            "2864  1251                       Letters from Iwo Jima     4.022186   \n",
            "2733    58  Pirates of the Caribbean: Dead Man's Chest     3.965011   \n",
            "2634   116                                 Match Point     3.920597   \n",
            "3123  6023                             P.S. I Love You     3.896352   \n",
            "2879  1265                        Bridge to Terabithia     3.879848   \n",
            "3511  7445                                    Brothers     3.806181   \n",
            "2512   921                              Cinderella Man     3.786230   \n",
            "2777  1948                                       Crank     3.769618   \n",
            "2515   272                               Batman Begins     3.737873   \n",
            "\n",
            "      rating_count  vote_count  \n",
            "2908          2301      2080.0  \n",
            "2864          3651       553.0  \n",
            "2733         13347      5380.0  \n",
            "2634          1039      1134.0  \n",
            "3123           603      1011.0  \n",
            "2879         38672      1146.0  \n",
            "3511          7280       650.0  \n",
            "2512          2491       630.0  \n",
            "2777          1389      1172.0  \n",
            "2515          8370      7511.0  \n"
          ]
        }
      ]
    },
    {
      "cell_type": "code",
      "source": [
        "import pandas as pd\n",
        "\n",
        "# Leggi i file necessari\n",
        "ratings = pd.read_csv('ratings.csv')\n",
        "movies_metadata = pd.read_csv('merged_movies_metadata_with_keywords_updated.csv')\n",
        "\n",
        "# Calcola il numero di valutazioni per ogni film nel file ratings.csv\n",
        "ratings_count = ratings.groupby('movieId').size().reset_index(name='rating_count')\n",
        "\n",
        "# Calcola la media delle valutazioni per ogni film nel file ratings.csv\n",
        "mean_ratings = ratings.groupby('movieId')['rating'].mean().reset_index(name='mean_rating')\n",
        "\n",
        "# Calcola la media del numero di valutazioni nel file ratings.csv\n",
        "media_ratings = ratings_count['rating_count'].mean()\n",
        "\n",
        "# Calcola il 97,5° percentile del numero di valutazioni nel file merged_movies_metadata_with_keywords_updated.csv\n",
        "percentile_97_5_votes_count = movies_metadata['vote_count'].quantile(0.975)\n",
        "\n",
        "# Unisci il numero di valutazioni e la media dei voti con il file dei film\n",
        "movies_above_avg_ratings = pd.merge(movies_metadata, ratings_count, left_on='id', right_on='movieId')\n",
        "movies_above_avg_ratings = pd.merge(movies_above_avg_ratings, mean_ratings, left_on='id', right_on='movieId')\n",
        "\n",
        "# Applica il filtro per il numero minimo di valutazioni in ratings.csv (>= alla media)\n",
        "movies_above_avg_ratings = movies_above_avg_ratings[movies_above_avg_ratings['rating_count'] >= media_ratings]\n",
        "\n",
        "# Applica il filtro per il numero di valutazioni in vote_count (>= al 97,5° percentile)\n",
        "movies_above_avg_ratings = movies_above_avg_ratings[movies_above_avg_ratings['vote_count'] >= percentile_97_5_votes_count]\n",
        "\n",
        "# Filtra per i film usciti dopo il 2005\n",
        "movies_post_2005 = movies_above_avg_ratings[movies_above_avg_ratings['year'] >= 2005]\n",
        "\n",
        "# Filtro per il criterio della media del voto +- 0.5\n",
        "condition_media = (movies_post_2005['mean_rating'] >= (movies_post_2005['vote_average_normalized'] - 0.5)) & \\\n",
        "                  (movies_post_2005['mean_rating'] <= (movies_post_2005['vote_average_normalized'] + 0.5))\n",
        "\n",
        "# Applica il filtro\n",
        "filtered_movies = movies_post_2005[condition_media]\n",
        "\n",
        "# Ordina per la media del voto e seleziona i migliori 10\n",
        "top_10_movies = filtered_movies.nlargest(10, 'mean_rating')\n",
        "\n",
        "# Mostra la lista dei 10 film più popolari\n",
        "print(top_10_movies[['id', 'title', 'mean_rating', 'rating_count', 'vote_count']])\n",
        "\n",
        "# Esportare il risultato in un file CSV se necessario\n",
        "top_10_movies.to_csv('top_10_movies_2005_media_percentile_97_5.csv', index=False)\n"
      ],
      "metadata": {
        "colab": {
          "base_uri": "https://localhost:8080/"
        },
        "id": "jkZ4XbF4A7tN",
        "outputId": "033957c8-d149-40b1-dcef-c80c39100277"
      },
      "execution_count": 58,
      "outputs": [
        {
          "output_type": "stream",
          "name": "stdout",
          "text": [
            "        id                                       title  mean_rating  \\\n",
            "2908  1949                                      Zodiac     4.110604   \n",
            "2733    58  Pirates of the Caribbean: Dead Man's Chest     3.965011   \n",
            "2634   116                                 Match Point     3.920597   \n",
            "3123  6023                             P.S. I Love You     3.896352   \n",
            "2879  1265                        Bridge to Terabithia     3.879848   \n",
            "2777  1948                                       Crank     3.769618   \n",
            "2515   272                               Batman Begins     3.737873   \n",
            "3519  7980                            The Lovely Bones     3.734615   \n",
            "3095  5876                                    The Mist     3.732491   \n",
            "2913  1271                                         300     3.726079   \n",
            "\n",
            "      rating_count  vote_count  \n",
            "2908          2301      2080.0  \n",
            "2733         13347      5380.0  \n",
            "2634          1039      1134.0  \n",
            "3123           603      1011.0  \n",
            "2879         38672      1146.0  \n",
            "2777          1389      1172.0  \n",
            "2515          8370      7511.0  \n",
            "3519          1300      1101.0  \n",
            "3095          1899      1438.0  \n",
            "2913         10357      5092.0  \n"
          ]
        }
      ]
    },
    {
      "cell_type": "code",
      "source": [
        "import pandas as pd\n",
        "\n",
        "# Leggi il file ratings.csv\n",
        "ratings = pd.read_csv('ratings.csv')\n",
        "\n",
        "# Calcola il numero di valutazioni per ogni film\n",
        "ratings_count = ratings.groupby('movieId').size().reset_index(name='rating_count')\n",
        "\n",
        "# Totale dei film\n",
        "total_movies = len(ratings_count)\n",
        "\n",
        "# Film con più di 500 valutazioni\n",
        "over_500 = ratings_count[ratings_count['rating_count'] > 500].shape[0]\n",
        "percent_over_500 = (over_500 / total_movies) * 100\n",
        "\n",
        "# Film con più di 1000 valutazioni\n",
        "over_1000 = ratings_count[ratings_count['rating_count'] > 1000].shape[0]\n",
        "percent_over_1000 = (over_1000 / total_movies) * 100\n",
        "\n",
        "# Film con più di 5000 valutazioni\n",
        "over_5000 = ratings_count[ratings_count['rating_count'] > 5000].shape[0]\n",
        "percent_over_5000 = (over_5000 / total_movies) * 100\n",
        "\n",
        "# Stampa i risultati\n",
        "print(f\"Film con più di 500 valutazioni: {over_500} ({percent_over_500:.2f}% del totale)\")\n",
        "print(f\"Film con più di 1000 valutazioni: {over_1000} ({percent_over_1000:.2f}% del totale)\")\n",
        "print(f\"Film con più di 5000 valutazioni: {over_5000} ({percent_over_5000:.2f}% del totale)\")\n"
      ],
      "metadata": {
        "colab": {
          "base_uri": "https://localhost:8080/"
        },
        "id": "IUzMY6HbCtTR",
        "outputId": "da6abfae-ee05-4de3-dabf-33a6cee18ced"
      },
      "execution_count": 60,
      "outputs": [
        {
          "output_type": "stream",
          "name": "stdout",
          "text": [
            "Film con più di 500 valutazioni: 5291 (11.73% del totale)\n",
            "Film con più di 1000 valutazioni: 3744 (8.30% del totale)\n",
            "Film con più di 5000 valutazioni: 1270 (2.82% del totale)\n"
          ]
        }
      ]
    },
    {
      "cell_type": "code",
      "source": [
        "import pandas as pd\n",
        "\n",
        "# Leggi i file necessari\n",
        "ratings = pd.read_csv('ratings.csv')\n",
        "movies_metadata = pd.read_csv('merged_movies_metadata_with_keywords_updated.csv')\n",
        "\n",
        "# Calcola il numero di valutazioni per ogni film nel file ratings.csv\n",
        "ratings_count = ratings.groupby('movieId').size().reset_index(name='rating_count')\n",
        "\n",
        "# Calcola la media delle valutazioni per ogni film nel file ratings.csv\n",
        "mean_ratings = ratings.groupby('movieId')['rating'].mean().reset_index(name='mean_rating')\n",
        "\n",
        "# Calcola il 95° percentile del numero di valutazioni nel file ratings.csv\n",
        "percentile_95_ratings = ratings_count['rating_count'].quantile(0.95)\n",
        "\n",
        "# Calcola il 95° percentile del numero di valutazioni (vote_count) nel file merged_movies_metadata_with_keywords_updated.csv\n",
        "percentile_95_votes_count = movies_metadata['vote_count'].quantile(0.95)\n",
        "\n",
        "# Unisci il numero di valutazioni e la media dei voti con il file dei film\n",
        "movies_above_percentile = pd.merge(movies_metadata, ratings_count, left_on='id', right_on='movieId')\n",
        "movies_above_percentile = pd.merge(movies_above_percentile, mean_ratings, left_on='id', right_on='movieId')\n",
        "\n",
        "# Applica il filtro per il numero di valutazioni in ratings.csv (>= al 95° percentile)\n",
        "movies_above_percentile = movies_above_percentile[movies_above_percentile['rating_count'] >= percentile_95_ratings]\n",
        "\n",
        "# Applica il filtro per il numero di valutazioni in vote_count (>= al 95° percentile)\n",
        "movies_above_percentile = movies_above_percentile[movies_above_percentile['vote_count'] >= percentile_95_votes_count]\n",
        "\n",
        "# Filtra per i film usciti dopo il 2005\n",
        "movies_post_2005 = movies_above_percentile[movies_above_percentile['year'] >= 2005]\n",
        "\n",
        "# Filtro per il criterio della media del voto +- 0.5\n",
        "condition_media = (movies_post_2005['mean_rating'] >= (movies_post_2005['vote_average_normalized'] - 0.5)) & \\\n",
        "                  (movies_post_2005['mean_rating'] <= (movies_post_2005['vote_average_normalized'] + 0.5))\n",
        "\n",
        "# Applica il filtro\n",
        "filtered_movies = movies_post_2005[condition_media]\n",
        "\n",
        "# Ordina per la media del voto e seleziona i migliori 10\n",
        "top_10_movies = filtered_movies.nlargest(10, 'mean_rating')\n",
        "\n",
        "# Mostra la lista dei 10 film più popolari\n",
        "print(top_10_movies[['id', 'title', 'mean_rating', 'rating_count', 'vote_count']])\n",
        "\n",
        "# Esportare il risultato in un file CSV se necessario\n",
        "top_10_movies.to_csv('top_10_movies_2005_percentile_95_both.csv', index=False)\n"
      ],
      "metadata": {
        "colab": {
          "base_uri": "https://localhost:8080/"
        },
        "id": "LjTm3LZ3Dsu3",
        "outputId": "3a9cb7ba-115a-456f-9954-b2e4939f663d"
      },
      "execution_count": 61,
      "outputs": [
        {
          "output_type": "stream",
          "name": "stdout",
          "text": [
            "        id                                       title  mean_rating  \\\n",
            "2908  1949                                      Zodiac     4.110604   \n",
            "2864  1251                       Letters from Iwo Jima     4.022186   \n",
            "2733    58  Pirates of the Caribbean: Dead Man's Chest     3.965011   \n",
            "2879  1265                        Bridge to Terabithia     3.879848   \n",
            "3511  7445                                    Brothers     3.806181   \n",
            "2512   921                              Cinderella Man     3.786230   \n",
            "2515   272                               Batman Begins     3.737873   \n",
            "2913  1271                                         300     3.726079   \n",
            "2830  1124                                The Prestige     3.687686   \n",
            "2614    25                                     Jarhead     3.667513   \n",
            "\n",
            "      rating_count  vote_count  \n",
            "2908          2301      2080.0  \n",
            "2864          3651       553.0  \n",
            "2733         13347      5380.0  \n",
            "2879         38672      1146.0  \n",
            "3511          7280       650.0  \n",
            "2512          2491       630.0  \n",
            "2515          8370      7511.0  \n",
            "2913         10357      5092.0  \n",
            "2830          5035      4510.0  \n",
            "2614         24619       776.0  \n"
          ]
        }
      ]
    },
    {
      "cell_type": "code",
      "source": [
        "import pandas as pd\n",
        "\n",
        "# Leggi i file necessari\n",
        "ratings = pd.read_csv('ratings.csv')\n",
        "movies_metadata = pd.read_csv('merged_movies_metadata_with_keywords_updated.csv')\n",
        "\n",
        "# Calcola il numero di valutazioni per ogni film nel file ratings.csv\n",
        "ratings_count = ratings.groupby('movieId').size().reset_index(name='rating_count')\n",
        "\n",
        "# Calcola la media delle valutazioni per ogni film nel file ratings.csv\n",
        "mean_ratings = ratings.groupby('movieId')['rating'].mean().reset_index(name='mean_rating')\n",
        "\n",
        "# Calcola il 95° percentile del numero di valutazioni nel file ratings.csv\n",
        "percentile_95_ratings = ratings_count['rating_count'].quantile(0.95)\n",
        "\n",
        "# Calcola il 95° percentile del numero di valutazioni (vote_count) nel file merged_movies_metadata_with_keywords_updated.csv\n",
        "percentile_95_votes_count = movies_metadata['vote_count'].quantile(0.95)\n",
        "\n",
        "# Unisci il numero di valutazioni e la media dei voti con il file dei film\n",
        "movies_above_percentile = pd.merge(movies_metadata, ratings_count, left_on='id', right_on='movieId')\n",
        "movies_above_percentile = pd.merge(movies_above_percentile, mean_ratings, left_on='id', right_on='movieId')\n",
        "\n",
        "# Applica il filtro per il numero di valutazioni in ratings.csv (>= al 95° percentile)\n",
        "movies_above_percentile = movies_above_percentile[movies_above_percentile['rating_count'] >= percentile_95_ratings]\n",
        "\n",
        "# Applica il filtro per il numero di valutazioni in vote_count (>= al 95° percentile)\n",
        "movies_above_percentile = movies_above_percentile[movies_above_percentile['vote_count'] >= percentile_95_votes_count]\n",
        "\n",
        "# Filtra per i film usciti dopo il 1995\n",
        "movies_post_1995 = movies_above_percentile[movies_above_percentile['year'] >= 1995]\n",
        "\n",
        "# Filtro per il criterio della media del voto +- 0.5\n",
        "condition_media = (movies_post_1995['mean_rating'] >= (movies_post_1995['vote_average_normalized'] - 0.5)) & \\\n",
        "                  (movies_post_1995['mean_rating'] <= (movies_post_1995['vote_average_normalized'] + 0.5))\n",
        "\n",
        "# Applica il filtro\n",
        "filtered_movies = movies_post_1995[condition_media]\n",
        "\n",
        "# Ordina per la media del voto e seleziona i migliori 10\n",
        "top_10_movies = filtered_movies.nlargest(10, 'mean_rating')\n",
        "\n",
        "# Mostra la lista dei 10 film più popolari\n",
        "print(top_10_movies[['id', 'title', 'mean_rating', 'rating_count', 'vote_count']])\n",
        "\n",
        "# Esportare il risultato in un file CSV se necessario\n",
        "top_10_movies.to_csv('top_10_movies_1995_percentile_95_both.csv', index=False)\n"
      ],
      "metadata": {
        "colab": {
          "base_uri": "https://localhost:8080/"
        },
        "id": "RDU3VEcxEc0f",
        "outputId": "a1a509dc-561f-4eda-bb9e-515b8789dd59"
      },
      "execution_count": 62,
      "outputs": [
        {
          "output_type": "stream",
          "name": "stdout",
          "text": [
            "        id                                       title  mean_rating  \\\n",
            "798    745                             The Sixth Sense     4.112609   \n",
            "2908  1949                                      Zodiac     4.110604   \n",
            "2864  1251                       Letters from Iwo Jima     4.022186   \n",
            "2096  2502                        The Bourne Supremacy     3.978199   \n",
            "1880  1278                                The Dreamers     3.968559   \n",
            "2733    58  Pirates of the Caribbean: Dead Man's Chest     3.965011   \n",
            "497   4995                               Boogie Nights     3.957019   \n",
            "2      949                                        Heat     3.905544   \n",
            "2879  1265                        Bridge to Terabithia     3.879848   \n",
            "882    497                              The Green Mile     3.870980   \n",
            "\n",
            "      rating_count  vote_count  \n",
            "798          13649      3223.0  \n",
            "2908          2301      2080.0  \n",
            "2864          3651       553.0  \n",
            "2096         24678      2873.0  \n",
            "1880         17334       680.0  \n",
            "2733         13347      5380.0  \n",
            "497          31130       812.0  \n",
            "2             2345      1886.0  \n",
            "2879         38672      1146.0  \n",
            "882          15269      4166.0  \n"
          ]
        }
      ]
    },
    {
      "cell_type": "code",
      "source": [
        "import pandas as pd\n",
        "\n",
        "# Leggi i file necessari\n",
        "ratings = pd.read_csv('ratings.csv')\n",
        "movies_metadata = pd.read_csv('merged_movies_metadata_with_keywords_updated.csv')\n",
        "\n",
        "# Calcola il numero di valutazioni per ogni film nel file ratings.csv\n",
        "ratings_count = ratings.groupby('movieId').size().reset_index(name='rating_count')\n",
        "\n",
        "# Calcola la media delle valutazioni per ogni film nel file ratings.csv\n",
        "mean_ratings = ratings.groupby('movieId')['rating'].mean().reset_index(name='mean_rating')\n",
        "\n",
        "# Calcola il 95° percentile del numero di valutazioni nel file ratings.csv\n",
        "percentile_95_ratings = ratings_count['rating_count'].quantile(0.95)\n",
        "\n",
        "# Calcola il 95° percentile del numero di valutazioni (vote_count) nel file merged_movies_metadata_with_keywords_updated.csv\n",
        "percentile_95_votes_count = movies_metadata['vote_count'].quantile(0.95)\n",
        "\n",
        "# Unisci il numero di valutazioni e la media dei voti con il file dei film\n",
        "movies_above_percentile = pd.merge(movies_metadata, ratings_count, left_on='id', right_on='movieId')\n",
        "movies_above_percentile = pd.merge(movies_above_percentile, mean_ratings, left_on='id', right_on='movieId')\n",
        "\n",
        "# Applica il filtro per il numero di valutazioni in ratings.csv (>= al 95° percentile)\n",
        "movies_above_percentile = movies_above_percentile[movies_above_percentile['rating_count'] >= percentile_95_ratings]\n",
        "\n",
        "# Applica il filtro per il numero di valutazioni in vote_count (>= al 95° percentile)\n",
        "movies_above_percentile = movies_above_percentile[movies_above_percentile['vote_count'] >= percentile_95_votes_count]\n",
        "\n",
        "# Filtra per i film usciti dopo il 1995\n",
        "movies_post_1995 = movies_above_percentile[movies_above_percentile['year'] >= 1995]\n",
        "\n",
        "# Filtro per il criterio della media del voto +- 0.5\n",
        "condition_media = (movies_post_1995['mean_rating'] >= (movies_post_1995['vote_average_normalized'] - 0.5)) & \\\n",
        "                  (movies_post_1995['mean_rating'] <= (movies_post_1995['vote_average_normalized'] + 0.5))\n",
        "\n",
        "# Applica il filtro\n",
        "filtered_movies = movies_post_1995[condition_media]\n",
        "\n",
        "# Ordina per la media del voto e seleziona i migliori 10\n",
        "top_10_movies = filtered_movies.nlargest(10, 'mean_rating')\n",
        "\n",
        "# Mostra la lista dei 10 film più popolari\n",
        "print(top_10_movies[['id', 'title', 'mean_rating', 'rating_count', 'vote_count']])\n",
        "\n",
        "# Esportare il risultato in un file CSV se necessario\n",
        "top_10_movies.to_csv('top_10_movies_1995_percentile_95_both.csv', index=False)\n"
      ],
      "metadata": {
        "id": "WX0Dg4dSFARj"
      },
      "execution_count": null,
      "outputs": []
    },
    {
      "cell_type": "code",
      "source": [
        "import pandas as pd\n",
        "\n",
        "# Leggi i file necessari\n",
        "ratings = pd.read_csv('ratings.csv')\n",
        "movies_metadata = pd.read_csv('merged_movies_metadata_with_keywords_updated.csv')\n",
        "\n",
        "# Calcola il numero di valutazioni per ogni film nel file ratings.csv\n",
        "ratings_count = ratings.groupby('movieId').size().reset_index(name='rating_count')\n",
        "\n",
        "# Calcola la media delle valutazioni per ogni film nel file ratings.csv\n",
        "mean_ratings = ratings.groupby('movieId')['rating'].mean().reset_index(name='mean_rating')\n",
        "\n",
        "# Calcola il 97,5° percentile del numero di valutazioni nel file ratings.csv\n",
        "percentile_97_5_ratings = ratings_count['rating_count'].quantile(0.975)\n",
        "\n",
        "# Calcola il 95° percentile del numero di valutazioni (vote_count) nel file merged_movies_metadata_with_keywords_updated.csv\n",
        "percentile_95_votes_count = movies_metadata['vote_count'].quantile(0.95)\n",
        "\n",
        "# Unisci il numero di valutazioni e la media dei voti con il file dei film\n",
        "movies_above_percentile = pd.merge(movies_metadata, ratings_count, left_on='id', right_on='movieId')\n",
        "movies_above_percentile = pd.merge(movies_above_percentile, mean_ratings, left_on='id', right_on='movieId')\n",
        "\n",
        "# Applica il filtro per il numero di valutazioni in ratings.csv (>= al 97,5° percentile)\n",
        "movies_above_percentile = movies_above_percentile[movies_above_percentile['rating_count'] >= percentile_97_5_ratings]\n",
        "\n",
        "# Applica il filtro per il numero di valutazioni in vote_count (>= al 95° percentile)\n",
        "movies_above_percentile = movies_above_percentile[movies_above_percentile['vote_count'] >= percentile_95_votes_count]\n",
        "\n",
        "# Filtra per i film usciti dopo il 2005\n",
        "movies_post_2005 = movies_above_percentile[movies_above_percentile['year'] >= 2005]\n",
        "\n",
        "# Filtro per il criterio della media del voto +- 0.5\n",
        "condition_media = (movies_post_2005['mean_rating'] >= (movies_post_2005['vote_average_normalized'] - 0.5)) & \\\n",
        "                  (movies_post_2005['mean_rating'] <= (movies_post_2005['vote_average_normalized'] + 0.5))\n",
        "\n",
        "# Applica il filtro\n",
        "filtered_movies = movies_post_2005[condition_media]\n",
        "\n",
        "# Ordina per la media del voto e seleziona i migliori 10\n",
        "top_10_movies = filtered_movies.nlargest(10, 'mean_rating')\n",
        "\n",
        "# Mostra la lista dei 10 film più popolari\n",
        "print(top_10_movies[['id', 'title', 'mean_rating', 'rating_count', 'vote_count']])\n",
        "\n",
        "# Esportare il risultato in un file CSV se necessario\n",
        "top_10_movies.to_csv('top_10_movies_2005_percentile_97_5_ratings_95_votes.csv', index=False)\n"
      ],
      "metadata": {
        "colab": {
          "base_uri": "https://localhost:8080/"
        },
        "id": "uZAbXZXWGNrd",
        "outputId": "3c980834-b265-4f8f-c318-0b054da685ef"
      },
      "execution_count": 65,
      "outputs": [
        {
          "output_type": "stream",
          "name": "stdout",
          "text": [
            "        id                                       title  mean_rating  \\\n",
            "2733    58  Pirates of the Caribbean: Dead Man's Chest     3.965011   \n",
            "2879  1265                        Bridge to Terabithia     3.879848   \n",
            "3511  7445                                    Brothers     3.806181   \n",
            "2515   272                               Batman Begins     3.737873   \n",
            "2913  1271                                         300     3.726079   \n",
            "2614    25                                     Jarhead     3.667513   \n",
            "3395  2080                    X-Men Origins: Wolverine     3.571165   \n",
            "3061  2011                                  Persepolis     3.505491   \n",
            "2732   350                       The Devil Wears Prada     3.465261   \n",
            "2849  1372                               Blood Diamond     3.295603   \n",
            "\n",
            "      rating_count  vote_count  \n",
            "2733         13347      5380.0  \n",
            "2879         38672      1146.0  \n",
            "3511          7280       650.0  \n",
            "2515          8370      7511.0  \n",
            "2913         10357      5092.0  \n",
            "2614         24619       776.0  \n",
            "3395         12211      4086.0  \n",
            "3061         24040       461.0  \n",
            "2732         16811      3198.0  \n",
            "2849         12439      2344.0  \n"
          ]
        }
      ]
    }
  ]
}